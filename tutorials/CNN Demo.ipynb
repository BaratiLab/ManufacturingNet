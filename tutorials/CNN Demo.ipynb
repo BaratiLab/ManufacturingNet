{
 "cells": [
  {
   "cell_type": "markdown",
   "metadata": {},
   "source": [
    "# ManufacturingNet Demo"
   ]
  },
  {
   "cell_type": "markdown",
   "metadata": {},
   "source": [
    "# Importing all the required files"
   ]
  },
  {
   "cell_type": "code",
   "execution_count": 1,
   "metadata": {},
   "outputs": [],
   "source": [
    "import numpy as np\n",
    "from ManufacturingNet.models.CNN import CNN2DSignal\n",
    "from ManufacturingNet.datasets import datasets"
   ]
  },
  {
   "cell_type": "markdown",
   "metadata": {},
   "source": [
    "# Importing the data"
   ]
  },
  {
   "cell_type": "code",
   "execution_count": 2,
   "metadata": {},
   "outputs": [
    {
     "name": "stderr",
     "output_type": "stream",
     "text": [
      "Downloading...\n",
      "From: https://drive.google.com/uc?id=1nUjYdpJkEmjJTzG0j8EBZ9vQul0sedqk\n",
      "To: /home/cmu/ManufacturingNet/tutorials/CWRUBearingData.zip\n",
      "100%|██████████| 13.4M/13.4M [00:00<00:00, 14.2MB/s]\n"
     ]
    }
   ],
   "source": [
    "datasets.CWRUBearingData()"
   ]
  },
  {
   "cell_type": "code",
   "execution_count": 3,
   "metadata": {},
   "outputs": [
    {
     "data": {
      "text/plain": [
       "((2800, 1, 40, 40), (2800,))"
      ]
     },
     "execution_count": 3,
     "metadata": {},
     "output_type": "execute_result"
    }
   ],
   "source": [
    "X = np.load('CWRU/signal_data.npy')\n",
    "X = X.reshape(len(X),1,40,40)\n",
    "labels = np.load('CWRU/signal_data_labels.npy')\n",
    "X.shape, labels.shape"
   ]
  },
  {
   "cell_type": "markdown",
   "metadata": {},
   "source": [
    "# Convolutional Neural Network"
   ]
  },
  {
   "cell_type": "markdown",
   "metadata": {},
   "source": [
    "#### Create NET object to be passed for model"
   ]
  },
  {
   "cell_type": "code",
   "execution_count": 4,
   "metadata": {},
   "outputs": [
    {
     "name": "stdout",
     "output_type": "stream",
     "text": [
      "1/15 - Get 2D folded signal Size\n",
      "Image:  40 40\n",
      "=========================\n",
      "2/15 - Number of Convolutions\n",
      "Please enter valid number of convolutions.  The value must be an integer and greater than zero\n",
      "Convolutions:  1\n",
      "=========================\n",
      "3/15 - Channels\n",
      "Channels:  [1, 1]\n",
      "=========================\n",
      "4/15 - Kernels\n",
      "Please enter valid input it should only be (y or n)\n",
      "Please enter valid input it should only be (y or n)\n",
      "Kernel sizes:  [(3, 3)]\n",
      "=========================\n",
      "5/15 - Padding and Stride\n",
      "Padding:  [(0, 0)]\n",
      "Stride:  [(1, 1)]\n",
      "=========================\n",
      "6/15 - Dropout\n",
      "Dropout ratio:  0.0\n",
      "=========================\n",
      "7/15 - Max Pooling\n",
      "Pooling Layers:  [1]\n",
      "Pooling Size:  [(2, 2)]\n",
      "Pooling Stride [(2, 2)]\n",
      "=========================\n",
      "8/15 - Batch Normalization\n",
      "Batch normalization [1]\n",
      "=========================\n",
      "9/15 - Number of classes\n",
      "=========================\n",
      "Shapes after the Convolutions [(19, 19)]\n",
      "=========================\n",
      "10/15 - Batch size input\n",
      "Batch Size:  1\n",
      "=========================\n",
      "11/15 - Validation set size\n",
      "Default value selected\n",
      "Validation set ratio:  0.2\n",
      "=========================\n",
      "12/15 - Loss function\n",
      "Please enter a valid numeric input\n",
      "Please enter a valid numeric input\n",
      "Loss Function:  CrossEntropyLoss()\n",
      "=========================\n",
      "13/15 - Optimizer\n",
      "Default value selected\n",
      "Optimizer:  Adam (\n",
      "Parameter Group 0\n",
      "    amsgrad: False\n",
      "    betas: (0.9, 0.999)\n",
      "    capturable: False\n",
      "    differentiable: False\n",
      "    eps: 1e-08\n",
      "    foreach: None\n",
      "    fused: None\n",
      "    lr: 0.001\n",
      "    maximize: False\n",
      "    weight_decay: 0\n",
      ")\n",
      "=========================\n",
      "14/15 - Scheduler\n",
      "By default no scheduler selected\n",
      "Scheduler:  None\n",
      "=========================\n",
      "15/15 - Number of epochs\n",
      "Epochs:  10\n",
      "CNN2D(\n",
      "  (ConvNet): Sequential(\n",
      "    (0): CNNBlock(\n",
      "      (conv1): Conv2d(1, 1, kernel_size=(3, 3), stride=(1, 1))\n",
      "      (relu): ReLU(inplace=True)\n",
      "      (bn1): BatchNorm2d(1, eps=1e-05, momentum=0.1, affine=True, track_running_stats=True)\n",
      "      (pool): MaxPool2d(kernel_size=(2, 2), stride=(2, 2), padding=0, dilation=1, ceil_mode=False)\n",
      "    )\n",
      "    (1): Linear(in_features=361, out_features=180, bias=True)\n",
      "    (2): Linear(in_features=180, out_features=90, bias=True)\n",
      "    (3): Dropout(p=0.0, inplace=False)\n",
      "    (4): Linear(in_features=90, out_features=10, bias=True)\n",
      "  )\n",
      ")\n",
      "=========================\n",
      "Neural network architecture: \n",
      " \n",
      "CNN2D(\n",
      "  (ConvNet): Sequential(\n",
      "    (0): CNNBlock(\n",
      "      (conv1): Conv2d(1, 1, kernel_size=(3, 3), stride=(1, 1))\n",
      "      (relu): ReLU(inplace=True)\n",
      "      (bn1): BatchNorm2d(1, eps=1e-05, momentum=0.1, affine=True, track_running_stats=True)\n",
      "      (pool): MaxPool2d(kernel_size=(2, 2), stride=(2, 2), padding=0, dilation=1, ceil_mode=False)\n",
      "    )\n",
      "    (1): Linear(in_features=361, out_features=180, bias=True)\n",
      "    (2): Linear(in_features=180, out_features=90, bias=True)\n",
      "    (3): Dropout(p=0.0, inplace=False)\n",
      "    (4): Linear(in_features=90, out_features=10, bias=True)\n",
      "  )\n",
      ")\n",
      "=========================\n",
      "Model Summary:\n",
      " \n",
      "Criterion:  CrossEntropyLoss()\n",
      "Optimizer:  Adam (\n",
      "Parameter Group 0\n",
      "    amsgrad: False\n",
      "    betas: (0.9, 0.999)\n",
      "    capturable: False\n",
      "    differentiable: False\n",
      "    eps: 1e-08\n",
      "    foreach: None\n",
      "    fused: None\n",
      "    lr: 0.001\n",
      "    maximize: False\n",
      "    weight_decay: 0\n",
      ")\n",
      "Scheduler:  None\n",
      "Validation set size:  0.2\n",
      "Batch size:  1\n",
      "Initial learning rate:  0.001\n",
      "Number of training epochs:  10\n",
      "Device:  cuda\n",
      " \n",
      "=========================\n",
      "Training the model...\n"
     ]
    },
    {
     "name": "stderr",
     "output_type": "stream",
     "text": [
      "  0%|          | 0/10 [00:00<?, ?epoch/s]"
     ]
    },
    {
     "name": "stdout",
     "output_type": "stream",
     "text": [
      "Epoch_Number:  0\n",
      "Training Loss:  2.3562722738620856\n",
      "Training Accuracy:  11.5625 %\n"
     ]
    },
    {
     "name": "stderr",
     "output_type": "stream",
     "text": [
      " 10%|█         | 1/10 [00:04<00:39,  4.37s/epoch]"
     ]
    },
    {
     "name": "stdout",
     "output_type": "stream",
     "text": [
      "Validation Loss:  2.400630053281797\n",
      "Validation Accuracy:  5.178571428571429 %\n",
      "Epoch Time:  4.369887351989746 s\n",
      "##################################################\n",
      "Epoch_Number:  1\n",
      "Training Loss:  2.2548718602292883\n",
      "Training Accuracy:  12.834821428571427 %\n"
     ]
    },
    {
     "name": "stderr",
     "output_type": "stream",
     "text": [
      " 20%|██        | 2/10 [00:07<00:31,  3.90s/epoch]"
     ]
    },
    {
     "name": "stdout",
     "output_type": "stream",
     "text": [
      "Validation Loss:  5.118142653173688\n",
      "Validation Accuracy:  10.535714285714286 %\n",
      "Epoch Time:  3.5689902305603027 s\n",
      "##################################################\n",
      "Epoch_Number:  2\n",
      "Training Loss:  2.031317417242472\n",
      "Training Accuracy:  16.026785714285715 %\n"
     ]
    },
    {
     "name": "stderr",
     "output_type": "stream",
     "text": [
      " 30%|███       | 3/10 [00:11<00:26,  3.77s/epoch]"
     ]
    },
    {
     "name": "stdout",
     "output_type": "stream",
     "text": [
      "Validation Loss:  13.367055162106592\n",
      "Validation Accuracy:  8.75 %\n",
      "Epoch Time:  3.6179769039154053 s\n",
      "##################################################\n",
      "Epoch_Number:  3\n",
      "Training Loss:  1.8290329876631037\n",
      "Training Accuracy:  19.542410714285715 %\n"
     ]
    },
    {
     "name": "stderr",
     "output_type": "stream",
     "text": [
      " 40%|████      | 4/10 [00:15<00:22,  3.71s/epoch]"
     ]
    },
    {
     "name": "stdout",
     "output_type": "stream",
     "text": [
      "Validation Loss:  20.386739860036215\n",
      "Validation Accuracy:  11.071428571428571 %\n",
      "Epoch Time:  3.615041732788086 s\n",
      "##################################################\n",
      "Epoch_Number:  4\n",
      "Training Loss:  1.675135420896934\n",
      "Training Accuracy:  22.357142857142858 %\n"
     ]
    },
    {
     "name": "stderr",
     "output_type": "stream",
     "text": [
      " 50%|█████     | 5/10 [00:18<00:18,  3.67s/epoch]"
     ]
    },
    {
     "name": "stdout",
     "output_type": "stream",
     "text": [
      "Validation Loss:  24.658312546582188\n",
      "Validation Accuracy:  11.25 %\n",
      "Epoch Time:  3.588560104370117 s\n",
      "##################################################\n",
      "Epoch_Number:  5\n",
      "Training Loss:  1.5983277322174045\n",
      "Training Accuracy:  24.642857142857146 %\n"
     ]
    },
    {
     "name": "stderr",
     "output_type": "stream",
     "text": [
      " 60%|██████    | 6/10 [00:22<00:14,  3.63s/epoch]"
     ]
    },
    {
     "name": "stdout",
     "output_type": "stream",
     "text": [
      "Validation Loss:  49.30178580995873\n",
      "Validation Accuracy:  9.464285714285714 %\n",
      "Epoch Time:  3.571157932281494 s\n",
      "##################################################\n",
      "Epoch_Number:  6\n",
      "Training Loss:  1.5338510989878595\n",
      "Training Accuracy:  26.823979591836732 %\n"
     ]
    },
    {
     "name": "stderr",
     "output_type": "stream",
     "text": [
      " 70%|███████   | 7/10 [00:25<00:10,  3.62s/epoch]"
     ]
    },
    {
     "name": "stdout",
     "output_type": "stream",
     "text": [
      "Validation Loss:  34.44867674767323\n",
      "Validation Accuracy:  11.071428571428571 %\n",
      "Epoch Time:  3.5880675315856934 s\n",
      "##################################################\n",
      "Epoch_Number:  7\n",
      "Training Loss:  1.480887751690241\n",
      "Training Accuracy:  28.666294642857142 %\n"
     ]
    },
    {
     "name": "stderr",
     "output_type": "stream",
     "text": [
      " 80%|████████  | 8/10 [00:29<00:07,  3.59s/epoch]"
     ]
    },
    {
     "name": "stdout",
     "output_type": "stream",
     "text": [
      "Validation Loss:  48.82656927397991\n",
      "Validation Accuracy:  10.535714285714286 %\n",
      "Epoch Time:  3.512300491333008 s\n",
      "##################################################\n",
      "Epoch_Number:  8\n",
      "Training Loss:  1.444141514091462\n",
      "Training Accuracy:  30.25297619047619 %\n"
     ]
    },
    {
     "name": "stderr",
     "output_type": "stream",
     "text": [
      " 90%|█████████ | 9/10 [00:32<00:03,  3.56s/epoch]"
     ]
    },
    {
     "name": "stdout",
     "output_type": "stream",
     "text": [
      "Validation Loss:  40.40216289907676\n",
      "Validation Accuracy:  10.892857142857142 %\n",
      "Epoch Time:  3.5141613483428955 s\n",
      "##################################################\n",
      "Epoch_Number:  9\n",
      "Training Loss:  1.4114795830823341\n",
      "Training Accuracy:  31.84821428571429 %\n"
     ]
    },
    {
     "name": "stderr",
     "output_type": "stream",
     "text": [
      "100%|██████████| 10/10 [00:36<00:00,  3.65s/epoch]"
     ]
    },
    {
     "name": "stdout",
     "output_type": "stream",
     "text": [
      "Validation Loss:  40.95982942510072\n",
      "Validation Accuracy:  11.607142857142858 %\n",
      "Epoch Time:  3.5031511783599854 s\n",
      "##################################################\n"
     ]
    },
    {
     "name": "stderr",
     "output_type": "stream",
     "text": [
      "\n"
     ]
    },
    {
     "name": "stdout",
     "output_type": "stream",
     "text": [
      "Confusion Matix: \n",
      "[[ 0  0  0  1  0  0 40 55  0  2]\n",
      " [ 0  0  0  2  0  0  0  0  0  6]\n",
      " [ 0  0  0  0  0  0  0  0  0  6]\n",
      " [ 0  0  0  1  0  0  0  0  0  2]\n",
      " [ 0  0  0  1  0  0  0  0  0  0]\n",
      " [49 54 66 52 56 59  0  0 64 24]\n",
      " [ 0  0  0  1  0  1  0  0  0  4]\n",
      " [ 0  0  0  0  0  0  0  0  0  1]\n",
      " [ 0  0  0  1  0  0  0  0  0  2]\n",
      " [ 0  0  0  4  0  1  0  0  0  5]]\n",
      "=========================\n",
      " Call get_prediction() to make predictions on new data\n",
      " \n",
      "=== End of training ===\n"
     ]
    },
    {
     "data": {
      "image/png": "[encoded data removed]",
      "text/plain": [
       "<Figure size 800x800 with 1 Axes>"
      ]
     },
     "metadata": {},
     "output_type": "display_data"
    },
    {
     "data": {
      "image/png": "[encoded data removed]",
      "text/plain": [
       "<Figure size 800x800 with 1 Axes>"
      ]
     },
     "metadata": {},
     "output_type": "display_data"
    }
   ],
   "source": [
    "net = CNN2DSignal(X, labels)"
   ]
  }
 ],
 "metadata": {
  "kernelspec": {
   "display_name": "test1",
   "language": "python",
   "name": "python3"
  },
  "language_info": {
   "codemirror_mode": {
    "name": "ipython",
    "version": 3
   },
   "file_extension": ".py",
   "mimetype": "text/x-python",
   "name": "python",
   "nbconvert_exporter": "python",
   "pygments_lexer": "ipython3",
   "version": "3.8.16"
  },
  "vscode": {
   "interpreter": {
    "hash": "c8cb1641db4323876bcee260c4cade3d84b6bd1f2f37e393e30908b5c856e91a"
   }
  }
 },
 "nbformat": 4,
 "nbformat_minor": 4
}
