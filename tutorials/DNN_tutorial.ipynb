{
 "cells": [
  {
   "cell_type": "markdown",
   "metadata": {},
   "source": [
    "# Developing a fully connected Neural network using ManufacturingNet\n",
    "###### To know more about the manufacturingnet please visit: http://manufacturingnet.io/ "
   ]
  },
  {
   "cell_type": "code",
   "execution_count": 1,
   "metadata": {},
   "outputs": [],
   "source": [
    "import ManufacturingNet\n",
    "import numpy as np"
   ]
  },
  {
   "cell_type": "markdown",
   "metadata": {},
   "source": [
    "First we import manufacturingnet. Using manufacturingnet we can create deep learning models with greater ease.\n",
    "\n",
    "\n",
    "\n",
    "It is important to note that all the dependencies of the package must also be installed in your environment "
   ]
  },
  {
   "cell_type": "markdown",
   "metadata": {},
   "source": [
    "##### Now we first need to download the data. You can use our dataset class where we have curated different types of datasets and you just need to run two lines of code to download the data :)"
   ]
  },
  {
   "cell_type": "code",
   "execution_count": 2,
   "metadata": {},
   "outputs": [],
   "source": [
    "from ManufacturingNet import datasets"
   ]
  },
  {
   "cell_type": "code",
   "execution_count": 3,
   "metadata": {},
   "outputs": [],
   "source": [
    "datasets.CWRUBearingData()"
   ]
  },
  {
   "cell_type": "markdown",
   "metadata": {},
   "source": [
    "###### Alright! Now please check your working directory. The data should be present inside it. That was super easy !!"
   ]
  },
  {
   "cell_type": "markdown",
   "metadata": {},
   "source": [
    "The CWRU dataset is a vibration signals dataset with 10 classes. The task that we need to perform using neural network is classification. We are using the featurized data in this case you can used the raw data too. ManufacturingNet has also provided different datasets in the package which the user can choose depending on type of application"
   ]
  },
  {
   "cell_type": "code",
   "execution_count": 4,
   "metadata": {},
   "outputs": [],
   "source": [
    "# Lets load the data\n",
    "X =  np.load('./CWRU/featurized_data.npy', allow_pickle = True)\n",
    "Y = np.load('./CWRU/featurized_data_labels.npy', allow_pickle = True)"
   ]
  },
  {
   "cell_type": "markdown",
   "metadata": {},
   "source": [
    "#### Now all we got to do is import the fully connected neural class and answer a few simple questions and we will be all set. The manufacturingnet has been designed in a way to make things easy for user and provide them the tools to implement complex used"
   ]
  },
  {
   "cell_type": "code",
   "execution_count": 5,
   "metadata": {},
   "outputs": [],
   "source": [
    "from ManufacturingNet.models import DNN"
   ]
  },
  {
   "cell_type": "markdown",
   "metadata": {},
   "source": [
    "###### We import the Deep Neural Network (DNN ) from package and answer a few simple questions"
   ]
  },
  {
   "cell_type": "code",
   "execution_count": 6,
   "metadata": {},
   "outputs": [
    {
     "name": "stdout",
     "output_type": "stream",
     "text": [
      "Do you want default values for all the parameters (y/n)? n\n",
      " \n",
      " \n",
      "1/10 - Number of layers and neurons\n",
      "Please enter the number of neurons int input for each layer including input and output layers sequentially: \n",
      " (Example: 14(input layer), 128, 64, 32, 10(output layer): 20,40,60,40,10\n",
      " \n",
      "=========================\n",
      "2/10 - Activation functions\n",
      "Please enter the activations for each hidden layer sequentially: \n",
      " Activation functions - \n",
      " [0: None, 1: ReLU, 2: LeakyReLU, \n",
      " 3: GELU(), 4: SELU(), 5: Sigmoid(), 6: Tanh()] \n",
      " (Example, for 3 hidden layers : 1, 1, 1) \n",
      " For default option of ReLU, please directly press enter without any input: 1,1,1\n",
      " \n",
      "=========================\n",
      "3/10 - Batch normalization\n",
      "Please enter 1 if batchnorm is required else enter 0 for each layer. \n",
      " (Example, for 3 hidden layers : 1, 1, 0) \n",
      " For default option of no batchnorm to any layer, please directly press enter without any input: \n",
      "By default, no batchnorm applied\n",
      " \n",
      "=========================\n",
      "4/10 - Dropout\n",
      "Please enter the dropout values between 0 and 1 for each hidden layer. \n",
      " For default option of no dropout in any layer, please directly press enter without any input: \n",
      "By default, no dropout added\n",
      " \n",
      "=========================\n",
      "5/10 - Batch size input\n",
      "Please enter the batch size int input (greater than 0): 32\n",
      " \n",
      "=========================\n",
      "6/10 - Validation set size\n",
      "Please enter the train set size float input (size > 0 and size < 1) \n",
      " For default size, please directly press enter without any input: 0.2\n",
      " \n",
      "=========================\n",
      "7/10 - Loss function\n",
      "Please enter the appropriate loss function index for the problem: \n",
      " Criterion_list - [1: CrossEntropyLoss, 2: L1Loss, 3: SmoothL1Loss, 4: MSELoss]: 1\n",
      " \n",
      "=========================\n",
      "8/10 - Optimizer\n",
      "Please enter the optimizer index for the problem \n",
      " Optimizer_list - [1: Adam, 2: SGD] \n",
      " For default optimizer, please directly press enter without any input: 1\n",
      " \n",
      "Please enter a required value float input for learning rate (learning rate > 0) \n",
      " For default learning rate, please directly press enter without any input: \n",
      "Default value for learning rate selected : 0.001\n",
      " \n",
      "=========================\n",
      "9/10 - Scheduler\n",
      "Please enter the scheduler index for the problem: Scheduler_list - [1: None, 2:StepLR, 3:MultiStepLR] \n",
      " For default option of no scheduler, please directly press enter without any input: \n",
      "By default no scheduler selected\n",
      " \n",
      "=========================\n",
      "10/10 - Number of epochs\n",
      "Please enter the number of epochs int input to train the model (number of epochs > 0): 20\n",
      " \n",
      "=========================\n",
      "Network architecture: \n",
      " \n",
      "DNN(\n",
      "  (net): Sequential(\n",
      "    (0): Linear(in_features=20, out_features=40, bias=True)\n",
      "    (1): ReLU()\n",
      "    (2): Dropout(p=0.0, inplace=False)\n",
      "    (3): Linear(in_features=40, out_features=60, bias=True)\n",
      "    (4): ReLU()\n",
      "    (5): Dropout(p=0.0, inplace=False)\n",
      "    (6): Linear(in_features=60, out_features=40, bias=True)\n",
      "    (7): ReLU()\n",
      "    (8): Dropout(p=0.0, inplace=False)\n",
      "    (9): Linear(in_features=40, out_features=10, bias=True)\n",
      "  )\n",
      ")\n",
      "=========================\n",
      "Model Summary:\n",
      " \n",
      "Criterion:  CrossEntropyLoss()\n",
      "Optimizer:  Adam (\n",
      "Parameter Group 0\n",
      "    amsgrad: False\n",
      "    betas: (0.9, 0.999)\n",
      "    eps: 1e-08\n",
      "    lr: 0.001\n",
      "    weight_decay: 0\n",
      ")\n",
      "Scheduler:  None\n",
      "Validation set size:  0.2\n",
      "Batch size:  32\n",
      "Initial learning rate:  0.001\n",
      "Number of training epochs:  20\n",
      "Device:  cuda\n",
      " \n",
      "=========================\n",
      "Training the model...\n",
      "Epoch_Number:  0\n",
      "Training Loss:  1.8316148717806437\n",
      "Training Accuracy:  28.794642857142854 %\n",
      "Validation Loss:  1.4162737172558604\n",
      "Validation Accuracy:  53.39285714285714 %\n",
      "Epoch Time:  0.38209009170532227 s\n",
      "##################################################\n",
      "Epoch_Number:  1\n",
      "Training Loss:  1.1481367119095431\n",
      "Training Accuracy:  46.11607142857143 %\n",
      "Validation Loss:  0.9240500553617722\n",
      "Validation Accuracy:  72.5 %\n",
      "Epoch Time:  0.12155961990356445 s\n",
      "##################################################\n",
      "Epoch_Number:  2\n",
      "Training Loss:  0.8792630019742679\n",
      "Training Accuracy:  54.34523809523809 %\n",
      "Validation Loss:  0.7837664971368749\n",
      "Validation Accuracy:  76.42857142857142 %\n",
      "Epoch Time:  0.12628436088562012 s\n",
      "##################################################\n",
      "Epoch_Number:  3\n",
      "Training Loss:  0.7768803535200496\n",
      "Training Accuracy:  58.950892857142854 %\n",
      "Validation Loss:  0.7319162955287586\n",
      "Validation Accuracy:  78.39285714285714 %\n",
      "Epoch Time:  0.12182927131652832 s\n",
      "##################################################\n",
      "Epoch_Number:  4\n",
      "Training Loss:  0.7206757403529739\n",
      "Training Accuracy:  62.04464285714286 %\n",
      "Validation Loss:  0.7346610693182607\n",
      "Validation Accuracy:  75.89285714285714 %\n",
      "Epoch Time:  0.12299680709838867 s\n",
      "##################################################\n",
      "Epoch_Number:  5\n",
      "Training Loss:  0.6779144896828121\n",
      "Training Accuracy:  64.25595238095238 %\n",
      "Validation Loss:  0.6518564743207151\n",
      "Validation Accuracy:  78.57142857142857 %\n",
      "Epoch Time:  0.12185907363891602 s\n",
      "##################################################\n",
      "Epoch_Number:  6\n",
      "Training Loss:  0.6588332187809087\n",
      "Training Accuracy:  65.8545918367347 %\n",
      "Validation Loss:  0.6203729804149136\n",
      "Validation Accuracy:  80.17857142857143 %\n",
      "Epoch Time:  0.12264227867126465 s\n",
      "##################################################\n",
      "Epoch_Number:  7\n",
      "Training Loss:  0.628425524687073\n",
      "Training Accuracy:  67.19866071428572 %\n",
      "Validation Loss:  0.5706363024605433\n",
      "Validation Accuracy:  79.28571428571428 %\n",
      "Epoch Time:  0.12123727798461914 s\n",
      "##################################################\n",
      "Epoch_Number:  8\n",
      "Training Loss:  0.6052039059269022\n",
      "Training Accuracy:  68.36309523809524 %\n",
      "Validation Loss:  0.5822943018330196\n",
      "Validation Accuracy:  80.53571428571429 %\n",
      "Epoch Time:  0.12290668487548828 s\n",
      "##################################################\n",
      "Epoch_Number:  9\n",
      "Training Loss:  0.5881572589304801\n",
      "Training Accuracy:  69.30357142857143 %\n",
      "Validation Loss:  0.5641687130994871\n",
      "Validation Accuracy:  79.46428571428571 %\n",
      "Epoch Time:  0.12181830406188965 s\n",
      "##################################################\n",
      "Epoch_Number:  10\n",
      "Training Loss:  0.584121788398099\n",
      "Training Accuracy:  70.07305194805194 %\n",
      "Validation Loss:  0.5514476521958073\n",
      "Validation Accuracy:  78.39285714285714 %\n",
      "Epoch Time:  0.12229084968566895 s\n",
      "##################################################\n",
      "Epoch_Number:  11\n",
      "Training Loss:  0.5652410239344785\n",
      "Training Accuracy:  70.7328869047619 %\n",
      "Validation Loss:  0.5136628230293105\n",
      "Validation Accuracy:  80.89285714285714 %\n",
      "Epoch Time:  0.12068557739257812 s\n",
      "##################################################\n",
      "Epoch_Number:  12\n",
      "Training Loss:  0.5577951715953403\n",
      "Training Accuracy:  71.34271978021978 %\n",
      "Validation Loss:  0.5286695944903981\n",
      "Validation Accuracy:  80.17857142857143 %\n",
      "Epoch Time:  0.1186680793762207 s\n",
      "##################################################\n",
      "Epoch_Number:  13\n",
      "Training Loss:  0.5387212513097586\n",
      "Training Accuracy:  71.8654336734694 %\n",
      "Validation Loss:  0.5122995936167904\n",
      "Validation Accuracy:  79.46428571428571 %\n",
      "Epoch Time:  0.11950492858886719 s\n",
      "##################################################\n",
      "Epoch_Number:  14\n",
      "Training Loss:  0.525112495688664\n",
      "Training Accuracy:  72.40773809523809 %\n",
      "Validation Loss:  0.49859501033325476\n",
      "Validation Accuracy:  81.78571428571428 %\n",
      "Epoch Time:  0.11843109130859375 s\n",
      "##################################################\n",
      "Epoch_Number:  15\n",
      "Training Loss:  0.5186456661598645\n",
      "Training Accuracy:  72.86272321428572 %\n",
      "Validation Loss:  0.47444404010805535\n",
      "Validation Accuracy:  81.42857142857143 %\n",
      "Epoch Time:  0.11961913108825684 s\n",
      "##################################################\n",
      "Epoch_Number:  16\n",
      "Training Loss:  0.4956300536885483\n",
      "Training Accuracy:  73.29569327731093 %\n",
      "Validation Loss:  0.5303084799983488\n",
      "Validation Accuracy:  81.78571428571428 %\n",
      "Epoch Time:  0.12098240852355957 s\n",
      "##################################################\n",
      "Epoch_Number:  17\n",
      "Training Loss:  0.49027719168061695\n",
      "Training Accuracy:  73.74503968253968 %\n",
      "Validation Loss:  0.4386108988445272\n",
      "Validation Accuracy:  82.5 %\n",
      "Epoch Time:  0.12127685546875 s\n",
      "##################################################\n",
      "Epoch_Number:  18\n",
      "Training Loss:  0.47402535149878317\n",
      "Training Accuracy:  74.15883458646616 %\n",
      "Validation Loss:  0.49096459853383034\n",
      "Validation Accuracy:  83.21428571428572 %\n",
      "Epoch Time:  0.1223902702331543 s\n",
      "##################################################\n",
      "Epoch_Number:  19\n",
      "Training Loss:  0.4708090149808956\n",
      "Training Accuracy:  74.578125 %\n",
      "Validation Loss:  0.4198922507930326\n",
      "Validation Accuracy:  84.82142857142857 %\n",
      "Epoch Time:  0.12113833427429199 s\n",
      "##################################################\n"
     ]
    },
    {
     "name": "stderr",
     "output_type": "stream",
     "text": [
      "/home/cmu/anaconda3/envs/manutest/lib/python3.6/site-packages/ManufacturingNet/models/DNN.py:837: VisibleDeprecationWarning: Creating an ndarray from ragged nested sequences (which is a list-or-tuple of lists-or-tuples-or ndarrays with different lengths or shapes) is deprecated. If you meant to do this, you must specify 'dtype=object' when creating the ndarray\n",
      "  np.array(self.predict)), np.concatenate(np.array(self.actual)))\n"
     ]
    },
    {
     "name": "stdout",
     "output_type": "stream",
     "text": [
      "Confusion Matix: \n",
      "[[59  0  2  0  0  0  0  0  0  0]\n",
      " [ 0 54  5  3  0  5  0  0 15  0]\n",
      " [ 0  1 36  1  0  6  0  0  1  0]\n",
      " [ 0  0  2 40  0  0  1  0  7  1]\n",
      " [ 0  0  1  0 53  0  0  0  0  8]\n",
      " [ 0  0  7  1  0 45  0  0  0  2]\n",
      " [ 0  0  0  1  0  0 53  0  0  0]\n",
      " [ 0  0  0  0  0  0  1 54  0  0]\n",
      " [ 0  5  4  3  0  0  0  0 27  0]\n",
      " [ 0  0  1  1  0  0  0  0  0 54]]\n",
      "Do you want to save the model weights? (y/n): n\n",
      "=========================\n",
      " Call get_prediction() to make predictions on new data\n",
      " \n",
      "=== End of training ===\n"
     ]
    },
    {
     "data": {
      "image/png": "[encoded data removed]",
      "text/plain": [
       "<Figure size 576x576 with 1 Axes>"
      ]
     },
     "metadata": {
      "needs_background": "light"
     },
     "output_type": "display_data"
    },
    {
     "data": {
      "image/png": "[encoded data removed]",
      "text/plain": [
       "<Figure size 576x576 with 1 Axes>"
      ]
     },
     "metadata": {
      "needs_background": "light"
     },
     "output_type": "display_data"
    }
   ],
   "source": [
    "model = DNNModel(X, Y)"
   ]
  },
  {
   "cell_type": "markdown",
   "metadata": {},
   "source": [
    "Alright! Its done you have built your neural network using the manufacturingnet package. Just by answering a few simple questions. It is really easy\n",
    "\n",
    "Neural nets can be used for any application provided you have features and labels. All the special architectures like CNN, LSTM are essentially neural networks when you break them down and analyze. A few pointers about developing the neural network. The input data here has 20 features so we use 20 neurons in the input layer and because there are 10 classes we need to have 10 neurons in the output layer. The number of hidden layers, activations, batch size, batch normalization and drop out(if any), loss functions, optimizer, epochs, scheduler should be chosen by the user\n",
    "\n",
    "The model summary, training accuracy, validation accuracy, confusion matrix, Loss  vs epoch are also provided by the package."
   ]
  }
 ],
 "metadata": {
  "kernelspec": {
   "display_name": "Python [conda env:manutest]",
   "language": "python",
   "name": "conda-env-manutest-py"
  },
  "language_info": {
   "codemirror_mode": {
    "name": "ipython",
    "version": 3
   },
   "file_extension": ".py",
   "mimetype": "text/x-python",
   "name": "python",
   "nbconvert_exporter": "python",
   "pygments_lexer": "ipython3",
   "version": "3.6.10"
  }
 },
 "nbformat": 4,
 "nbformat_minor": 2
}
