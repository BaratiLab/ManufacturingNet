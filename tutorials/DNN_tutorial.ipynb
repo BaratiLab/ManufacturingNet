{
 "cells": [
  {
   "cell_type": "markdown",
   "metadata": {},
   "source": [
    "# Developing a fully connected Neural network using ManufacturingNet\n",
    "###### To know more about the manufacturingnet please visit: http://manufacturingnet.io/ "
   ]
  },
  {
   "cell_type": "code",
   "execution_count": 1,
   "metadata": {},
   "outputs": [],
   "source": [
    "# %load_ext autoreload\n",
    "# %autoreload 2\n",
    "# import sys\n",
    "# sys.path.append('../')"
   ]
  },
  {
   "cell_type": "code",
   "execution_count": 2,
   "metadata": {},
   "outputs": [],
   "source": [
    "import ManufacturingNet\n",
    "import numpy as np"
   ]
  },
  {
   "cell_type": "markdown",
   "metadata": {},
   "source": [
    "First we import manufacturingnet. Using manufacturingnet we can create deep learning models with greater ease.\n",
    "\n",
    "\n",
    "\n",
    "It is important to note that all the dependencies of the package must also be installed in your environment "
   ]
  },
  {
   "cell_type": "markdown",
   "metadata": {},
   "source": [
    "##### Now we first need to download the data. You can use our dataset class where we have curated different types of datasets and you just need to run two lines of code to download the data :)"
   ]
  },
  {
   "cell_type": "code",
   "execution_count": 4,
   "metadata": {},
   "outputs": [],
   "source": [
    "from ManufacturingNet import datasets"
   ]
  },
  {
   "cell_type": "code",
   "execution_count": 3,
   "metadata": {},
   "outputs": [],
   "source": [
    "datasets.CWRUBearingData()"
   ]
  },
  {
   "cell_type": "markdown",
   "metadata": {},
   "source": [
    "###### Alright! Now please check your working directory. The data should be present inside it. That was super easy !!"
   ]
  },
  {
   "cell_type": "markdown",
   "metadata": {},
   "source": [
    "The CWRU dataset is a vibration signals dataset with 10 classes. The task that we need to perform using neural network is classification. We are using the featurized data in this case you can used the raw data too. ManufacturingNet has also provided different datasets in the package which the user can choose depending on type of application"
   ]
  },
  {
   "cell_type": "code",
   "execution_count": 5,
   "metadata": {},
   "outputs": [],
   "source": [
    "# Lets load the data\n",
    "X = np.load('./CWRU/featurized_data.npy', allow_pickle = True)\n",
    "Y = np.load('./CWRU/featurized_data_labels.npy', allow_pickle = True)"
   ]
  },
  {
   "cell_type": "markdown",
   "metadata": {},
   "source": [
    "#### Now all we got to do is import the fully connected neural class and answer a few simple questions and we will be all set. The manufacturingnet has been designed in a way to make things easy for user and provide them the tools to implement complex used"
   ]
  },
  {
   "cell_type": "code",
   "execution_count": 6,
   "metadata": {},
   "outputs": [],
   "source": [
    "from ManufacturingNet.models import DNN"
   ]
  },
  {
   "cell_type": "markdown",
   "metadata": {},
   "source": [
    "###### We import the Deep Neural Network (DNN ) from package and answer a few simple questions"
   ]
  },
  {
   "cell_type": "code",
   "execution_count": 10,
   "metadata": {},
   "outputs": [
    {
     "name": "stdout",
     "output_type": "stream",
     "text": [
      "Your Input Data Shape: (2800, 20)\n",
      " \n",
      " \n",
      "1/10 - Number of layers and neurons\n",
      " \n",
      "=========================\n",
      "2/10 - Activation functions\n",
      "Default activation function ReLU selected for all the hidden layers\n",
      " \n",
      "=========================\n",
      "3/10 - Batch normalization\n",
      "By default, no batchnorm applied\n",
      " \n",
      "=========================\n",
      "4/10 - Dropout\n",
      "By default, no dropout added\n",
      " \n",
      "=========================\n",
      "5/10 - Batch size input\n",
      " \n",
      "=========================\n",
      "6/10 - Validation set size\n",
      "Default value selected : 0.2\n",
      " \n",
      "=========================\n",
      "7/10 - Loss function\n",
      " \n",
      "=========================\n",
      "8/10 - Optimizer\n",
      "Default optimizer selected : Adam\n",
      " \n",
      "Default value for learning rate selected : 0.001\n",
      " \n",
      "=========================\n",
      "9/10 - Scheduler\n",
      "By default no scheduler selected\n",
      " \n",
      "=========================\n",
      "10/10 - Number of epochs\n",
      " \n",
      "=========================\n",
      "Network architecture: \n",
      " \n",
      "DNNBase(\n",
      "  (net): Sequential(\n",
      "    (0): Linear(in_features=20, out_features=64, bias=True)\n",
      "    (1): ReLU()\n",
      "    (2): Dropout(p=0.0, inplace=False)\n",
      "    (3): Linear(in_features=64, out_features=10, bias=True)\n",
      "  )\n",
      ")\n",
      "=========================\n",
      "Model Summary:\n",
      " \n",
      "Criterion:  CrossEntropyLoss()\n",
      "Optimizer:  Adam (\n",
      "Parameter Group 0\n",
      "    amsgrad: False\n",
      "    betas: (0.9, 0.999)\n",
      "    capturable: False\n",
      "    eps: 1e-08\n",
      "    foreach: None\n",
      "    lr: 0.001\n",
      "    maximize: False\n",
      "    weight_decay: 0\n",
      ")\n",
      "Scheduler:  None\n",
      "Validation set size:  0.2\n",
      "Batch size:  16\n",
      "Initial learning rate:  0.001\n",
      "Number of training epochs:  1\n",
      "Device:  cuda\n",
      " \n",
      "=========================\n",
      "Training the model...\n",
      "Epoch_Number:  0\n",
      "Training Loss:  1.7718709616829158\n",
      "Training Accuracy:  38.92857142857143 %\n",
      "Validation Loss:  1.3512837739987589\n",
      "Validation Accuracy:  59.64285714285714 %\n",
      "Epoch Time:  0.32748913764953613 s\n",
      "##################################################\n",
      "Confusion Matix: \n",
      "[[61 24 12  0  0  7  0  0  2  0]\n",
      " [ 0 13  7  2  0  0  0  0 13  0]\n",
      " [ 0  5 21  3  0  6  0  0  3  3]\n",
      " [ 0  0  2 15  0  0  0  0  1  1]\n",
      " [ 0  0  2  0 41  1  0  0  0  7]\n",
      " [ 0  0 11  0  4 36  0  0  0  4]\n",
      " [ 0  0  0  0  0  0  0  0  0  0]\n",
      " [ 0  0  0  6  0  0 51 52  0  2]\n",
      " [ 0 10  3 29  0  0  0  0 51  0]\n",
      " [ 0  0  2  1  0  2  0  0  0 44]]\n",
      "=========================\n",
      " Call get_prediction() to make predictions on new data\n",
      " \n",
      "=== End of training ===\n"
     ]
    },
    {
     "data": {
      "image/png": "[encoded data removed]",
      "text/plain": [
       "<Figure size 800x800 with 1 Axes>"
      ]
     },
     "metadata": {},
     "output_type": "display_data"
    },
    {
     "data": {
      "image/png": "[encoded data removed]",
      "text/plain": [
       "<Figure size 800x800 with 1 Axes>"
      ]
     },
     "metadata": {},
     "output_type": "display_data"
    }
   ],
   "source": [
    "model = DNN(X, Y)"
   ]
  },
  {
   "cell_type": "markdown",
   "metadata": {},
   "source": [
    "Alright! Its done you have built your neural network using the manufacturingnet package. Just by answering a few simple questions. It is really easy\n",
    "\n",
    "Neural nets can be used for any application provided you have features and labels. All the special architectures like CNN, LSTM are essentially neural networks when you break them down and analyze. A few pointers about developing the neural network. The input data here has 20 features so we use 20 neurons in the input layer and because there are 10 classes we need to have 10 neurons in the output layer. The number of hidden layers, activations, batch size, batch normalization and drop out(if any), loss functions, optimizer, epochs, scheduler should be chosen by the user\n",
    "\n",
    "The model summary, training accuracy, validation accuracy, confusion matrix, Loss  vs epoch are also provided by the package."
   ]
  }
 ],
 "metadata": {
  "kernelspec": {
   "display_name": "Python 3",
   "language": "python",
   "name": "python3"
  },
  "language_info": {
   "codemirror_mode": {
    "name": "ipython",
    "version": 3
   },
   "file_extension": ".py",
   "mimetype": "text/x-python",
   "name": "python",
   "nbconvert_exporter": "python",
   "pygments_lexer": "ipython3",
   "version": "3.8.16"
  }
 },
 "nbformat": 4,
 "nbformat_minor": 4
}
