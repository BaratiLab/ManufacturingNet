{
 "cells": [
  {
   "cell_type": "markdown",
   "metadata": {},
   "source": [
    "# Using shallow learning algorithms from ManufacturingNet\n",
    "##### To know more about ManufacturingNet please visit: http://manufacturingnet.io/"
   ]
  },
  {
   "cell_type": "code",
   "execution_count": 2,
   "metadata": {},
   "outputs": [],
   "source": [
    "import ManufacturingNet\n",
    "import numpy as np"
   ]
  },
  {
   "cell_type": "markdown",
   "metadata": {},
   "source": [
    "First we import manufacturingnet. We can use this to experiment with several shallow learning models.\n",
    "\n",
    "It is important to note that all the dependencies of the package must also be installed in your environment. "
   ]
  },
  {
   "cell_type": "markdown",
   "metadata": {},
   "source": [
    "##### Now the dataset first needs to be downloaded. The dataset class can be used where different types of datasets have been curated and only two lines of code need to be run to download the data."
   ]
  },
  {
   "cell_type": "code",
   "execution_count": 3,
   "metadata": {},
   "outputs": [],
   "source": [
    "from ManufacturingNet import datasets"
   ]
  },
  {
   "cell_type": "code",
   "execution_count": 4,
   "metadata": {},
   "outputs": [
    {
     "name": "stderr",
     "output_type": "stream",
     "text": [
      "Downloading...\n",
      "From: https://drive.google.com/uc?id=1VhZcOgNOEw_Sciuww25XZdIuaqO90Nkj\n",
      "To: /home/cmu/ManufacturingNet/tutorials/ThreeDPrintingData.zip\n",
      "100%|██████████| 928/928 [00:00<00:00, 2.50MB/s]\n"
     ]
    }
   ],
   "source": [
    "datasets.ThreeDPrintingData()"
   ]
  },
  {
   "cell_type": "markdown",
   "metadata": {},
   "source": [
    "Alright! Now the dataset desired should be downloaded and present in the working directory.\n",
    "\n",
    "The 3D Printing dataset consists of several continuous and discrete parameters. We can perform classification or regression depending on what the desired output attribute is. We perform classification by predicting the material used based on the input and measured parameters. We can then perform regression on possibly a different attribute in the data.\n"
   ]
  },
  {
   "cell_type": "markdown",
   "metadata": {},
   "source": [
    "### Loading the dataset\n",
    "Here, we can use the pandas library to read and import the data, since there are categorial attributes. If pandas is not installed in your environment, here is a useful reference : https://pandas.pydata.org/docs/getting_started/index.html"
   ]
  },
  {
   "cell_type": "code",
   "execution_count": 5,
   "metadata": {},
   "outputs": [],
   "source": [
    "import pandas as pd"
   ]
  },
  {
   "cell_type": "code",
   "execution_count": 6,
   "metadata": {},
   "outputs": [],
   "source": [
    "data = pd.read_csv(\"3D_printing_dataset/data.csv\", sep = \",\")"
   ]
  },
  {
   "cell_type": "markdown",
   "metadata": {},
   "source": [
    "We then discretize the categorical attributes - infill pattern and material. "
   ]
  },
  {
   "cell_type": "code",
   "execution_count": 8,
   "metadata": {},
   "outputs": [],
   "source": [
    "data.material = [0 if each == \"abs\" else 1 for each in data.material]\n",
    "# abs = 0, pla = 1\n",
    "\n",
    "data.infill_pattern = [0 if each == \"grid\" else 1 for each in data.infill_pattern]\n",
    "# grid = 0, honeycomb = 1"
   ]
  },
  {
   "cell_type": "markdown",
   "metadata": {},
   "source": [
    "### Classification"
   ]
  },
  {
   "cell_type": "markdown",
   "metadata": {},
   "source": [
    "For classification, we need the input data and an output variable to be predicted. \n",
    "We then separate our x and y values from the pandas dataframe. The value we want to predict is the \"material\", and our input data will be all the columns except \"material\"."
   ]
  },
  {
   "cell_type": "code",
   "execution_count": 9,
   "metadata": {},
   "outputs": [],
   "source": [
    "y_data = data.material.values\n",
    "x_data = data.drop([\"material\"],axis=1).values\n"
   ]
  },
  {
   "cell_type": "markdown",
   "metadata": {},
   "source": [
    "We first get a birds-eye view of how the data can perform with some default classifiers. The metrics we use to measure the performance of these classifiers with some default values are Accuracy, 5-Fold cross validation, and the time. \n",
    "\n",
    "This will allow users to get a glance of how possible classifiers can perform on their data."
   ]
  },
  {
   "cell_type": "code",
   "execution_count": 10,
   "metadata": {},
   "outputs": [],
   "source": [
    "from ManufacturingNet.models import AllClassificationModels"
   ]
  },
  {
   "cell_type": "code",
   "execution_count": 11,
   "metadata": {},
   "outputs": [
    {
     "name": "stdout",
     "output_type": "stream",
     "text": [
      "\n",
      "==========================================\n",
      "= All Classifier Models Parameter Inputs =\n",
      "==========================================\n",
      "verbose = True\n",
      "test_size = 0.25\n",
      "\n",
      "===========================================\n",
      "= End of inputs; press enter to continue. =\n",
      "\n",
      "LogisticRegression failed. Exception message:\n",
      "This solver needs samples of at least 2 classes in the data, but the data contains only one class: 1 \n",
      "\n"
     ]
    },
    {
     "name": "stderr",
     "output_type": "stream",
     "text": [
      "[Parallel(n_jobs=1)]: Using backend SequentialBackend with 1 concurrent workers.\n",
      "[Parallel(n_jobs=1)]: Done 100 out of 100 | elapsed:    0.1s finished\n",
      "[Parallel(n_jobs=1)]: Using backend SequentialBackend with 1 concurrent workers.\n",
      "[Parallel(n_jobs=1)]: Done 100 out of 100 | elapsed:    0.0s finished\n",
      "[Parallel(n_jobs=1)]: Using backend SequentialBackend with 1 concurrent workers.\n",
      "[Parallel(n_jobs=1)]: Done 100 out of 100 | elapsed:    0.1s finished\n",
      "[Parallel(n_jobs=1)]: Using backend SequentialBackend with 1 concurrent workers.\n",
      "[Parallel(n_jobs=1)]: Done 100 out of 100 | elapsed:    0.0s finished\n",
      "[Parallel(n_jobs=1)]: Using backend SequentialBackend with 1 concurrent workers.\n",
      "[Parallel(n_jobs=1)]: Done 100 out of 100 | elapsed:    0.1s finished\n",
      "[Parallel(n_jobs=1)]: Using backend SequentialBackend with 1 concurrent workers.\n",
      "[Parallel(n_jobs=1)]: Done 100 out of 100 | elapsed:    0.0s finished\n",
      "[Parallel(n_jobs=1)]: Using backend SequentialBackend with 1 concurrent workers.\n",
      "[Parallel(n_jobs=1)]: Done 100 out of 100 | elapsed:    0.1s finished\n",
      "[Parallel(n_jobs=1)]: Using backend SequentialBackend with 1 concurrent workers.\n",
      "[Parallel(n_jobs=1)]: Done 100 out of 100 | elapsed:    0.0s finished\n",
      "[Parallel(n_jobs=1)]: Using backend SequentialBackend with 1 concurrent workers.\n",
      "[Parallel(n_jobs=1)]: Done 100 out of 100 | elapsed:    0.1s finished\n",
      "[Parallel(n_jobs=1)]: Using backend SequentialBackend with 1 concurrent workers.\n",
      "[Parallel(n_jobs=1)]: Done 100 out of 100 | elapsed:    0.0s finished\n",
      "[Parallel(n_jobs=1)]: Using backend SequentialBackend with 1 concurrent workers.\n"
     ]
    },
    {
     "name": "stdout",
     "output_type": "stream",
     "text": [
      "\n",
      "SVC failed. Exception message:\n",
      "The number of classes has to be greater than one; got 1 class \n",
      "\n",
      "\n",
      "NuSVC failed. Exception message:\n",
      "The number of classes has to be greater than one; got 1 class \n",
      "\n",
      "\n",
      "LinearSVc failed. Exception message:\n",
      "This solver needs samples of at least 2 classes in the data, but the data contains only one class: 1 \n",
      "\n",
      "\n",
      "XGBClassifier failed. Exception message:\n",
      "Invalid classes inferred from unique values of `y`.  Expected: [0], got [1] \n",
      "\n",
      "\n",
      "===========\n",
      "= Results =\n",
      "===========\n",
      "\n",
      "Model                Accuracy             5-Fold CV Mean       Time (seconds)      \n",
      "\n",
      "RandomForest         1.0                  1.0                  0.11263608932495117 \n",
      "\n",
      "The following models failed to run:\n",
      "\n",
      "LogisticRegression\n",
      "SVC\n",
      "NuSVC\n",
      "LinearSVC\n",
      "XGBClassifier\n",
      "\n"
     ]
    },
    {
     "name": "stderr",
     "output_type": "stream",
     "text": [
      "[Parallel(n_jobs=1)]: Done 100 out of 100 | elapsed:    0.1s finished\n",
      "[Parallel(n_jobs=1)]: Using backend SequentialBackend with 1 concurrent workers.\n",
      "[Parallel(n_jobs=1)]: Done 100 out of 100 | elapsed:    0.0s finished\n"
     ]
    }
   ],
   "source": [
    "all_models = AllClassificationModels(x_data, y_data)\n",
    "all_models.run()"
   ]
  },
  {
   "cell_type": "markdown",
   "metadata": {},
   "source": [
    "If the user wants to modify a particular classifier more specifically, they are free to choose the classifier they want and pass the data to that.\n",
    "\n",
    "The user can either choose to persist with the default parameters displayed or can customize the parameters according to their requirements."
   ]
  },
  {
   "cell_type": "code",
   "execution_count": 12,
   "metadata": {},
   "outputs": [
    {
     "name": "stdout",
     "output_type": "stream",
     "text": [
      "\n",
      "===========================================\n",
      "= RandomForestClassifier Parameter Inputs =\n",
      "===========================================\n",
      "\n",
      "Default values:\n",
      "test_size = 0.25\n",
      "cv = 5\n",
      "graph_results = False\n",
      "criterion = 'gini'\n",
      "class_weight = None\n",
      "n_estimators = 100\n",
      "max_depth = None\n",
      "min_samples_split = 2\n",
      "min_samples_leaf = 1\n",
      "min_weight_fraction_leaf = 0.0\n",
      "max_features = 'auto'\n",
      "max_leaf_nodes = None\n",
      "min_impurity_decrease = 0.0\n",
      "bootstrap = True\n",
      "oob_score = False\n",
      "n_jobs = None\n",
      "random_state = None\n",
      "verbose = 0\n",
      "warm_start = False\n",
      "ccp_alpha = 0.0\n",
      "max_samples = None\n",
      "\n",
      "===========================================\n",
      "= End of inputs; press enter to continue. =\n",
      "\n",
      "==================================\n",
      "= RandomForestClassifier Results =\n",
      "==================================\n",
      "\n",
      "Classes:\n",
      " [1]\n",
      "\n",
      "Accuracy:            1.0                 \n",
      "\n",
      "Confusion Matrix:\n",
      " [[13]]\n",
      "\n",
      "Cross Validation Scores: [1. 1. 1. 1. 1.]\n",
      "\n",
      "Feature Importances: [0. 0. 0. 0. 0. 0. 0. 0. 0. 0. 0.]\n",
      "\n",
      "\n",
      "Call predict_classifier() to make predictions for new data.\n",
      "\n",
      "===================\n",
      "= End of results. =\n",
      "===================\n",
      "\n"
     ]
    }
   ],
   "source": [
    "from ManufacturingNet.models import RandomForest\n",
    "\n",
    "rf_model = RandomForest(x_data, y_data)\n",
    "\n",
    "rf_model.run_classifier()"
   ]
  },
  {
   "cell_type": "markdown",
   "metadata": {},
   "source": [
    "### Regression"
   ]
  },
  {
   "cell_type": "markdown",
   "metadata": {},
   "source": [
    "For regression, we need the input data and an output value to be obtained. \n",
    "We then separate our x and y values from the pandas dataframe. In this example, the value we want to output is the \"roughness\", and our input data will be all the columns except \"roughness\"."
   ]
  },
  {
   "cell_type": "code",
   "execution_count": 13,
   "metadata": {},
   "outputs": [],
   "source": [
    "y_data_lin = data.roughness.values\n",
    "x_data_lin = data.drop([\"roughness\"],axis=1).values"
   ]
  },
  {
   "cell_type": "markdown",
   "metadata": {},
   "source": [
    "We first get a birds-eye view of how the data can perform with some default regression models. The metrics we use to measure the performance of these regression models with some default parameters are R-2 score and the time taken to run the algorithm. \n",
    "\n",
    "This will allow users to get a glance of how possible regression models can perform on their data."
   ]
  },
  {
   "cell_type": "code",
   "execution_count": 14,
   "metadata": {},
   "outputs": [
    {
     "name": "stdout",
     "output_type": "stream",
     "text": [
      "\n",
      "==========================================\n",
      "= All Regression Models Parameter Inputs =\n",
      "==========================================\n",
      "\n",
      "verbose = True\n",
      "test_size = 0.25\n",
      "\n",
      "===========================================\n",
      "= End of inputs; press enter to continue. =\n",
      "[LibSVM][LibSVM]*\n",
      "optimization finished, #iter = 18\n",
      "obj = -3025.054628, rho = -168.091317\n",
      "nSV = 36, nBSV = 36\n",
      "*\n",
      "optimization finished, #iter = 16\n",
      "epsilon = 86.186773\n",
      "obj = -2440.444148, rho = -178.451713\n",
      "nSV = 20, nBSV = 18\n",
      "[LibLinear]....................................................................................................\n",
      "optimization finished, #iter = 1000\n",
      "\n",
      "WARNING: reaching max number of iterations\n",
      "Using -s 11 may be faster\n",
      "\n",
      "Objective value = -2459.234403\n",
      "nSV = 37\n",
      "\n",
      "===========\n",
      "= Results =\n",
      "===========\n",
      "\n",
      "Model                R2 Score             Time (seconds)      \n",
      "\n",
      "LinearRegression     0.8693412643632428   0.14420318603515625 \n",
      "\n",
      "RandomForest         0.8708424953956723   0.1092691421508789  \n",
      "\n",
      "SVR                  -0.040819647472628784 0.02405858039855957 \n",
      "\n",
      "NuSVR                -0.10098978747025633 0.00043845176696777344\n",
      "\n",
      "LinearSVR            -0.3248304204246244  0.0016911029815673828\n",
      "\n",
      "XGBRegressor         0.8434830286881422   0.08692169189453125 \n",
      "\n",
      "\n"
     ]
    },
    {
     "name": "stderr",
     "output_type": "stream",
     "text": [
      "[Parallel(n_jobs=1)]: Using backend SequentialBackend with 1 concurrent workers.\n",
      "[Parallel(n_jobs=1)]: Done 100 out of 100 | elapsed:    0.1s finished\n",
      "[Parallel(n_jobs=1)]: Using backend SequentialBackend with 1 concurrent workers.\n",
      "[Parallel(n_jobs=1)]: Done 100 out of 100 | elapsed:    0.0s finished\n",
      "/home/cmu/Downloads/[/home/cmu/Desktop]/envs/robotics/lib/python3.8/site-packages/sklearn/svm/_base.py:1244: ConvergenceWarning: Liblinear failed to converge, increase the number of iterations.\n",
      "  warnings.warn(\n"
     ]
    }
   ],
   "source": [
    "from ManufacturingNet.models import AllRegressionModels\n",
    "\n",
    "models_reg = AllRegressionModels(x_data_lin, y_data_lin)\n",
    "models_reg.run()"
   ]
  },
  {
   "cell_type": "markdown",
   "metadata": {},
   "source": [
    "If the user wants to modify a particular regression model more specifically, they are free to choose the model they want and pass the data to that.\n",
    "\n",
    "The user can either choose to persist with the default parameters displayed or can customize the parameters according to their requirements."
   ]
  },
  {
   "cell_type": "code",
   "execution_count": 15,
   "metadata": {},
   "outputs": [
    {
     "name": "stdout",
     "output_type": "stream",
     "text": [
      "\n",
      "==================================\n",
      "= LinRegression Parameter Inputs =\n",
      "==================================\n",
      "\n",
      "Default values:\n",
      "test_size = 0.25\n",
      "cv = 5\n",
      "graph_results = False\n",
      "fit_intercept = True\n",
      "normalize = False\n",
      "copy_X = True\n",
      "n_jobs = None\n",
      "\n",
      "===========================================\n",
      "= End of inputs; press enter to continue. =\n",
      "\n",
      "=========================\n",
      "= LinRegression Results =\n",
      "=========================\n",
      "\n",
      "Coefficients:\n",
      " [ 1.50127922e+03  3.60458777e+00  3.16100838e-01 -2.74404943e-11\n",
      "  1.81933303e+00 -6.01404671e-02  5.17822426e-01  6.25277607e-13\n",
      " -3.00702335e-01  5.27989686e-01 -3.76072117e+01]\n",
      "\n",
      "Intercept:           -384.8244587422615  \n",
      "\n",
      "Mean Squared Error:  1997.0339841582975  \n",
      "\n",
      "R2 Score:            0.6040234380012761  \n",
      "\n",
      "R Score:             0.7771894479477164  \n",
      "\n",
      "Cross Validation Scores:\n",
      " [-16.34166016  -0.50854448   0.47085326  -0.06020198  -0.6218723 ]\n",
      "\n",
      "\n",
      "Call predict() to make predictions for new data.\n",
      "\n",
      "===================\n",
      "= End of results. =\n",
      "===================\n",
      "\n",
      "MSE: 1997.0339841582975\n",
      "R2: 0.6040234380012761\n",
      "R: 0.7771894479477164\n"
     ]
    }
   ],
   "source": [
    "from ManufacturingNet.models import LinRegression as LinReg\n",
    "\n",
    "\n",
    "model_lin = LinReg(x_data_lin, y_data_lin)\n",
    "model_lin.run()\n",
    "\n",
    "print(\"MSE:\", model_lin.get_mean_squared_error())\n",
    "print(\"R2:\", model_lin.get_r2_score())\n",
    "print(\"R:\", model_lin.get_r_score())"
   ]
  },
  {
   "cell_type": "markdown",
   "metadata": {},
   "source": [
    "This is how we can use ManufacturingNet to accomplish classification and regression tasks. \n",
    "We can first obtain a birds-eye view of the performance of all the models that can be used with our data. If we want to modify  a particular model specifically for our data, we can customize the parameters for the model of our choice."
   ]
  }
 ],
 "metadata": {
  "kernelspec": {
   "display_name": "robotics",
   "language": "python",
   "name": "python3"
  },
  "language_info": {
   "codemirror_mode": {
    "name": "ipython",
    "version": 3
   },
   "file_extension": ".py",
   "mimetype": "text/x-python",
   "name": "python",
   "nbconvert_exporter": "python",
   "pygments_lexer": "ipython3",
   "version": "3.8.16"
  },
  "vscode": {
   "interpreter": {
    "hash": "18cf912b356ea838ce5984d5dd427c109d0098d9758c1980ff8b664fe2b3a2be"
   }
  }
 },
 "nbformat": 4,
 "nbformat_minor": 4
}
