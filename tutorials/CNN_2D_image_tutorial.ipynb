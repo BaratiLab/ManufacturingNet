{
 "cells": [
  {
   "cell_type": "markdown",
   "metadata": {},
   "source": [
    "# Developing a CNN Network for image dataset using ManufacturingNet\n",
    "###### To know more about the manufacturingnet please visit: http://manufacturingnet.io/ "
   ]
  },
  {
   "cell_type": "markdown",
   "metadata": {},
   "source": [
    "## Let us import the package and other required libraries"
   ]
  },
  {
   "cell_type": "code",
   "execution_count": 1,
   "metadata": {},
   "outputs": [],
   "source": [
    "import ManufacturingNet\n",
    "import numpy as np"
   ]
  },
  {
   "cell_type": "markdown",
   "metadata": {},
   "source": [
    "##### Let us download the dataset for our CNN2DImage network. The data is already processed and made ready for training"
   ]
  },
  {
   "cell_type": "code",
   "execution_count": 2,
   "metadata": {},
   "outputs": [],
   "source": [
    "from ManufacturingNet import datasets"
   ]
  },
  {
   "cell_type": "code",
   "execution_count": 3,
   "metadata": {},
   "outputs": [],
   "source": [
    "datasets.CastingData()"
   ]
  },
  {
   "cell_type": "markdown",
   "metadata": {},
   "source": [
    "###### The data is downloaded in the root directoty. Ready to use!"
   ]
  },
  {
   "cell_type": "markdown",
   "metadata": {},
   "source": [
    "The Casting dataset has more 7000 images. Its a classification problem. Using these images, we will classify into 2 classes, defective and normal.\n",
    "\n",
    "For the demonstration purpose, we will use only a few images"
   ]
  },
  {
   "cell_type": "markdown",
   "metadata": {},
   "source": [
    "###### Let us get the folders' addresses"
   ]
  },
  {
   "cell_type": "code",
   "execution_count": 5,
   "metadata": {},
   "outputs": [],
   "source": [
    "train_address = 'casting_data/train'\n",
    "test_address = 'casting_data/test'"
   ]
  },
  {
   "cell_type": "markdown",
   "metadata": {},
   "source": [
    "## We are all set to make our own LSTM network without actually coding it up!"
   ]
  },
  {
   "cell_type": "code",
   "execution_count": 4,
   "metadata": {},
   "outputs": [],
   "source": [
    "from ManufacturingNet.models import CNN2DImage"
   ]
  },
  {
   "cell_type": "code",
   "execution_count": 7,
   "metadata": {
    "scrolled": false
   },
   "outputs": [
    {
     "name": "stdout",
     "output_type": "stream",
     "text": [
      "Do you want default values for all the training parameters (y/n)? n\n",
      " \n",
      "Number of classes:  2\n",
      "Total number of training images:  601\n",
      "Total number of validation images:  70\n",
      "=========================\n",
      "1/8 - Image size\n",
      "All the images must have same size.\n",
      "Please enter the dimensions to which images need to be resized (heigth, width, channels): \n",
      "For example - 228, 228, 1 (For gray scale conversion)\n",
      " If all images have same size, enter the actual image size (heigth, width, channels) :\n",
      " 120, 120, 1\n",
      "=========================\n",
      "2/8 - Number of Convolution Layers:\n",
      "Please enter the number of conv_layers: 3\n",
      "=========================\n",
      "3/8 - Default value:\n",
      "Do you want default values for convolution layers (y/n): n\n",
      "=========================\n",
      "\n",
      "\n",
      "\n",
      "\n",
      "\n",
      "\n",
      "Designing the 1 convolution block\n",
      "Question: Out-channels: \n",
      "Please enter a value for number of out channels: 1\n",
      "=========================\n",
      "Question: Kernel Size: \n",
      "Please enter kernel size input (heigth,width)\n",
      "For example 3,3\n",
      "For default size, please directly press enter without any input: 10,10\n",
      "=========================\n",
      "Question: Stride value:\n",
      "Please enter stride input (heigth,width)\n",
      "For example 1,1\n",
      "For default size, please directly press enter without any input: 3,3\n",
      "=========================\n",
      "Question: Padding value:\n",
      "Please enter a value for padding (heigth,width)\n",
      "For example 1,1\n",
      "For default size, please directly press enter without any input: 0,0\n",
      "=========================\n",
      "Question: Dropout value: \n",
      "Please enter a dropout value between 0 and 1 for this convolution. \n",
      " For default option of no dropout, please directly press enter without any input: 0\n",
      "=========================\n",
      "Question: Pooling layer: \n",
      "Do you want a pooling layer after this convolution layer (y/n): y\n",
      "=========================\n",
      "The image size after this convolution is:  (18, 18)\n",
      "\n",
      "\n",
      "\n",
      "\n",
      "Designing the 2 convolution block\n",
      "Question: Out-channels: \n",
      "Please enter a value for number of out channels: 2\n",
      "=========================\n",
      "Question: Kernel Size: \n",
      "Please enter kernel size input (heigth,width)\n",
      "For example 3,3\n",
      "For default size, please directly press enter without any input: 5,5\n",
      "=========================\n",
      "Question: Stride value:\n",
      "Please enter stride input (heigth,width)\n",
      "For example 1,1\n",
      "For default size, please directly press enter without any input: 1,1\n",
      "=========================\n",
      "Question: Padding value:\n",
      "Please enter a value for padding (heigth,width)\n",
      "For example 1,1\n",
      "For default size, please directly press enter without any input: 0,0\n",
      "=========================\n",
      "Question: Dropout value: \n",
      "Please enter a dropout value between 0 and 1 for this convolution. \n",
      " For default option of no dropout, please directly press enter without any input: 0\n",
      "=========================\n",
      "Question: Pooling layer: \n",
      "Do you want a pooling layer after this convolution layer (y/n): n\n",
      "=========================\n",
      "The image size after this convolution is:  (14, 14)\n",
      "\n",
      "\n",
      "\n",
      "\n",
      "Designing the 3 convolution block\n",
      "Question: Out-channels: \n",
      "Please enter a value for number of out channels: 3\n",
      "=========================\n",
      "Question: Kernel Size: \n",
      "Please enter kernel size input (heigth,width)\n",
      "For example 3,3\n",
      "For default size, please directly press enter without any input: 2,2\n",
      "=========================\n",
      "Question: Stride value:\n",
      "Please enter stride input (heigth,width)\n",
      "For example 1,1\n",
      "For default size, please directly press enter without any input: 2,2\n",
      "=========================\n",
      "Question: Padding value:\n",
      "Please enter a value for padding (heigth,width)\n",
      "For example 1,1\n",
      "For default size, please directly press enter without any input: 0,0\n",
      "=========================\n",
      "Question: Dropout value: \n",
      "Please enter a dropout value between 0 and 1 for this convolution. \n",
      " For default option of no dropout, please directly press enter without any input: 0\n",
      "=========================\n",
      "Question: Pooling layer: \n",
      "Do you want a pooling layer after this convolution layer (y/n): y\n",
      "=========================\n",
      "The image size after this convolution is:  (3, 3)\n",
      "\n",
      "\n",
      "=========================\n",
      "4/8 - Batch size input\n",
      "Please enter the batch size: 32\n",
      "=========================\n",
      "5/8- Loss function\n",
      "Loss function: CrossEntropy()\n",
      "=========================\n",
      "6/8 - Optimizer\n",
      "Please enter the optimizer index for the problem \n",
      " Optimizer_list - [1: Adam, 2: SGD] \n",
      " For default optimizer, please directly press enter without any input: 1\n",
      " \n",
      "Please enter a required value float input for learning rate (learning rate > 0) \n",
      " For default learning rate, please directly press enter without any input: \n",
      "Default value for learning rate selected : 0.001\n",
      " \n",
      "=========================\n",
      "7/8 - Scheduler\n",
      "Please enter the scheduler index for the problem: Scheduler_list - [1: None, 2:StepLR, 3:MultiStepLR] \n",
      " For default option of no scheduler, please directly press enter without any input: 2\n",
      " \n",
      "Please enter a step value int input (step > 0): 2\n",
      " \n",
      "Please enter a Multiplying factor value float input (Multiplying factor > 0): 0.1\n",
      "=========================\n",
      "8/8 - Number of epochs\n",
      "Please enter the number of epochs to train the model: 5\n",
      "=========================\n",
      "Neural network architecture: \n",
      " \n",
      "Network(\n",
      "  (net): Sequential(\n",
      "    (0): BasicBlock(\n",
      "      (conv1): Conv2d(1, 1, kernel_size=(10, 10), stride=(3, 3))\n",
      "      (batch): BatchNorm2d(1, eps=1e-05, momentum=0.01, affine=True, track_running_stats=True)\n",
      "      (drop): Dropout2d(p=0.0, inplace=False)\n",
      "      (pool): MaxPool2d(kernel_size=2, stride=2, padding=0, dilation=1, ceil_mode=False)\n",
      "    )\n",
      "    (1): BasicBlock(\n",
      "      (conv1): Conv2d(1, 2, kernel_size=(5, 5), stride=(1, 1))\n",
      "      (batch): BatchNorm2d(2, eps=1e-05, momentum=0.01, affine=True, track_running_stats=True)\n",
      "      (drop): Dropout2d(p=0.0, inplace=False)\n",
      "    )\n",
      "    (2): BasicBlock(\n",
      "      (conv1): Conv2d(2, 3, kernel_size=(2, 2), stride=(2, 2))\n",
      "      (batch): BatchNorm2d(3, eps=1e-05, momentum=0.01, affine=True, track_running_stats=True)\n",
      "      (drop): Dropout2d(p=0.0, inplace=False)\n",
      "      (pool): MaxPool2d(kernel_size=2, stride=2, padding=0, dilation=1, ceil_mode=False)\n",
      "    )\n",
      "  )\n",
      "  (fc1): Linear(in_features=27, out_features=1024, bias=True)\n",
      "  (fc2): Linear(in_features=1024, out_features=256, bias=True)\n",
      "  (fc3): Linear(in_features=256, out_features=2, bias=True)\n",
      ")\n",
      "=========================\n",
      "Model Summary:\n",
      " \n",
      "Criterion:  CrossEntropyLoss()\n",
      "Optimizer:  Adam (\n",
      "Parameter Group 0\n",
      "    amsgrad: False\n",
      "    betas: (0.9, 0.999)\n",
      "    eps: 1e-08\n",
      "    initial_lr: 0.001\n",
      "    lr: 0.001\n",
      "    weight_decay: 0\n",
      ")\n",
      "Scheduler:  <torch.optim.lr_scheduler.StepLR object at 0x0000020668A53430>\n",
      "Batch size:  32\n",
      "Initial learning rate:  0.001\n",
      "Number of training epochs:  5\n",
      "Device:  cpu\n",
      " \n",
      "=========================\n",
      "Training the model...\n",
      "Epoch_Number:  0\n",
      "Training Loss:  0.9578809395449467\n",
      "Training Accuracy:  55.74043261231281 %\n",
      "Validation Loss:  0.668970889902122\n",
      "Validation Accuracy:  54.285714285714285 %\n",
      "Current scheduler status:  Adam (\n",
      "Parameter Group 0\n",
      "    amsgrad: False\n",
      "    betas: (0.9, 0.999)\n",
      "    eps: 1e-08\n",
      "    initial_lr: 0.001\n",
      "    lr: 0.001\n",
      "    weight_decay: 0\n",
      ")\n",
      "Epoch Time:  4.10279655456543 s\n",
      "##################################################\n",
      "Epoch_Number:  1\n",
      "Training Loss:  0.5834676073665622\n",
      "Training Accuracy:  62.229617304492514 %\n",
      "Validation Loss:  0.636388515544436\n",
      "Validation Accuracy:  54.285714285714285 %\n",
      "Current scheduler status:  Adam (\n",
      "Parameter Group 0\n",
      "    amsgrad: False\n",
      "    betas: (0.9, 0.999)\n",
      "    eps: 1e-08\n",
      "    initial_lr: 0.001\n",
      "    lr: 0.0001\n",
      "    weight_decay: 0\n",
      ")\n",
      "Epoch Time:  2.2022361755371094 s\n",
      "##################################################\n",
      "Epoch_Number:  2\n",
      "Training Loss:  0.5127977740754364\n",
      "Training Accuracy:  66.05657237936772 %\n",
      "Validation Loss:  0.6354518273050838\n",
      "Validation Accuracy:  54.285714285714285 %\n",
      "Current scheduler status:  Adam (\n",
      "Parameter Group 0\n",
      "    amsgrad: False\n",
      "    betas: (0.9, 0.999)\n",
      "    eps: 1e-08\n",
      "    initial_lr: 0.001\n",
      "    lr: 0.0001\n",
      "    weight_decay: 0\n",
      ")\n",
      "Epoch Time:  2.433177947998047 s\n",
      "##################################################\n",
      "Epoch_Number:  3\n",
      "Training Loss:  0.5013973885818089\n",
      "Training Accuracy:  68.42762063227953 %\n",
      "Validation Loss:  0.6291717397272806\n",
      "Validation Accuracy:  54.285714285714285 %\n",
      "Current scheduler status:  Adam (\n",
      "Parameter Group 0\n",
      "    amsgrad: False\n",
      "    betas: (0.9, 0.999)\n",
      "    eps: 1e-08\n",
      "    initial_lr: 0.001\n",
      "    lr: 1e-05\n",
      "    weight_decay: 0\n",
      ")\n",
      "Epoch Time:  2.406771421432495 s\n",
      "##################################################\n",
      "Epoch_Number:  4\n"
     ]
    },
    {
     "name": "stdout",
     "output_type": "stream",
     "text": [
      "Training Loss:  0.49661707749703554\n",
      "Training Accuracy:  70.04991680532446 %\n",
      "Validation Loss:  0.6209690561630603\n",
      "Validation Accuracy:  54.285714285714285 %\n",
      "Current scheduler status:  Adam (\n",
      "Parameter Group 0\n",
      "    amsgrad: False\n",
      "    betas: (0.9, 0.999)\n",
      "    eps: 1e-08\n",
      "    initial_lr: 0.001\n",
      "    lr: 1e-05\n",
      "    weight_decay: 0\n",
      ")\n",
      "Epoch Time:  2.2911481857299805 s\n",
      "##################################################\n",
      "Confusion Matix: \n",
      "[[ 0  0]\n",
      " [32 38]]\n",
      "Do you want to save the model weights? (y/n): y\n",
      "=========================\n",
      " Call get_prediction() to make predictions on new data\n",
      " \n",
      "=== End of training ===\n"
     ]
    },
    {
     "data": {
      "image/png": "[encoded data removed]",
      "text/plain": [
       "<Figure size 576x576 with 1 Axes>"
      ]
     },
     "metadata": {
      "needs_background": "light"
     },
     "output_type": "display_data"
    },
    {
     "data": {
      "image/png": "[encoded data removed]",
      "text/plain": [
       "<Figure size 576x576 with 1 Axes>"
      ]
     },
     "metadata": {
      "needs_background": "light"
     },
     "output_type": "display_data"
    }
   ],
   "source": [
    "model = CNN2DImage(train_address, test_address)"
   ]
  },
  {
   "cell_type": "markdown",
   "metadata": {},
   "source": [
    "See! We just trained a CNN Network for image dataset using ManufacturingNet package without actually writing the code. The CNN architecture is spatially invariant and is extensively used for image datsets\n",
    "\n",
    "The model summary, training accuracy, validation accuracy, r2-score, confusion matrix (in case of classification problem), Loss  vs epoch graph are also provided by the package.\n",
    "\n",
    "Also, since we just used roughly 500 points, the results are not very good."
   ]
  },
  {
   "cell_type": "code",
   "execution_count": null,
   "metadata": {},
   "outputs": [],
   "source": []
  }
 ],
 "metadata": {
  "kernelspec": {
   "display_name": "Python 3",
   "language": "python",
   "name": "python3"
  },
  "language_info": {
   "codemirror_mode": {
    "name": "ipython",
    "version": 3
   },
   "file_extension": ".py",
   "mimetype": "text/x-python",
   "name": "python",
   "nbconvert_exporter": "python",
   "pygments_lexer": "ipython3",
   "version": "3.8.3"
  }
 },
 "nbformat": 4,
 "nbformat_minor": 4
}
