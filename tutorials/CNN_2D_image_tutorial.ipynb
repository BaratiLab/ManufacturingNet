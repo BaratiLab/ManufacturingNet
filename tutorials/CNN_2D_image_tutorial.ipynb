{
 "cells": [
  {
   "cell_type": "markdown",
   "metadata": {},
   "source": [
    "# Developing a CNN Network for image dataset using ManufacturingNet\n",
    "###### To know more about the manufacturingnet please visit: http://manufacturingnet.io/ "
   ]
  },
  {
   "cell_type": "markdown",
   "metadata": {},
   "source": [
    "## Let us import the package and other required libraries"
   ]
  },
  {
   "cell_type": "code",
   "execution_count": 1,
   "metadata": {},
   "outputs": [],
   "source": [
    "import sys\n",
    "sys.path.append('../')"
   ]
  },
  {
   "cell_type": "code",
   "execution_count": 2,
   "metadata": {},
   "outputs": [],
   "source": [
    "import ManufacturingNet\n",
    "import numpy as np"
   ]
  },
  {
   "cell_type": "markdown",
   "metadata": {},
   "source": [
    "##### Let us download the dataset for our CNN2DImage network. The data is already processed and made ready for training"
   ]
  },
  {
   "cell_type": "code",
   "execution_count": 3,
   "metadata": {},
   "outputs": [],
   "source": [
    "from ManufacturingNet import datasets"
   ]
  },
  {
   "cell_type": "code",
   "execution_count": 4,
   "metadata": {},
   "outputs": [
    {
     "ename": "BadZipFile",
     "evalue": "File is not a zip file",
     "output_type": "error",
     "traceback": [
      "\u001b[0;31m---------------------------------------------------------------------------\u001b[0m",
      "\u001b[0;31mBadZipFile\u001b[0m                                Traceback (most recent call last)",
      "Cell \u001b[0;32mIn[4], line 1\u001b[0m\n\u001b[0;32m----> 1\u001b[0m datasets\u001b[39m.\u001b[39;49mCastingData()\n",
      "File \u001b[0;32m~/ManufacturingNet/tutorials/../ManufacturingNet/datasets/datasets.py:128\u001b[0m, in \u001b[0;36mCastingData\u001b[0;34m()\u001b[0m\n\u001b[1;32m    125\u001b[0m destination \u001b[39m=\u001b[39m \u001b[39m'\u001b[39m\u001b[39mCastingData.zip\u001b[39m\u001b[39m'\u001b[39m\n\u001b[1;32m    127\u001b[0m download_file_from_google_drive(data_id, destination)\n\u001b[0;32m--> 128\u001b[0m extract_files(destination)\n\u001b[1;32m    129\u001b[0m remove_zip(destination)\n",
      "File \u001b[0;32m~/ManufacturingNet/tutorials/../ManufacturingNet/datasets/datasets.py:36\u001b[0m, in \u001b[0;36mextract_files\u001b[0;34m(name)\u001b[0m\n\u001b[1;32m     34\u001b[0m \u001b[39mdef\u001b[39;00m \u001b[39mextract_files\u001b[39m(name):\n\u001b[0;32m---> 36\u001b[0m     Zip \u001b[39m=\u001b[39m ZipFile(name)\n\u001b[1;32m     37\u001b[0m     Zip\u001b[39m.\u001b[39mextractall()\n",
      "File \u001b[0;32m~/miniconda3/envs/basys/lib/python3.8/zipfile.py:1269\u001b[0m, in \u001b[0;36mZipFile.__init__\u001b[0;34m(self, file, mode, compression, allowZip64, compresslevel, strict_timestamps)\u001b[0m\n\u001b[1;32m   1267\u001b[0m \u001b[39mtry\u001b[39;00m:\n\u001b[1;32m   1268\u001b[0m     \u001b[39mif\u001b[39;00m mode \u001b[39m==\u001b[39m \u001b[39m'\u001b[39m\u001b[39mr\u001b[39m\u001b[39m'\u001b[39m:\n\u001b[0;32m-> 1269\u001b[0m         \u001b[39mself\u001b[39;49m\u001b[39m.\u001b[39;49m_RealGetContents()\n\u001b[1;32m   1270\u001b[0m     \u001b[39melif\u001b[39;00m mode \u001b[39min\u001b[39;00m (\u001b[39m'\u001b[39m\u001b[39mw\u001b[39m\u001b[39m'\u001b[39m, \u001b[39m'\u001b[39m\u001b[39mx\u001b[39m\u001b[39m'\u001b[39m):\n\u001b[1;32m   1271\u001b[0m         \u001b[39m# set the modified flag so central directory gets written\u001b[39;00m\n\u001b[1;32m   1272\u001b[0m         \u001b[39m# even if no files are added to the archive\u001b[39;00m\n\u001b[1;32m   1273\u001b[0m         \u001b[39mself\u001b[39m\u001b[39m.\u001b[39m_didModify \u001b[39m=\u001b[39m \u001b[39mTrue\u001b[39;00m\n",
      "File \u001b[0;32m~/miniconda3/envs/basys/lib/python3.8/zipfile.py:1336\u001b[0m, in \u001b[0;36mZipFile._RealGetContents\u001b[0;34m(self)\u001b[0m\n\u001b[1;32m   1334\u001b[0m     \u001b[39mraise\u001b[39;00m BadZipFile(\u001b[39m\"\u001b[39m\u001b[39mFile is not a zip file\u001b[39m\u001b[39m\"\u001b[39m)\n\u001b[1;32m   1335\u001b[0m \u001b[39mif\u001b[39;00m \u001b[39mnot\u001b[39;00m endrec:\n\u001b[0;32m-> 1336\u001b[0m     \u001b[39mraise\u001b[39;00m BadZipFile(\u001b[39m\"\u001b[39m\u001b[39mFile is not a zip file\u001b[39m\u001b[39m\"\u001b[39m)\n\u001b[1;32m   1337\u001b[0m \u001b[39mif\u001b[39;00m \u001b[39mself\u001b[39m\u001b[39m.\u001b[39mdebug \u001b[39m>\u001b[39m \u001b[39m1\u001b[39m:\n\u001b[1;32m   1338\u001b[0m     \u001b[39mprint\u001b[39m(endrec)\n",
      "\u001b[0;31mBadZipFile\u001b[0m: File is not a zip file"
     ]
    }
   ],
   "source": [
    "datasets.CastingData()"
   ]
  },
  {
   "cell_type": "code",
   "execution_count": 5,
   "metadata": {},
   "outputs": [
    {
     "name": "stdout",
     "output_type": "stream",
     "text": [
      "Archive:  CastingData.zip\n",
      "  End-of-central-directory signature not found.  Either this file is not\n",
      "  a zipfile, or it constitutes one disk of a multi-part archive.  In the\n",
      "  latter case the central directory and zipfile comment will be found on\n",
      "  the last disk(s) of this archive.\n",
      "unzip:  cannot find zipfile directory in one of CastingData.zip or\n",
      "        CastingData.zip.zip, and cannot find CastingData.zip.ZIP, period.\n"
     ]
    }
   ],
   "source": [
    "! unzip CastingData.zip"
   ]
  },
  {
   "cell_type": "markdown",
   "metadata": {},
   "source": [
    "###### The data is downloaded in the root directoty. Ready to use!"
   ]
  },
  {
   "cell_type": "markdown",
   "metadata": {},
   "source": [
    "The Casting dataset has more 7000 images. Its a classification problem. Using these images, we will classify into 2 classes, defective and normal.\n",
    "\n",
    "For the demonstration purpose, we will use only a few images"
   ]
  },
  {
   "cell_type": "markdown",
   "metadata": {},
   "source": [
    "###### Let us get the folders' addresses"
   ]
  },
  {
   "cell_type": "code",
   "execution_count": 6,
   "metadata": {},
   "outputs": [],
   "source": [
    "train_address = 'casting_data/train'\n",
    "test_address = 'casting_data/test'"
   ]
  },
  {
   "cell_type": "markdown",
   "metadata": {},
   "source": [
    "## We are all set to make our own LSTM network without actually coding it up!"
   ]
  },
  {
   "cell_type": "code",
   "execution_count": 7,
   "metadata": {},
   "outputs": [],
   "source": [
    "from ManufacturingNet.models import CNN2DImage"
   ]
  },
  {
   "cell_type": "code",
   "execution_count": 8,
   "metadata": {
    "scrolled": false
   },
   "outputs": [
    {
     "name": "stdout",
     "output_type": "stream",
     "text": [
      " \n",
      "Number of classes:  2\n",
      "Total number of training images:  6633\n",
      "Total number of validation images:  715\n",
      "=========================\n",
      "1/8 - Image size\n",
      "All the images must have same size.\n",
      "=========================\n",
      "2/8 - Number of Convolution Layers:\n",
      "=========================\n",
      "3/8 - Default value:\n",
      "=========================\n",
      "\n",
      "\n",
      "\n",
      "\n",
      "\n",
      "\n",
      "Designing the 1 convolution block\n",
      "Question: Out-channels: \n",
      "=========================\n",
      "Question: Kernel Size: \n",
      "Please enter a valid input\n",
      "Please enter a valid input\n",
      "=========================\n",
      "Question: Stride value:\n",
      "=========================\n",
      "Question: Padding value:\n",
      "=========================\n",
      "Question: Dropout value: \n",
      "=========================\n",
      "Question: Pooling layer: \n",
      "=========================\n",
      "The image size after this convolution is:  (20, 20)\n",
      "\n",
      "\n",
      "\n",
      "\n",
      "Designing the 2 convolution block\n",
      "Question: Out-channels: \n",
      "=========================\n",
      "Question: Kernel Size: \n",
      "Default Value selected\n",
      "=========================\n",
      "Question: Stride value:\n",
      "Default Value selected\n",
      "=========================\n",
      "Question: Padding value:\n",
      "Default Value selected\n",
      "=========================\n",
      "Question: Dropout value: \n",
      "Default value selected\n",
      "=========================\n",
      "Question: Pooling layer: \n"
     ]
    }
   ],
   "source": [
    "model = CNN2DImage(train_address, test_address)"
   ]
  },
  {
   "cell_type": "markdown",
   "metadata": {},
   "source": [
    "See! We just trained a CNN Network for image dataset using ManufacturingNet package without actually writing the code. The CNN architecture is spatially invariant and is extensively used for image datsets\n",
    "\n",
    "The model summary, training accuracy, validation accuracy, r2-score, confusion matrix (in case of classification problem), Loss  vs epoch graph are also provided by the package.\n",
    "\n",
    "Also, since we just used roughly 500 points, the results are not very good."
   ]
  },
  {
   "cell_type": "code",
   "execution_count": null,
   "metadata": {},
   "outputs": [],
   "source": []
  }
 ],
 "metadata": {
  "kernelspec": {
   "display_name": "Python 3",
   "language": "python",
   "name": "python3"
  },
  "language_info": {
   "codemirror_mode": {
    "name": "ipython",
    "version": 3
   },
   "file_extension": ".py",
   "mimetype": "text/x-python",
   "name": "python",
   "nbconvert_exporter": "python",
   "pygments_lexer": "ipython3",
   "version": "3.8.16"
  }
 },
 "nbformat": 4,
 "nbformat_minor": 4
}
