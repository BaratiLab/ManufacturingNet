{
 "cells": [
  {
   "cell_type": "markdown",
   "metadata": {},
   "source": [
    "# Developing a CNN Network for image dataset using ManufacturingNet\n",
    "###### To know more about the manufacturingnet please visit: http://manufacturingnet.io/ "
   ]
  },
  {
   "cell_type": "markdown",
   "metadata": {},
   "source": [
    "## Let us import the package and other required libraries"
   ]
  },
  {
   "cell_type": "code",
   "execution_count": 1,
   "metadata": {},
   "outputs": [],
   "source": [
    "import sys\n",
    "sys.path.append(\"../\")"
   ]
  },
  {
   "cell_type": "code",
   "execution_count": 2,
   "metadata": {},
   "outputs": [],
   "source": [
    "import ManufacturingNet\n",
    "import numpy as np"
   ]
  },
  {
   "cell_type": "markdown",
   "metadata": {},
   "source": [
    "##### Let us download the dataset for our CNN2DImage network. The data is already processed and made ready for training"
   ]
  },
  {
   "cell_type": "code",
   "execution_count": 3,
   "metadata": {},
   "outputs": [],
   "source": [
    "from ManufacturingNet import datasets"
   ]
  },
  {
   "cell_type": "code",
   "execution_count": 5,
   "metadata": {},
   "outputs": [
    {
     "name": "stderr",
     "output_type": "stream",
     "text": [
      "Downloading...\n",
      "From: https://drive.google.com/uc?id=1qNnLCcq1HlzS0WmOCRlJfNC9ZF26j_6f\n",
      "To: /home/cmu/ManufacturingNet/tutorials/CastingData.zip\n",
      "100%|██████████| 72.5M/72.5M [00:06<00:00, 10.7MB/s]\n"
     ]
    }
   ],
   "source": [
    "# downloading and unzipping casting data\n",
    "datasets.CastingData()"
   ]
  },
  {
   "cell_type": "markdown",
   "metadata": {},
   "source": [
    "###### The data is downloaded in the root directoty. Ready to use!"
   ]
  },
  {
   "cell_type": "markdown",
   "metadata": {},
   "source": [
    "The Casting dataset has more 7000 images. Its a classification problem. Using these images, we will classify into 2 classes, defective and normal.\n",
    "\n",
    "For the demonstration purpose, we will use only a few images"
   ]
  },
  {
   "cell_type": "markdown",
   "metadata": {},
   "source": [
    "###### Let us get the folders' addresses"
   ]
  },
  {
   "cell_type": "code",
   "execution_count": 4,
   "metadata": {},
   "outputs": [],
   "source": [
    "train_address = 'casting_data/train'\n",
    "test_address = 'casting_data/test'"
   ]
  },
  {
   "cell_type": "markdown",
   "metadata": {},
   "source": [
    "## We are all set to make our own LSTM network without actually coding it up!"
   ]
  },
  {
   "cell_type": "code",
   "execution_count": 5,
   "metadata": {},
   "outputs": [],
   "source": [
    "from ManufacturingNet.models import CNN2DImage"
   ]
  },
  {
   "cell_type": "code",
   "execution_count": null,
   "metadata": {
    "scrolled": false
   },
   "outputs": [],
   "source": [
    "model = CNN2DImage(train_address, test_address)"
   ]
  },
  {
   "cell_type": "markdown",
   "metadata": {},
   "source": [
    "See! We just trained a CNN Network for image dataset using ManufacturingNet package without actually writing the code. The CNN architecture is spatially invariant and is extensively used for image datsets\n",
    "\n",
    "The model summary, training accuracy, validation accuracy, r2-score, confusion matrix (in case of classification problem), Loss  vs epoch graph are also provided by the package.\n",
    "\n",
    "Also, since we just used roughly 500 points, the results are not very good."
   ]
  }
 ],
 "metadata": {
  "kernelspec": {
   "display_name": "robotics",
   "language": "python",
   "name": "python3"
  },
  "language_info": {
   "codemirror_mode": {
    "name": "ipython",
    "version": 3
   },
   "file_extension": ".py",
   "mimetype": "text/x-python",
   "name": "python",
   "nbconvert_exporter": "python",
   "pygments_lexer": "ipython3",
   "version": "3.8.16"
  },
  "vscode": {
   "interpreter": {
    "hash": "18cf912b356ea838ce5984d5dd427c109d0098d9758c1980ff8b664fe2b3a2be"
   }
  }
 },
 "nbformat": 4,
 "nbformat_minor": 4
}
