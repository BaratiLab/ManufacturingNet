{
 "cells": [
  {
   "cell_type": "markdown",
   "metadata": {},
   "source": [
    "# Developing a Pretrained Alexnet model using ManufacturingNet\n",
    "###### To know more about the manufacturingnet please visit: http://manufacturingnet.io/ "
   ]
  },
  {
   "cell_type": "code",
   "execution_count": 1,
   "metadata": {},
   "outputs": [],
   "source": [
    "import ManufacturingNet\n",
    "import numpy as np"
   ]
  },
  {
   "cell_type": "markdown",
   "metadata": {},
   "source": [
    "First we import manufacturingnet. Using manufacturingnet we can create deep learning models with greater ease.\n",
    "\n",
    "\n",
    "\n",
    "It is important to note that all the dependencies of the package must also be installed in your environment "
   ]
  },
  {
   "cell_type": "markdown",
   "metadata": {},
   "source": [
    "##### Now we first need to download the data. You can use our dataset class where we have curated different types of datasets and you just need to run two lines of code to download the data :)"
   ]
  },
  {
   "cell_type": "code",
   "execution_count": 2,
   "metadata": {},
   "outputs": [],
   "source": [
    "from ManufacturingNet import datasets"
   ]
  },
  {
   "cell_type": "code",
   "execution_count": 3,
   "metadata": {},
   "outputs": [],
   "source": [
    "datasets.CastingData()"
   ]
  },
  {
   "cell_type": "markdown",
   "metadata": {},
   "source": [
    "##### Alright! Now please check your working directory. The data should be present inside it. That was super easy !!"
   ]
  },
  {
   "cell_type": "markdown",
   "metadata": {},
   "source": [
    "The Casting dataset is an image dataset with 2 classes. The task that we need to perform using Pretrained Alexnet is classification. ManufacturingNet has also provided different datasets in the package which the user can choose depending on type of application"
   ]
  },
  {
   "cell_type": "markdown",
   "metadata": {},
   "source": [
    "Pretrained models use Imagefolder dataset from pytorch and image size is (224,224,channels). The pretrained model needs the root folder path of train and test images(Imagefolder format). Manufacturing pretrained models have image resizing feature. "
   ]
  },
  {
   "cell_type": "code",
   "execution_count": 4,
   "metadata": {},
   "outputs": [],
   "source": [
    "#paths of root folder\n",
    "train_data_address='casting_data/train/'\n",
    "val_data_address='casting_data/test/'"
   ]
  },
  {
   "cell_type": "markdown",
   "metadata": {},
   "source": [
    "#### Now all we got to do is import the pretrained model class and answer a few simple questions and we will be all set. The manufacturingnet has been designed in a way to make things easy for user and provide them the tools to implement complex used"
   ]
  },
  {
   "cell_type": "code",
   "execution_count": 5,
   "metadata": {},
   "outputs": [],
   "source": [
    "from ManufacturingNet.models import AlexNet"
   ]
  },
  {
   "cell_type": "code",
   "execution_count": 1,
   "metadata": {},
   "outputs": [],
   "source": [
    "# from ManufacturingNet.models import ResNet\n",
    "# from ManufacturingNet.models import DenseNet\n",
    "# from ManufacturingNet.models import MobileNet\n",
    "# from ManufacturingNet.models import GoogleNet\n",
    "# from ManufacturingNet.models import VGG"
   ]
  },
  {
   "cell_type": "markdown",
   "metadata": {},
   "source": [
    "###### We import the pretrained Alexnet model (AlexNet) from package and answer a few simple questions"
   ]
  },
  {
   "cell_type": "code",
   "execution_count": 6,
   "metadata": {
    "scrolled": true
   },
   "outputs": [
    {
     "name": "stdout",
     "output_type": "stream",
     "text": [
      "Do you want default values for all the training parameters (y/n)? n\n",
      " \n",
      "Number of classes:  2\n",
      "Total number of training images:  6633\n",
      "Total number of validation images:  715\n",
      "=========================\n",
      "1/8 - Image size\n",
      "All the images must have same size.\n",
      "Please enter the dimensions to which images need to be resized (heigth, width, channels): \n",
      "For example - 228, 228, 1 (For gray scale conversion)\n",
      " If all images have same size, enter the actual image size (heigth, width, channels) :\n",
      " 224,224,1\n",
      "=========================\n",
      "Question [2/7]: Model Selection:\n",
      "\n",
      "Do you want the pretrained model (y/n)? y\n",
      "=========================\n",
      "=========================\n",
      "3/7 - Batch size input\n",
      "Please enter the batch size: 32\n",
      "=========================\n",
      "4/7- Loss function\n",
      "Loss function: CrossEntropy()\n",
      "=========================\n",
      "5/7 - Optimizer\n",
      "Please enter the optimizer index for the problem \n",
      " Optimizer_list - [1: Adam, 2: SGD] \n",
      " For default optimizer, please directly press enter without any input: 1\n",
      " \n",
      "Please enter a required value float input for learning rate (learning rate > 0) \n",
      " For default learning rate, please directly press enter without any input: \n",
      "Default value for learning rate selected : 0.001\n",
      " \n",
      "=========================\n",
      "6/7 - Scheduler\n",
      "Please enter the scheduler index for the problem: Scheduler_list - [1: None, 2:StepLR, 3:MultiStepLR] \n",
      " For default option of no scheduler, please directly press enter without any input: \n",
      "By default no scheduler selected\n",
      " \n",
      "=========================\n",
      "7/7 - Number of epochs\n",
      "Please enter the number of epochs to train the model: 3\n",
      "=========================\n",
      "Neural network architecture: \n",
      " \n",
      "AlexNet(\n",
      "  (features): Sequential(\n",
      "    (0): Conv2d(1, 64, kernel_size=(3, 3), stride=(1, 1), padding=(1, 1), bias=False)\n",
      "    (1): ReLU(inplace=True)\n",
      "    (2): MaxPool2d(kernel_size=3, stride=2, padding=0, dilation=1, ceil_mode=False)\n",
      "    (3): Conv2d(64, 192, kernel_size=(5, 5), stride=(1, 1), padding=(2, 2))\n",
      "    (4): ReLU(inplace=True)\n",
      "    (5): MaxPool2d(kernel_size=3, stride=2, padding=0, dilation=1, ceil_mode=False)\n",
      "    (6): Conv2d(192, 384, kernel_size=(3, 3), stride=(1, 1), padding=(1, 1))\n",
      "    (7): ReLU(inplace=True)\n",
      "    (8): Conv2d(384, 256, kernel_size=(3, 3), stride=(1, 1), padding=(1, 1))\n",
      "    (9): ReLU(inplace=True)\n",
      "    (10): Conv2d(256, 256, kernel_size=(3, 3), stride=(1, 1), padding=(1, 1))\n",
      "    (11): ReLU(inplace=True)\n",
      "    (12): MaxPool2d(kernel_size=3, stride=2, padding=0, dilation=1, ceil_mode=False)\n",
      "  )\n",
      "  (avgpool): AdaptiveAvgPool2d(output_size=(6, 6))\n",
      "  (classifier): Sequential(\n",
      "    (0): Dropout(p=0.5, inplace=False)\n",
      "    (1): Linear(in_features=9216, out_features=4096, bias=True)\n",
      "    (2): ReLU(inplace=True)\n",
      "    (3): Dropout(p=0.5, inplace=False)\n",
      "    (4): Linear(in_features=4096, out_features=4096, bias=True)\n",
      "    (5): ReLU(inplace=True)\n",
      "    (6): Linear(in_features=4096, out_features=2, bias=True)\n",
      "  )\n",
      ")\n",
      "=========================\n",
      "Model Summary:\n",
      " \n",
      "Criterion:  CrossEntropyLoss()\n",
      "Optimizer:  Adam (\n",
      "Parameter Group 0\n",
      "    amsgrad: False\n",
      "    betas: (0.9, 0.999)\n",
      "    eps: 1e-08\n",
      "    lr: 0.001\n",
      "    weight_decay: 0\n",
      ")\n",
      "Scheduler:  None\n",
      "Batch size:  32\n",
      "Initial learning rate:  0.001\n",
      "Number of training epochs:  3\n",
      "Device:  cuda\n",
      " \n",
      "=========================\n",
      "Training the model...\n",
      "Epoch_Number:  0\n",
      "Training Loss:  0.692960987014512\n",
      "Training Accuracy:  56.03799185888738 %\n",
      "Validation Loss:  0.6741172287323096\n",
      "Validation Accuracy:  63.35664335664336 %\n",
      "Epoch Time:  1921.2051339149475 s\n",
      "##################################################\n",
      "Epoch_Number:  1\n",
      "Training Loss:  0.6851664346403937\n",
      "Training Accuracy:  56.34705261570934 %\n",
      "Validation Loss:  0.6856002469311209\n",
      "Validation Accuracy:  63.35664335664336 %\n",
      "Epoch Time:  1918.337572813034 s\n",
      "##################################################\n",
      "Epoch_Number:  2\n",
      "Training Loss:  0.6857230691407351\n",
      "Training Accuracy:  56.450072867983316 %\n",
      "Validation Loss:  0.6732170486211453\n",
      "Validation Accuracy:  63.35664335664336 %\n",
      "Epoch Time:  1916.1428580284119 s\n",
      "##################################################\n",
      "Confusion Matix: \n",
      "[[453 262]\n",
      " [  0   0]]\n",
      "Do you want to save the model weights? (y/n): n\n",
      "=========================\n",
      " Call get_prediction() to make predictions on new data\n",
      " \n",
      "=== End of training ===\n"
     ]
    },
    {
     "data": {
      "image/png": "[encoded data removed]",
      "text/plain": [
       "<Figure size 576x576 with 1 Axes>"
      ]
     },
     "metadata": {
      "needs_background": "light"
     },
     "output_type": "display_data"
    },
    {
     "data": {
      "image/png": "[encoded data removed]",
      "text/plain": [
       "<Figure size 576x576 with 1 Axes>"
      ]
     },
     "metadata": {
      "needs_background": "light"
     },
     "output_type": "display_data"
    }
   ],
   "source": [
    "model=AlexNet(train_data_address,val_data_address)"
   ]
  },
  {
   "cell_type": "code",
   "execution_count": null,
   "metadata": {},
   "outputs": [],
   "source": [
    "# model=ResNet(train_data_address,val_data_address)\n",
    "# model=DenseNet(train_data_address,val_data_address)\n",
    "# model=MobileNet(train_data_address,val_data_address)\n",
    "# model=GoogleNet(train_data_address,val_data_address)\n",
    "# model=VGG(train_data_address,val_data_address)"
   ]
  },
  {
   "cell_type": "markdown",
   "metadata": {},
   "source": [
    "Alright! Its done you have built your pretrained AlexNet using the manufacturingnet package. Just by answering a few simple questions. It is really easy\n",
    "\n",
    "The Casting dataset contains more 7000 images including training and testing. The results produced above are just for introducing ManufacturingNet. Hence, only 3 epochs were performed. Better results can be obtained by running more epochs.\n",
    "\n",
    "A few pointers about developing the pretrained models. These models require image size to be (224,224,channels) as the input size of the image. The number of classes for classification can be varied and is handled by the package. User can use only the architecture without using the pretrained weights.\n",
    "\n",
    "The loss functions, optimizer, epochs, scheduler should be chosen by the user. The model summary, training accuracy, validation accuracy, confusion matrix, Loss  vs epoch are also provided by the package.\n",
    "\n",
    "ManufacturingNet provides many pretrained models with similar scripts. ManufacturingNet offer ResNet(different variants), AlexNet, GoogleNet, VGG(different variants) and DenseNet(different variants).\n",
    "\n",
    "Users can follow a similar tutorial on pretrained ResNet(different variants)."
   ]
  }
 ],
 "metadata": {
  "kernelspec": {
   "display_name": "Python 3.6.9 64-bit",
   "language": "python",
   "name": "python3"
  },
  "language_info": {
   "codemirror_mode": {
    "name": "ipython",
    "version": 3
   },
   "file_extension": ".py",
   "mimetype": "text/x-python",
   "name": "python",
   "nbconvert_exporter": "python",
   "pygments_lexer": "ipython3",
   "version": "3.6.9"
  },
  "vscode": {
   "interpreter": {
    "hash": "31f2aee4e71d21fbe5cf8b01ff0e069b9275f58929596ceb00d14d90e3e16cd6"
   }
  }
 },
 "nbformat": 4,
 "nbformat_minor": 4
}
