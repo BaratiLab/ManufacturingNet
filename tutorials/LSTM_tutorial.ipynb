{
 "cells": [
  {
   "cell_type": "markdown",
   "metadata": {},
   "source": [
    "# Developing an LSTM Network using ManufacturingNet\n",
    "###### To know more about the manufacturingnet please visit: http://manufacturingnet.io/ "
   ]
  },
  {
   "cell_type": "markdown",
   "metadata": {},
   "source": [
    "## Let us import the package and other required libraries"
   ]
  },
  {
   "cell_type": "code",
   "execution_count": 1,
   "metadata": {},
   "outputs": [],
   "source": [
    "import ManufacturingNet\n",
    "import numpy as np"
   ]
  },
  {
   "cell_type": "markdown",
   "metadata": {},
   "source": [
    "##### Let us download the dataset for our LSTM network. The data is already processed and made ready for training"
   ]
  },
  {
   "cell_type": "code",
   "execution_count": 2,
   "metadata": {},
   "outputs": [],
   "source": [
    "from ManufacturingNet import datasets"
   ]
  },
  {
   "cell_type": "code",
   "execution_count": 3,
   "metadata": {},
   "outputs": [],
   "source": [
    "datasets.MotorTempData()"
   ]
  },
  {
   "cell_type": "markdown",
   "metadata": {},
   "source": [
    "###### The data is downloaded in the root directoty. Ready to use!"
   ]
  },
  {
   "cell_type": "markdown",
   "metadata": {},
   "source": [
    "The Paderborn Motor temperature dataset has close to 1 million data points. Its a regression problem. Based on the given values of other parameters such as coolant temperature, ambient temperature, load, current, voltage, etc., we will try to predict the rotor temperature."
   ]
  },
  {
   "cell_type": "markdown",
   "metadata": {},
   "source": [
    "##### Let us load the data"
   ]
  },
  {
   "cell_type": "code",
   "execution_count": 4,
   "metadata": {},
   "outputs": [],
   "source": [
    "x = np.load('Motor temperature files/input data.npy', allow_pickle = True)\n",
    "y = np.load('Motor temperature files/labels.npy', allow_pickle = True)"
   ]
  },
  {
   "cell_type": "markdown",
   "metadata": {},
   "source": [
    "##### For demonstration purpose, we will use just 1000 points"
   ]
  },
  {
   "cell_type": "code",
   "execution_count": 5,
   "metadata": {},
   "outputs": [],
   "source": [
    "x = x[0:1000]\n",
    "y = y[0:1000].reshape(-1, 1)"
   ]
  },
  {
   "cell_type": "markdown",
   "metadata": {},
   "source": [
    "## We are all set to make our own LSTM network without actually coding it up!"
   ]
  },
  {
   "cell_type": "code",
   "execution_count": 6,
   "metadata": {},
   "outputs": [],
   "source": [
    "from ManufacturingNet.models import LSTMModel"
   ]
  },
  {
   "cell_type": "code",
   "execution_count": 8,
   "metadata": {
    "scrolled": false
   },
   "outputs": [
    {
     "name": "stdout",
     "output_type": "stream",
     "text": [
      "Do you want default values for all the parameters (y/n)? n\n",
      " \n",
      " \n",
      "1/11 - LSTM input size\n",
      "Please enter the input size in int for the LSTM network (input size > 0): 11\n",
      " \n",
      "=========================\n",
      "2/11 - LSTM hidden size\n",
      "Please enter the hidden size in int for the LSTM network (hidden size > 0)\n",
      " For default size, please directly press enter without any input: 32\n",
      " \n",
      "=========================\n",
      "3/11 - LSTM number of layers\n",
      "Please enter the number of layer for the LSTM network in int (number of layer > 0)\n",
      " For default option, please directly press enter without any input: 3\n",
      " \n",
      "=========================\n",
      "4/11 - LSTM bidirectional\n",
      "Please enter 1 to have a bidirectional LSTM network else enter 0 \n",
      " For default option, please directly press enter without any input: 0\n",
      " \n",
      "=========================\n",
      "5/11 - LSTM output size\n",
      "Please enter the output size for the LSTM network. \n",
      " For regression please enter 1 else enter the number of classes for classification problem: \n",
      "Please enter a valid input\n",
      " \n",
      "Please enter the output size for the LSTM network. \n",
      " For regression please enter 1 else enter the number of classes for classification problem: 1\n",
      " \n",
      "=========================\n",
      "6/11 - Batch size input\n",
      "Please enter the batch size int input (greater than 0): 64\n",
      " \n",
      "=========================\n",
      "7/11 - Validation set size\n",
      "Please enter the train set size float input (size > 0 and size < 1) \n",
      " For default size, please directly press enter without any input: 0.2\n",
      " \n",
      "=========================\n",
      "8/11 - Loss function\n",
      "Please enter the appropriate loss function index for the problem: \n",
      " Criterion_list - [1: CrossEntropyLoss, 2: L1Loss, 3: SmoothL1Loss, 4: MSELoss]: 4\n",
      " \n",
      "=========================\n",
      "9/11 - Optimizer\n",
      "Please enter the optimizer index for the problem \n",
      " Optimizer_list - [1: Adam, 2: SGD] \n",
      " For default optimizer, please directly press enter without any input: 1\n",
      " \n",
      "Please enter a required value float input for learning rate (learning rate > 0) \n",
      " For default learning rate, please directly press enter without any input: 0.001\n",
      " \n",
      "=========================\n",
      "10/11 - Scheduler\n",
      "Please enter the scheduler index for the problem: Scheduler_list - [1: None, 2:StepLR, 3:MultiStepLR] \n",
      " For default option of no scheduler, please directly press enter without any input: 2\n",
      " \n",
      "Please enter a step value int input (step > 0): 5\n",
      " \n",
      "Please enter a Multiplying factor value float input (Multiplying factor > 0): 0.1\n",
      "=========================\n",
      "11/11 - Number of epochs\n",
      "Please enter the number of epochs int input to train the model (number of epochs > 0): 15\n",
      " \n",
      "=========================\n",
      "Network architecture: \n",
      " \n",
      "LSTM(\n",
      "  (lstm): LSTM(11, 32, num_layers=3, batch_first=True)\n",
      "  (linear1): Linear(in_features=32, out_features=16, bias=True)\n",
      "  (linear2): Linear(in_features=16, out_features=8, bias=True)\n",
      "  (linear3): Linear(in_features=8, out_features=1, bias=True)\n",
      ")\n",
      "=========================\n",
      "Model Summary:\n",
      " \n",
      "Bidirectional:  False\n",
      "Number of layer:  3\n",
      "Criterion:  MSELoss()\n",
      "Optimizer:  Adam (\n",
      "Parameter Group 0\n",
      "    amsgrad: False\n",
      "    betas: (0.9, 0.999)\n",
      "    eps: 1e-08\n",
      "    initial_lr: 0.001\n",
      "    lr: 0.001\n",
      "    weight_decay: 0\n",
      ")\n",
      "Scheduler:  <torch.optim.lr_scheduler.StepLR object at 0x000001A14F6CAA60>\n",
      "Validation set size:  0.2\n",
      "Batch size:  64\n",
      "Initial learning rate:  0.001\n",
      "Number of training epochs:  15\n",
      "Device:  cpu\n",
      " \n",
      "=========================\n",
      "Training the model...\n",
      "Epoch_Number:  0\n",
      "Training Loss:  3.231793341702409\n",
      "Validation Loss:  2.940635246828463\n",
      "Current scheduler status:  Adam (\n",
      "Parameter Group 0\n",
      "    amsgrad: False\n",
      "    betas: (0.9, 0.999)\n",
      "    eps: 1e-08\n",
      "    initial_lr: 0.001\n",
      "    lr: 0.001\n",
      "    weight_decay: 0\n",
      ")\n",
      "Epoch Time:  2.074665069580078 s\n",
      "##################################################\n",
      "Epoch_Number:  1\n",
      "Training Loss:  2.534383283869769\n",
      "Validation Loss:  1.7889521689257786\n",
      "Current scheduler status:  Adam (\n",
      "Parameter Group 0\n",
      "    amsgrad: False\n",
      "    betas: (0.9, 0.999)\n",
      "    eps: 1e-08\n",
      "    initial_lr: 0.001\n",
      "    lr: 0.001\n",
      "    weight_decay: 0\n",
      ")\n",
      "Epoch Time:  2.1486082077026367 s\n",
      "##################################################\n",
      "Epoch_Number:  2\n",
      "Training Loss:  1.1209941177497984\n",
      "Validation Loss:  0.4278860409096463\n",
      "Current scheduler status:  Adam (\n",
      "Parameter Group 0\n",
      "    amsgrad: False\n",
      "    betas: (0.9, 0.999)\n",
      "    eps: 1e-08\n",
      "    initial_lr: 0.001\n",
      "    lr: 0.001\n",
      "    weight_decay: 0\n",
      ")\n",
      "Epoch Time:  1.9302089214324951 s\n",
      "##################################################\n",
      "Epoch_Number:  3\n",
      "Training Loss:  0.2767704917431786\n",
      "Validation Loss:  0.365182161276877\n",
      "Current scheduler status:  Adam (\n",
      "Parameter Group 0\n",
      "    amsgrad: False\n",
      "    betas: (0.9, 0.999)\n",
      "    eps: 1e-08\n",
      "    initial_lr: 0.001\n",
      "    lr: 0.001\n",
      "    weight_decay: 0\n",
      ")\n",
      "Epoch Time:  2.113112688064575 s\n",
      "##################################################\n",
      "Epoch_Number:  4\n",
      "Training Loss:  0.27676474848777316\n",
      "Validation Loss:  0.2608518507580256\n",
      "Current scheduler status:  Adam (\n",
      "Parameter Group 0\n",
      "    amsgrad: False\n",
      "    betas: (0.9, 0.999)\n",
      "    eps: 1e-08\n",
      "    initial_lr: 0.001\n",
      "    lr: 0.0001\n",
      "    weight_decay: 0\n",
      ")\n",
      "Epoch Time:  2.016997814178467 s\n",
      "##################################################\n",
      "Epoch_Number:  5\n",
      "Training Loss:  0.23503501452943631\n",
      "Validation Loss:  0.2612189632268459\n",
      "Current scheduler status:  Adam (\n",
      "Parameter Group 0\n",
      "    amsgrad: False\n",
      "    betas: (0.9, 0.999)\n",
      "    eps: 1e-08\n",
      "    initial_lr: 0.001\n",
      "    lr: 0.0001\n",
      "    weight_decay: 0\n",
      ")\n",
      "Epoch Time:  1.9233818054199219 s\n",
      "##################################################\n",
      "Epoch_Number:  6\n",
      "Training Loss:  0.23361422041484423\n",
      "Validation Loss:  0.26087504679180534\n",
      "Current scheduler status:  Adam (\n",
      "Parameter Group 0\n",
      "    amsgrad: False\n",
      "    betas: (0.9, 0.999)\n",
      "    eps: 1e-08\n",
      "    initial_lr: 0.001\n",
      "    lr: 0.0001\n",
      "    weight_decay: 0\n",
      ")\n",
      "Epoch Time:  1.8995723724365234 s\n",
      "##################################################\n",
      "Epoch_Number:  7\n",
      "Training Loss:  0.23217404505829023\n",
      "Validation Loss:  0.2606918362494741\n",
      "Current scheduler status:  Adam (\n",
      "Parameter Group 0\n",
      "    amsgrad: False\n",
      "    betas: (0.9, 0.999)\n",
      "    eps: 1e-08\n",
      "    initial_lr: 0.001\n",
      "    lr: 0.0001\n",
      "    weight_decay: 0\n",
      ")\n",
      "Epoch Time:  1.842313528060913 s\n",
      "##################################################\n",
      "Epoch_Number:  8\n",
      "Training Loss:  0.23176548909454983\n",
      "Validation Loss:  0.2607120129903432\n",
      "Current scheduler status:  Adam (\n",
      "Parameter Group 0\n",
      "    amsgrad: False\n",
      "    betas: (0.9, 0.999)\n",
      "    eps: 1e-08\n",
      "    initial_lr: 0.001\n",
      "    lr: 0.0001\n",
      "    weight_decay: 0\n",
      ")\n",
      "Epoch Time:  1.9273695945739746 s\n",
      "##################################################\n",
      "Epoch_Number:  9\n",
      "Training Loss:  0.23295423836259033\n",
      "Validation Loss:  0.26079932251232546\n",
      "Current scheduler status:  Adam (\n",
      "Parameter Group 0\n",
      "    amsgrad: False\n",
      "    betas: (0.9, 0.999)\n",
      "    eps: 1e-08\n",
      "    initial_lr: 0.001\n",
      "    lr: 1e-05\n",
      "    weight_decay: 0\n",
      ")\n",
      "Epoch Time:  1.8237130641937256 s\n",
      "##################################################\n",
      "Epoch_Number:  10\n",
      "Training Loss:  0.23143537215541343\n",
      "Validation Loss:  0.26080741268178864\n",
      "Current scheduler status:  Adam (\n",
      "Parameter Group 0\n",
      "    amsgrad: False\n",
      "    betas: (0.9, 0.999)\n",
      "    eps: 1e-08\n",
      "    initial_lr: 0.001\n",
      "    lr: 1e-05\n",
      "    weight_decay: 0\n",
      ")\n",
      "Epoch Time:  1.7921960353851318 s\n",
      "##################################################\n",
      "Epoch_Number:  11\n",
      "Training Loss:  0.23266969288019163\n",
      "Validation Loss:  0.26081101259724365\n",
      "Current scheduler status:  Adam (\n",
      "Parameter Group 0\n",
      "    amsgrad: False\n",
      "    betas: (0.9, 0.999)\n",
      "    eps: 1e-08\n",
      "    initial_lr: 0.001\n",
      "    lr: 1e-05\n",
      "    weight_decay: 0\n",
      ")\n",
      "Epoch Time:  1.783437967300415 s\n",
      "##################################################\n",
      "Epoch_Number:  12\n",
      "Training Loss:  0.23235097003036673\n",
      "Validation Loss:  0.260818032597791\n",
      "Current scheduler status:  Adam (\n",
      "Parameter Group 0\n",
      "    amsgrad: False\n",
      "    betas: (0.9, 0.999)\n",
      "    eps: 1e-08\n",
      "    initial_lr: 0.001\n",
      "    lr: 1e-05\n",
      "    weight_decay: 0\n",
      ")\n",
      "Epoch Time:  1.9719734191894531 s\n",
      "##################################################\n",
      "Epoch_Number:  13\n",
      "Training Loss:  0.23431259285560732\n",
      "Validation Loss:  0.26084159752215713\n",
      "Current scheduler status:  Adam (\n",
      "Parameter Group 0\n",
      "    amsgrad: False\n",
      "    betas: (0.9, 0.999)\n",
      "    eps: 1e-08\n",
      "    initial_lr: 0.001\n",
      "    lr: 1e-05\n",
      "    weight_decay: 0\n",
      ")\n",
      "Epoch Time:  2.087709426879883 s\n",
      "##################################################\n",
      "Epoch_Number:  14\n",
      "Training Loss:  0.23490383821410557\n",
      "Validation Loss:  0.26085295459621777\n",
      "Current scheduler status:  Adam (\n",
      "Parameter Group 0\n",
      "    amsgrad: False\n",
      "    betas: (0.9, 0.999)\n",
      "    eps: 1e-08\n",
      "    initial_lr: 0.001\n",
      "    lr: 1.0000000000000002e-06\n",
      "    weight_decay: 0\n",
      ")\n",
      "Epoch Time:  2.177650213241577 s\n",
      "##################################################\n",
      "r2 score: \n",
      "-2813883.8249990544\n"
     ]
    },
    {
     "name": "stdout",
     "output_type": "stream",
     "text": [
      "Do you want to save the model weights? (y/n): y\n",
      "=========================\n",
      " Call get_prediction() to make predictions on new data\n",
      " \n",
      "=== End of training ===\n"
     ]
    },
    {
     "data": {
      "image/png": "[encoded data removed]",
      "text/plain": [
       "<Figure size 576x576 with 1 Axes>"
      ]
     },
     "metadata": {
      "needs_background": "light"
     },
     "output_type": "display_data"
    },
    {
     "data": {
      "image/png": "[encoded data removed]",
      "text/plain": [
       "<Figure size 576x576 with 1 Axes>"
      ]
     },
     "metadata": {
      "needs_background": "light"
     },
     "output_type": "display_data"
    }
   ],
   "source": [
    "model = LSTMModel(x, y)"
   ]
  },
  {
   "cell_type": "markdown",
   "metadata": {},
   "source": [
    "See! We just trained an LSTM Network using ManufacturingNet package without actually writing the code.\n",
    "\n",
    "The input data here has 11 features so we use 11 neurons in the input layer. As the problem was of regression nature, we added just one neuron in the ouput layer. However, for classification, please change the number of neurons according to your problem.\n",
    "\n",
    "The model summary, training accuracy, validation accuracy, r2-score, confusion matrix (in case of classification problem), Loss  vs epoch graph are also provided by the package.\n",
    "\n",
    "Also, since we just used 1000 points, the results are not very good."
   ]
  },
  {
   "cell_type": "code",
   "execution_count": null,
   "metadata": {},
   "outputs": [],
   "source": []
  }
 ],
 "metadata": {
  "kernelspec": {
   "display_name": "Python 3",
   "language": "python",
   "name": "python3"
  },
  "language_info": {
   "codemirror_mode": {
    "name": "ipython",
    "version": 3
   },
   "file_extension": ".py",
   "mimetype": "text/x-python",
   "name": "python",
   "nbconvert_exporter": "python",
   "pygments_lexer": "ipython3",
   "version": "3.8.3"
  }
 },
 "nbformat": 4,
 "nbformat_minor": 4
}
