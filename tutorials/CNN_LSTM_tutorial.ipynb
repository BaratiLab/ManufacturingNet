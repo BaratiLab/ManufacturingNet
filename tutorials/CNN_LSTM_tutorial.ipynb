{
 "cells": [
  {
   "cell_type": "markdown",
   "metadata": {},
   "source": [
    "# Developing a CNN-LSTM Network using ManufacturingNet\n",
    "###### To know more about the manufacturingnet please visit: http://manufacturingnet.io/ "
   ]
  },
  {
   "cell_type": "markdown",
   "metadata": {},
   "source": [
    "## Let us import the package and other required libraries"
   ]
  },
  {
   "cell_type": "code",
   "execution_count": 1,
   "metadata": {},
   "outputs": [],
   "source": [
    "import ManufacturingNet\n",
    "import numpy as np"
   ]
  },
  {
   "cell_type": "markdown",
   "metadata": {},
   "source": [
    "##### Let us download the dataset for our LSTM network. The data is already processed and made ready for training. As the dataset is big, it will take some time to download"
   ]
  },
  {
   "cell_type": "code",
   "execution_count": 3,
   "metadata": {},
   "outputs": [],
   "source": [
    "from ManufacturingNet import datasets"
   ]
  },
  {
   "cell_type": "code",
   "execution_count": 5,
   "metadata": {},
   "outputs": [
    {
     "name": "stderr",
     "output_type": "stream",
     "text": [
      "Downloading...\n",
      "From: https://drive.google.com/uc?id=1XY4fbNtzKrXXPtfiPGpwunWvyIDH_V57\n",
      "To: /home/cmu/ManufacturingNet/tutorials/LithographyData.zip\n",
      "100%|██████████| 4.54G/4.54G [08:48<00:00, 8.60MB/s]\n"
     ]
    }
   ],
   "source": [
    "datasets.LithographyData()"
   ]
  },
  {
   "cell_type": "markdown",
   "metadata": {},
   "source": [
    "###### The data is downloaded in the root directoty. Ready to use!"
   ]
  },
  {
   "cell_type": "markdown",
   "metadata": {},
   "source": [
    "The Lithography dataset has more than 30000 data points. Its a classification problem. Every data point has a sequence of frames captured during the curing process. By analysing these temporally related frames, we will try to classify it in one of the 3 classes (uncured, cured, damaged)."
   ]
  },
  {
   "cell_type": "markdown",
   "metadata": {},
   "source": [
    "##### Let us load the data"
   ]
  },
  {
   "cell_type": "code",
   "execution_count": null,
   "metadata": {},
   "outputs": [],
   "source": [
    "x = np.load('Lithography/input_data.npy', allow_pickle = True)[0:1000]\n",
    "y = np.load('Lithography/labels.npy', allow_pickle = True)[0:1000]"
   ]
  },
  {
   "cell_type": "markdown",
   "metadata": {},
   "source": [
    "##### For demonstration purpose, we will use just 1000 points"
   ]
  },
  {
   "cell_type": "code",
   "execution_count": 6,
   "metadata": {},
   "outputs": [],
   "source": [
    "x = x[0:1000]\n",
    "y = y[0:1000]"
   ]
  },
  {
   "cell_type": "markdown",
   "metadata": {},
   "source": [
    "## We are all set to make our own CNN-LSTM network without actually coding it up!"
   ]
  },
  {
   "cell_type": "code",
   "execution_count": 3,
   "metadata": {},
   "outputs": [],
   "source": [
    "from ManufacturingNet.models import CNNLSTM"
   ]
  },
  {
   "cell_type": "code",
   "execution_count": null,
   "metadata": {
    "scrolled": false
   },
   "outputs": [],
   "source": [
    "model = CNNLSTM(x, y)"
   ]
  },
  {
   "cell_type": "markdown",
   "metadata": {},
   "source": [
    "See! We just trained a CNN-LSTM Network using ManufacturingNet package without actually writing the code. The CNN-LSTM in general is used for video datasets where the CNN part adreeses the image features and LSTM part captures the sequencing\n",
    "\n",
    "The input data here has 110 x 110 x 1 image size. As the problem was of classification nature with 3 classes, we added 3 neuron in the ouput layer. However, for regression, please change the number of neurons to 1.\n",
    "\n",
    "The model summary, training accuracy, validation accuracy, confusion matrix, r2-score (in case of regression problem), Loss  vs epoch graph are also provided by the package.\n",
    "\n",
    "Also, since we just used 1000 points, the results are not very good."
   ]
  },
  {
   "cell_type": "code",
   "execution_count": null,
   "metadata": {},
   "outputs": [],
   "source": []
  }
 ],
 "metadata": {
  "kernelspec": {
   "display_name": "robotics",
   "language": "python",
   "name": "python3"
  },
  "language_info": {
   "codemirror_mode": {
    "name": "ipython",
    "version": 3
   },
   "file_extension": ".py",
   "mimetype": "text/x-python",
   "name": "python",
   "nbconvert_exporter": "python",
   "pygments_lexer": "ipython3",
   "version": "3.8.16"
  },
  "vscode": {
   "interpreter": {
    "hash": "18cf912b356ea838ce5984d5dd427c109d0098d9758c1980ff8b664fe2b3a2be"
   }
  }
 },
 "nbformat": 4,
 "nbformat_minor": 4
}
