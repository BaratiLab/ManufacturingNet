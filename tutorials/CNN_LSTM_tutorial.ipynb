{
 "cells": [
  {
   "cell_type": "markdown",
   "metadata": {},
   "source": [
    "# Developing a CNN-LSTM Network using ManufacturingNet\n",
    "###### To know more about the manufacturingnet please visit: http://manufacturingnet.io/ "
   ]
  },
  {
   "cell_type": "markdown",
   "metadata": {},
   "source": [
    "## Let us import the package and other required libraries"
   ]
  },
  {
   "cell_type": "code",
   "execution_count": 1,
   "metadata": {},
   "outputs": [],
   "source": [
    "import ManufacturingNet\n",
    "import numpy as np"
   ]
  },
  {
   "cell_type": "markdown",
   "metadata": {},
   "source": [
    "##### Let us download the dataset for our LSTM network. The data is already processed and made ready for training. As the dataset is big, it will take some time to download"
   ]
  },
  {
   "cell_type": "code",
   "execution_count": 2,
   "metadata": {},
   "outputs": [],
   "source": [
    "from ManufacturingNet import datasets"
   ]
  },
  {
   "cell_type": "code",
   "execution_count": null,
   "metadata": {},
   "outputs": [],
   "source": [
    "datasets.LithographyData()"
   ]
  },
  {
   "cell_type": "markdown",
   "metadata": {},
   "source": [
    "###### The data is downloaded in the root directoty. Ready to use!"
   ]
  },
  {
   "cell_type": "markdown",
   "metadata": {},
   "source": [
    "The Lithography dataset has more than 30000 data points. Its a classification problem. Every data point has a sequence of frames captured during the curing process. By analysing these temporally related frames, we will try to classify it in one of the 3 classes (uncured, cured, damaged)."
   ]
  },
  {
   "cell_type": "markdown",
   "metadata": {},
   "source": [
    "##### Let us load the data"
   ]
  },
  {
   "cell_type": "code",
   "execution_count": 3,
   "metadata": {},
   "outputs": [],
   "source": [
    "x = np.load('Lithography files/input_data.npy', allow_pickle = True)\n",
    "y = np.load('Lithography files/labels.npy', allow_pickle = True)"
   ]
  },
  {
   "cell_type": "markdown",
   "metadata": {},
   "source": [
    "##### For demonstration purpose, we will use just 1000 points"
   ]
  },
  {
   "cell_type": "code",
   "execution_count": 4,
   "metadata": {},
   "outputs": [],
   "source": [
    "x = x[0:1000]\n",
    "y = y[0:1000]"
   ]
  },
  {
   "cell_type": "markdown",
   "metadata": {},
   "source": [
    "## We are all set to make our own CNN-LSTM network without actually coding it up!"
   ]
  },
  {
   "cell_type": "code",
   "execution_count": 5,
   "metadata": {},
   "outputs": [],
   "source": [
    "from ManufacturingNet.models import CNNLSTM"
   ]
  },
  {
   "cell_type": "code",
   "execution_count": 7,
   "metadata": {
    "scrolled": false
   },
   "outputs": [
    {
     "name": "stdout",
     "output_type": "stream",
     "text": [
      "Use default values for all the training parameters (y/n)? n\n",
      "\n",
      "=========================\n",
      "\n",
      "Convolutional Neural Network\n",
      "\n",
      "1/18 - Get Image Size\n",
      "Please enter the image width: 110\n",
      "Please enter the image height: 110\n",
      "Image: 110 110\n",
      "=========================\n",
      "2/18 - Number of Convolutions\n",
      "Please enter the number of convolutions: 3\n",
      "Convolutions: 3\n",
      "=========================\n",
      "3/18 - Channels\n",
      "enter the number of input channels: 1\n",
      "enter the number of output channels for convolution 1: 2\n",
      "enter the number of output channels for convolution 2: 3\n",
      "enter the number of output channels for convolution 3: 4\n",
      "Channels: [1, 2, 3, 4]\n",
      "=========================\n",
      "4/18 - Kernels\n",
      "Use default values for kernel size (y/n)? n\n",
      "Enter the kernel size for convolutional layer 1\n",
      "For Example: 3,3: 10,10\n",
      "Enter the kernel size for convolutional layer 2\n",
      "For Example: 3,3: 5,5\n",
      "Enter the kernel size for convolutional layer 3\n",
      "For Example: 3,3: 3,3\n",
      "Kernel sizes: [(10, 10), (5, 5), (3, 3)]\n",
      "=========================\n",
      "5/18 - Padding and Stride\n",
      "Use default values for padding and stride (y/n)? n\n",
      "Enter padding for the image for convolutional layer 1\n",
      "For Example 2,2: 0,0\n",
      "Enter padding for the image for convolutional layer 2\n",
      "For Example 2,2: 0,0\n",
      "Enter padding for the image for convolutional layer 3\n",
      "For Example 2,2: 0,0\n",
      "Enter stride for the convolutions for convolutional layer 1\n",
      "For Example 2,2: 5,5\n",
      "Enter stride for the convolutions for convolutional layer 2\n",
      "For Example 2,2: 3,3\n",
      "Enter stride for the convolutions for convolutional layer 3\n",
      "For Example 2,2: 1,1\n",
      "Padding: [(0, 0), (0, 0), (0, 0)]\n",
      "Stride: [(5, 5), (3, 3), (1, 1)]\n",
      "=========================\n",
      "6/18 - Dropout\n",
      "Use default values for dropout (y/n)? y\n",
      "Dropout ratio: 0.0\n",
      "=========================\n",
      "7/18 - Max Pooling\n",
      "Use default pooling values (y/n)? y\n",
      "Pooling Layers: [0, 0, 1]\n",
      "Pooling Size: [(2, 2), (2, 2), (2, 2)]\n",
      "Pooling Stride [(2, 2), (2, 2), (2, 2)]\n",
      "=========================\n",
      "8/18 - Batch Normalization\n",
      "Use default values for batch normalization (y/n)? y\n",
      "Batch normalization [1, 1, 1]\n",
      "=========================\n",
      "Shapes after the convolutions: [(21, 21), (6, 6), (2, 2)]\n",
      "=========================\n",
      "\n",
      "LSTM Network\n",
      "\n",
      "=========================\n",
      "9/18 - LSTM hidden size\n",
      "Please enter an integer greater than 0 for the network's hidden size.\n",
      "For default size, press enter without any input: 64\n",
      "\n",
      "=========================\n",
      "10/18 - LSTM number of layers\n",
      "Please enter a positive integer for the network's number of layers.\n",
      "For default option, press enter without any input: 1\n",
      "\n",
      "=========================\n",
      "11/18 - LSTM bidirectional\n",
      "Please enter 1 to create a bidirectional LSTM network.\n",
      "Else, enter 0.\n",
      "For default option, press enter without any input: 0\n",
      "\n",
      "=========================\n",
      "12/18 - LSTM output size\n",
      "Please enter the output size for the network.\n",
      "Enter 1 for regression or the number of classes for classification: 3\n",
      "\n",
      "=========================\n",
      "13/18 - Batch size input\n",
      "Please enter a batch size greater than 0: 32\n",
      "\n",
      "=========================\n",
      "14/18 - Validation set size\n",
      "Please enter the training set size as a float (0,1).\n",
      "For default size, press enter without any input: 0.2\n",
      "\n",
      "=========================\n",
      "15/18 - Loss function\n",
      "Please choose a loss function.\n",
      "[1: CrossEntropyLoss, 2: L1Loss, 3: SmoothL1Loss, 4: MSELoss]: 1\n",
      "\n",
      "=========================\n",
      "16/18 - Optimizer\n",
      "Please choose an optimizer from the list: [1: Adam, 2: SGD]\n",
      "For default optimizer, press enter without any input: 1\n",
      "\n",
      "Please enter a positive learning rate.\n",
      "For default learning rate, press enter without any input: 0.001\n",
      "\n",
      "=========================\n",
      "17/18 - Scheduler\n",
      "Please choose a scheduler from the list: [1: None, 2:StepLR, 3:MultiStepLR]\n",
      "For default option of no scheduler, press enter without any input: 2\n",
      "\n",
      "Please enter a step value int input (step > 0): 2\n",
      "\n",
      "Please enter a positive float for the multiplying factor: 0.1\n",
      "=========================\n",
      "18/18 - Number of epochs\n",
      "Please enter a positive integer for the number of epochs: 5\n",
      "\n",
      "=========================\n",
      "Network architecture:\n",
      "\n",
      "CNN_LSTM(\n",
      "  (cnn): CNN2D(\n",
      "    (ConvNet): Sequential(\n",
      "      (0): CNNBlock(\n",
      "        (conv1): Conv2d(1, 2, kernel_size=(10, 10), stride=(5, 5))\n",
      "        (relu): ReLU(inplace=True)\n",
      "        (bn1): BatchNorm2d(2, eps=1e-05, momentum=0.1, affine=True, track_running_stats=True)\n",
      "      )\n",
      "      (1): CNNBlock(\n",
      "        (conv1): Conv2d(2, 3, kernel_size=(5, 5), stride=(3, 3))\n",
      "        (relu): ReLU(inplace=True)\n",
      "        (bn1): BatchNorm2d(3, eps=1e-05, momentum=0.1, affine=True, track_running_stats=True)\n",
      "      )\n",
      "      (2): CNNBlock(\n",
      "        (conv1): Conv2d(3, 4, kernel_size=(3, 3), stride=(1, 1))\n",
      "        (relu): ReLU(inplace=True)\n",
      "        (bn1): BatchNorm2d(4, eps=1e-05, momentum=0.1, affine=True, track_running_stats=True)\n",
      "        (pool): MaxPool2d(kernel_size=(2, 2), stride=(2, 2), padding=0, dilation=1, ceil_mode=False)\n",
      "      )\n",
      "    )\n",
      "  )\n",
      "  (lstm): LSTM(\n",
      "    (lstm): LSTM(16, 64, batch_first=True)\n",
      "    (linear1): Linear(in_features=64, out_features=32, bias=True)\n",
      "    (linear2): Linear(in_features=32, out_features=16, bias=True)\n",
      "    (linear3): Linear(in_features=16, out_features=3, bias=True)\n",
      "  )\n",
      ")\n",
      "=========================\n",
      "Model Summary:\n",
      "\n",
      "Bidirectional: False\n",
      "Number of layer: 1\n",
      "Criterion: CrossEntropyLoss()\n",
      "Optimizer: Adam (\n",
      "Parameter Group 0\n",
      "    amsgrad: False\n",
      "    betas: (0.9, 0.999)\n",
      "    eps: 1e-08\n",
      "    initial_lr: 0.001\n",
      "    lr: 0.001\n",
      "    weight_decay: 0\n",
      ")\n",
      "Scheduler: <torch.optim.lr_scheduler.StepLR object at 0x000001E5F3B49BE0>\n",
      "Validation set size: 0.2\n",
      "Batch size: 32\n",
      "Initial learning rate: 0.001\n",
      "Number of training epochs: 5\n",
      "Device: cpu\n",
      "\n",
      "=========================\n",
      "Training the model...\n",
      "Epoch_Number: 0\n",
      "Training Loss: 1.0338539341164685\n",
      "Training Accuracy: 61.25000000000001 %\n",
      "Validation Loss: 0.9094530828800916\n",
      "Validation Accuracy: 66.0 %\n",
      "Current scheduler status: Adam (\n",
      "Parameter Group 0\n",
      "    amsgrad: False\n",
      "    betas: (0.9, 0.999)\n",
      "    eps: 1e-08\n",
      "    initial_lr: 0.001\n",
      "    lr: 0.001\n",
      "    weight_decay: 0\n",
      ")\n",
      "Epoch Time: 2.7679104804992676 s\n",
      "##################################################\n",
      "Epoch_Number: 1\n",
      "Training Loss: 0.6705810210575889\n",
      "Training Accuracy: 67.25 %\n",
      "Validation Loss: 0.5643670909648868\n",
      "Validation Accuracy: 76.5 %\n",
      "Current scheduler status: Adam (\n",
      "Parameter Group 0\n",
      "    amsgrad: False\n",
      "    betas: (0.9, 0.999)\n",
      "    eps: 1e-08\n",
      "    initial_lr: 0.001\n",
      "    lr: 0.0001\n",
      "    weight_decay: 0\n",
      ")\n",
      "Epoch Time: 2.6111040115356445 s\n",
      "##################################################\n",
      "Epoch_Number: 2\n",
      "Training Loss: 0.5119552028628683\n",
      "Training Accuracy: 71.45833333333333 %\n",
      "Validation Loss: 0.484408132740359\n",
      "Validation Accuracy: 78.0 %\n",
      "Current scheduler status: Adam (\n",
      "Parameter Group 0\n",
      "    amsgrad: False\n",
      "    betas: (0.9, 0.999)\n",
      "    eps: 1e-08\n",
      "    initial_lr: 0.001\n",
      "    lr: 0.0001\n",
      "    weight_decay: 0\n",
      ")\n",
      "Epoch Time: 2.5611321926116943 s\n",
      "##################################################\n",
      "Epoch_Number: 3\n",
      "Training Loss: 0.4462079458287085\n",
      "Training Accuracy: 73.90625 %\n",
      "Validation Loss: 0.46704327211527696\n",
      "Validation Accuracy: 79.0 %\n",
      "Current scheduler status: Adam (\n",
      "Parameter Group 0\n",
      "    amsgrad: False\n",
      "    betas: (0.9, 0.999)\n",
      "    eps: 1e-08\n",
      "    initial_lr: 0.001\n",
      "    lr: 1e-05\n",
      "    weight_decay: 0\n",
      ")\n",
      "Epoch Time: 2.6786210536956787 s\n",
      "##################################################\n",
      "Epoch_Number: 4\n",
      "Training Loss: 0.4158786359362909\n",
      "Training Accuracy: 75.825 %\n",
      "Validation Loss: 0.46470889217702777\n",
      "Validation Accuracy: 78.5 %\n",
      "Current scheduler status: Adam (\n",
      "Parameter Group 0\n",
      "    amsgrad: False\n",
      "    betas: (0.9, 0.999)\n",
      "    eps: 1e-08\n",
      "    initial_lr: 0.001\n",
      "    lr: 1e-05\n",
      "    weight_decay: 0\n",
      ")\n",
      "Epoch Time: 2.7272496223449707 s\n",
      "##################################################\n",
      "Confusion Matrix:\n",
      "[[62 10  1]\n",
      " [ 6 46 19]\n",
      " [ 0  7 49]]\n",
      "Save the model weights (y/n)? y\n",
      "=========================\n",
      "Call get_prediction() to make predictions on new data.\n",
      "\n",
      "=== End of training ===\n"
     ]
    },
    {
     "data": {
      "image/png": "[encoded data removed]",
      "text/plain": [
       "<Figure size 576x576 with 1 Axes>"
      ]
     },
     "metadata": {
      "needs_background": "light"
     },
     "output_type": "display_data"
    },
    {
     "data": {
      "image/png": "[encoded data removed]",
      "text/plain": [
       "<Figure size 576x576 with 1 Axes>"
      ]
     },
     "metadata": {
      "needs_background": "light"
     },
     "output_type": "display_data"
    }
   ],
   "source": [
    "model = CNNLSTM(x, y)"
   ]
  },
  {
   "cell_type": "markdown",
   "metadata": {},
   "source": [
    "See! We just trained a CNN-LSTM Network using ManufacturingNet package without actually writing the code.\n",
    "\n",
    "The input data here has 110 x 110 x 1 image size. As the problem was of classification nature with 3 classes, we added 3 neuron in the ouput layer. However, for regression, please change the number of neurons to 1.\n",
    "\n",
    "The model summary, training accuracy, validation accuracy, confusion matrix, r2-score (in case of regression problem), Loss  vs epoch graph are also provided by the package.\n",
    "\n",
    "Also, since we just used 1000 points, the results are not very good."
   ]
  },
  {
   "cell_type": "code",
   "execution_count": null,
   "metadata": {},
   "outputs": [],
   "source": []
  }
 ],
 "metadata": {
  "kernelspec": {
   "display_name": "Python 3",
   "language": "python",
   "name": "python3"
  },
  "language_info": {
   "codemirror_mode": {
    "name": "ipython",
    "version": 3
   },
   "file_extension": ".py",
   "mimetype": "text/x-python",
   "name": "python",
   "nbconvert_exporter": "python",
   "pygments_lexer": "ipython3",
   "version": "3.8.3"
  }
 },
 "nbformat": 4,
 "nbformat_minor": 4
}
