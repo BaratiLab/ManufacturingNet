{
 "cells": [
  {
   "cell_type": "markdown",
   "metadata": {},
   "source": [
    "# Data Normalization and Featurization using ManufacturingNet\n",
    "###### To know more about the manufacturingnet please visit: http://manufacturingnet.io/ "
   ]
  },
  {
   "cell_type": "markdown",
   "metadata": {},
   "source": [
    "## Let us import the package and other required libraries"
   ]
  },
  {
   "cell_type": "code",
   "execution_count": 2,
   "metadata": {},
   "outputs": [],
   "source": [
    "import ManufacturingNet\n",
    "import numpy as np"
   ]
  },
  {
   "cell_type": "markdown",
   "metadata": {},
   "source": [
    "##### Let us download the dataset for the task"
   ]
  },
  {
   "cell_type": "code",
   "execution_count": 3,
   "metadata": {},
   "outputs": [],
   "source": [
    "from ManufacturingNet import datasets"
   ]
  },
  {
   "cell_type": "code",
   "execution_count": 4,
   "metadata": {},
   "outputs": [
    {
     "name": "stderr",
     "output_type": "stream",
     "text": [
      "Downloading...\n",
      "From: https://drive.google.com/uc?id=1nUjYdpJkEmjJTzG0j8EBZ9vQul0sedqk\n",
      "To: /home/cmu/ManufacturingNet/tutorials/CWRUBearingData.zip\n",
      "100%|██████████| 13.4M/13.4M [00:01<00:00, 11.9MB/s]\n"
     ]
    }
   ],
   "source": [
    "datasets.CWRUBearingData()"
   ]
  },
  {
   "cell_type": "markdown",
   "metadata": {},
   "source": [
    "###### The data is downloaded in the root directoty. Ready to use!"
   ]
  },
  {
   "cell_type": "markdown",
   "metadata": {},
   "source": [
    "The data has raw signals. There are total 2800 signals with each signal has 1600 values. We will first normalize and then use for feature extraction"
   ]
  },
  {
   "cell_type": "markdown",
   "metadata": {},
   "source": [
    "##### Let us load the data"
   ]
  },
  {
   "cell_type": "code",
   "execution_count": 5,
   "metadata": {},
   "outputs": [],
   "source": [
    "data = np.load('CWRU/signal_data.npy', allow_pickle = True)"
   ]
  },
  {
   "cell_type": "code",
   "execution_count": 6,
   "metadata": {},
   "outputs": [
    {
     "name": "stdout",
     "output_type": "stream",
     "text": [
      "(2800, 1600)\n"
     ]
    }
   ],
   "source": [
    "print(data.shape)"
   ]
  },
  {
   "cell_type": "markdown",
   "metadata": {},
   "source": [
    "##### Let us first normalize the data. There are 3 types of normalization. We will see all of them one by one"
   ]
  },
  {
   "cell_type": "markdown",
   "metadata": {},
   "source": [
    "Mean Normalization"
   ]
  },
  {
   "cell_type": "code",
   "execution_count": 6,
   "metadata": {},
   "outputs": [],
   "source": [
    "from ManufacturingNet.preprocessing import MeanNormalizer"
   ]
  },
  {
   "cell_type": "code",
   "execution_count": 7,
   "metadata": {},
   "outputs": [],
   "source": [
    "normalizer1 = MeanNormalizer(data, axis = 0)"
   ]
  },
  {
   "cell_type": "code",
   "execution_count": 8,
   "metadata": {},
   "outputs": [],
   "source": [
    "normalized_data = normalizer1.get_normalized_data()"
   ]
  },
  {
   "cell_type": "code",
   "execution_count": 9,
   "metadata": {},
   "outputs": [
    {
     "data": {
      "text/plain": [
       "array([[ 0.13153407,  0.01315068, -0.0448077 , ..., -0.01209627,\n",
       "         0.05209748,  0.04970108],\n",
       "       [-0.08246213,  0.02606459,  0.13565075, ..., -0.24215809,\n",
       "        -0.24862696, -0.1915978 ],\n",
       "       [ 0.1459167 ,  0.15386776,  0.15871687, ..., -0.01165214,\n",
       "         0.06925722,  0.04547518],\n",
       "       ...,\n",
       "       [-0.10122114, -0.05053481, -0.00952744, ...,  0.21535663,\n",
       "         0.12591937,  0.03746052],\n",
       "       [ 0.06095025,  0.06883685,  0.0719024 , ...,  0.25267312,\n",
       "         0.14823252, -0.0234074 ],\n",
       "       [ 0.11675116,  0.21315185,  0.25466715, ...,  0.041213  ,\n",
       "         0.16024729,  0.28262297]])"
      ]
     },
     "execution_count": 9,
     "metadata": {},
     "output_type": "execute_result"
    }
   ],
   "source": [
    "normalized_data"
   ]
  },
  {
   "cell_type": "markdown",
   "metadata": {},
   "source": [
    "Min Max Normalization"
   ]
  },
  {
   "cell_type": "code",
   "execution_count": 10,
   "metadata": {},
   "outputs": [],
   "source": [
    "from ManufacturingNet.preprocessing import MinMaxNormalizer"
   ]
  },
  {
   "cell_type": "code",
   "execution_count": 11,
   "metadata": {},
   "outputs": [],
   "source": [
    "normalizer2 = MinMaxNormalizer(data, axis = 0)"
   ]
  },
  {
   "cell_type": "code",
   "execution_count": 12,
   "metadata": {},
   "outputs": [],
   "source": [
    "normalized_data = normalizer2.get_normalized_data()"
   ]
  },
  {
   "cell_type": "code",
   "execution_count": 13,
   "metadata": {},
   "outputs": [
    {
     "data": {
      "text/plain": [
       "array([[0.37149085, 0.40715883, 0.4523135 , ..., 0.48822004, 0.47005208,\n",
       "        0.45995385],\n",
       "       [0.36248818, 0.40767697, 0.46065664, ..., 0.47422802, 0.45361693,\n",
       "        0.44652249],\n",
       "       [0.37209592, 0.41280474, 0.46172305, ..., 0.48824705, 0.47098989,\n",
       "        0.45971862],\n",
       "       ...,\n",
       "       [0.36169901, 0.40460362, 0.45394462, ..., 0.50205339, 0.47408658,\n",
       "        0.4592725 ],\n",
       "       [0.36852144, 0.40939309, 0.45770936, ..., 0.50432292, 0.47530604,\n",
       "        0.45588443],\n",
       "       [0.37086894, 0.41518336, 0.46615912, ..., 0.49146223, 0.47596267,\n",
       "        0.47291892]])"
      ]
     },
     "execution_count": 13,
     "metadata": {},
     "output_type": "execute_result"
    }
   ],
   "source": [
    "normalized_data"
   ]
  },
  {
   "cell_type": "markdown",
   "metadata": {},
   "source": [
    "Quantile Normlization"
   ]
  },
  {
   "cell_type": "code",
   "execution_count": 14,
   "metadata": {},
   "outputs": [],
   "source": [
    "from ManufacturingNet.preprocessing import QuantileNormalizer"
   ]
  },
  {
   "cell_type": "code",
   "execution_count": 15,
   "metadata": {},
   "outputs": [],
   "source": [
    "normalizer3 = QuantileNormalizer(data, axis = 0)"
   ]
  },
  {
   "cell_type": "code",
   "execution_count": 16,
   "metadata": {},
   "outputs": [],
   "source": [
    "normalized_data = normalizer3.get_normalized_data()"
   ]
  },
  {
   "cell_type": "code",
   "execution_count": 17,
   "metadata": {},
   "outputs": [
    {
     "data": {
      "text/plain": [
       "array([[ 0.1108245 ,  0.00599514, -0.02958248, ..., -0.01660993,\n",
       "         0.02888283,  0.02311589],\n",
       "       [-0.07300938,  0.01887359,  0.06638019, ..., -0.14313853,\n",
       "        -0.19000219, -0.10759061],\n",
       "       [ 0.12317993,  0.14632583,  0.0786461 , ..., -0.01636567,\n",
       "         0.0413727 ,  0.02082681],\n",
       "       ...,\n",
       "       [-0.08912435, -0.05751549, -0.01082144, ...,  0.10848383,\n",
       "         0.08261477,  0.01648543],\n",
       "       [ 0.05018933,  0.0615284 ,  0.03248063, ...,  0.12900702,\n",
       "         0.09885559, -0.01648543],\n",
       "       [ 0.09812521,  0.20544714,  0.12966973, ...,  0.01270892,\n",
       "         0.10760065,  0.14928474]])"
      ]
     },
     "execution_count": 17,
     "metadata": {},
     "output_type": "execute_result"
    }
   ],
   "source": [
    "normalized_data"
   ]
  },
  {
   "cell_type": "markdown",
   "metadata": {},
   "source": [
    "This is how we normalized the data with a couple of lines and its done! You can pass in a different axis valueto normalize the data along a different axis"
   ]
  },
  {
   "cell_type": "markdown",
   "metadata": {},
   "source": [
    "## Let us now perform Feature Extraction"
   ]
  },
  {
   "cell_type": "markdown",
   "metadata": {},
   "source": [
    "##### Lets import the featurizer first"
   ]
  },
  {
   "cell_type": "code",
   "execution_count": 18,
   "metadata": {},
   "outputs": [],
   "source": [
    "from ManufacturingNet.featurization import Featurizer"
   ]
  },
  {
   "cell_type": "code",
   "execution_count": 19,
   "metadata": {},
   "outputs": [],
   "source": [
    "f = Featurizer()"
   ]
  },
  {
   "cell_type": "markdown",
   "metadata": {},
   "source": [
    "There are currently 20 features. Let us see what they are!"
   ]
  },
  {
   "cell_type": "code",
   "execution_count": null,
   "metadata": {
    "scrolled": false
   },
   "outputs": [],
   "source": [
    "help(f)"
   ]
  },
  {
   "cell_type": "markdown",
   "metadata": {},
   "source": [
    "##### Let us extract absolute mean feature from our data. Before that, lets see what it is"
   ]
  },
  {
   "cell_type": "code",
   "execution_count": 21,
   "metadata": {},
   "outputs": [
    {
     "name": "stdout",
     "output_type": "stream",
     "text": [
      "Help on method abs_mean in module ManufacturingNet.featurization.featurization:\n",
      "\n",
      "abs_mean(a, axis=0) method of ManufacturingNet.featurization.featurization.Featurizer instance\n",
      "    The absolute mean value of a set of values is the arithmetic\n",
      "    mean of all the absolute values in a given set of numbers.\n",
      "\n"
     ]
    }
   ],
   "source": [
    "help(f.abs_mean)"
   ]
  },
  {
   "cell_type": "code",
   "execution_count": 22,
   "metadata": {},
   "outputs": [
    {
     "data": {
      "text/plain": [
       "array([0.04924405, 0.05428433, 0.05224068, ..., 0.29690971, 0.4750641 ,\n",
       "       0.21335175])"
      ]
     },
     "execution_count": 22,
     "metadata": {},
     "output_type": "execute_result"
    }
   ],
   "source": [
    "feature_1 = f.abs_mean(data, axis = 1)\n",
    "feature_1"
   ]
  },
  {
   "cell_type": "markdown",
   "metadata": {},
   "source": [
    "##### Similarly, we can extract other features"
   ]
  },
  {
   "cell_type": "code",
   "execution_count": 23,
   "metadata": {},
   "outputs": [
    {
     "data": {
      "text/plain": [
       "array([0.01370173, 0.01369508, 0.01348829, ..., 0.01581798, 0.01657961,\n",
       "       0.01542829])"
      ]
     },
     "execution_count": 23,
     "metadata": {},
     "output_type": "execute_result"
    }
   ],
   "source": [
    "feature_2 = f.mean(data, axis = 1)\n",
    "feature_2"
   ]
  },
  {
   "cell_type": "code",
   "execution_count": 24,
   "metadata": {},
   "outputs": [
    {
     "data": {
      "text/plain": [
       "array([-0.22483287, -0.24035794, -0.32800499, ..., -0.57577952,\n",
       "        0.09202673, -0.46186613])"
      ]
     },
     "execution_count": 24,
     "metadata": {},
     "output_type": "execute_result"
    }
   ],
   "source": [
    "feature_3 = f.skew(data, axis = 1)\n",
    "feature_3"
   ]
  },
  {
   "cell_type": "code",
   "execution_count": 25,
   "metadata": {},
   "outputs": [
    {
     "data": {
      "text/plain": [
       "array([0.06112483, 0.06719753, 0.06469002, ..., 0.61073543, 0.89905632,\n",
       "       0.36928773])"
      ]
     },
     "execution_count": 25,
     "metadata": {},
     "output_type": "execute_result"
    }
   ],
   "source": [
    "feature_4 = f.rms(data, axis = 1)\n",
    "feature_4"
   ]
  },
  {
   "cell_type": "code",
   "execution_count": 26,
   "metadata": {},
   "outputs": [
    {
     "data": {
      "text/plain": [
       "array([ 0.35548062,  0.41431015,  0.40283631, ...,  8.37504533,\n",
       "       12.001672  ,  4.10739467])"
      ]
     },
     "execution_count": 26,
     "metadata": {},
     "output_type": "execute_result"
    }
   ],
   "source": [
    "feature_5 = f.peak_to_peak(data, axis = 1)\n",
    "feature_5"
   ]
  },
  {
   "cell_type": "code",
   "execution_count": 27,
   "metadata": {},
   "outputs": [
    {
     "data": {
      "text/plain": [
       "array([2.9419542 , 3.20074969, 3.32481677, ..., 7.11755664, 6.97214016,\n",
       "       5.57819061])"
      ]
     },
     "execution_count": 27,
     "metadata": {},
     "output_type": "execute_result"
    }
   ],
   "source": [
    "feature_6 = f.crestfactor(data, axis = 1)\n",
    "feature_6"
   ]
  },
  {
   "cell_type": "markdown",
   "metadata": {},
   "source": [
    "This is how we can normalize and extract features from the given data. "
   ]
  },
  {
   "cell_type": "markdown",
   "metadata": {},
   "source": []
  }
 ],
 "metadata": {
  "kernelspec": {
   "display_name": "robotics",
   "language": "python",
   "name": "python3"
  },
  "language_info": {
   "codemirror_mode": {
    "name": "ipython",
    "version": 3
   },
   "file_extension": ".py",
   "mimetype": "text/x-python",
   "name": "python",
   "nbconvert_exporter": "python",
   "pygments_lexer": "ipython3",
   "version": "3.8.16"
  },
  "vscode": {
   "interpreter": {
    "hash": "18cf912b356ea838ce5984d5dd427c109d0098d9758c1980ff8b664fe2b3a2be"
   }
  }
 },
 "nbformat": 4,
 "nbformat_minor": 4
}
