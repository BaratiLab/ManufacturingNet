{
 "cells": [
  {
   "cell_type": "markdown",
   "metadata": {},
   "source": [
    "# Data Normalization and Featurization using ManufacturingNet\n",
    "###### To know more about the manufacturingnet please visit: http://manufacturingnet.io/ "
   ]
  },
  {
   "cell_type": "markdown",
   "metadata": {},
   "source": [
    "## Let us import the package and other required libraries"
   ]
  },
  {
   "cell_type": "code",
   "execution_count": 1,
   "metadata": {},
   "outputs": [],
   "source": [
    "import sys\n",
    "sys.path.append('../')\n",
    "%load_ext autoreload\n",
    "%autoreload 2"
   ]
  },
  {
   "cell_type": "code",
   "execution_count": 2,
   "metadata": {},
   "outputs": [],
   "source": [
    "import ManufacturingNet\n",
    "import numpy as np"
   ]
  },
  {
   "cell_type": "markdown",
   "metadata": {},
   "source": [
    "##### Let us download the dataset for the task"
   ]
  },
  {
   "cell_type": "code",
   "execution_count": 3,
   "metadata": {},
   "outputs": [],
   "source": [
    "from ManufacturingNet import datasets"
   ]
  },
  {
   "cell_type": "code",
   "execution_count": 4,
   "metadata": {},
   "outputs": [
    {
     "ename": "KeyboardInterrupt",
     "evalue": "",
     "output_type": "error",
     "traceback": [
      "\u001b[0;31m---------------------------------------------------------------------------\u001b[0m",
      "\u001b[0;31mKeyboardInterrupt\u001b[0m                         Traceback (most recent call last)",
      "Cell \u001b[0;32mIn[4], line 1\u001b[0m\n\u001b[0;32m----> 1\u001b[0m datasets\u001b[39m.\u001b[39;49mCWRUBearingData()\n",
      "File \u001b[0;32m~/ManufacturingNet/tutorials/../ManufacturingNet/datasets/datasets.py:138\u001b[0m, in \u001b[0;36mCWRUBearingData\u001b[0;34m()\u001b[0m\n\u001b[1;32m    135\u001b[0m data_id \u001b[39m=\u001b[39m \u001b[39m'\u001b[39m\u001b[39m1nUjYdpJkEmjJTzG0j8EBZ9vQul0sedqk\u001b[39m\u001b[39m'\u001b[39m\n\u001b[1;32m    136\u001b[0m destination \u001b[39m=\u001b[39m \u001b[39m'\u001b[39m\u001b[39mCWRUBearingData.zip\u001b[39m\u001b[39m'\u001b[39m\n\u001b[0;32m--> 138\u001b[0m download_file_from_google_drive(data_id, destination)\n\u001b[1;32m    139\u001b[0m extract_files(destination)\n\u001b[1;32m    140\u001b[0m remove_zip(destination)\n",
      "File \u001b[0;32m~/ManufacturingNet/tutorials/../ManufacturingNet/datasets/datasets.py:10\u001b[0m, in \u001b[0;36mdownload_file_from_google_drive\u001b[0;34m(id, destination)\u001b[0m\n\u001b[1;32m      6\u001b[0m URL \u001b[39m=\u001b[39m \u001b[39m\"\u001b[39m\u001b[39mhttps://docs.google.com/uc?export=download\u001b[39m\u001b[39m\"\u001b[39m\n\u001b[1;32m      8\u001b[0m session \u001b[39m=\u001b[39m requests\u001b[39m.\u001b[39mSession()\n\u001b[0;32m---> 10\u001b[0m response \u001b[39m=\u001b[39m session\u001b[39m.\u001b[39;49mget(URL, params \u001b[39m=\u001b[39;49m { \u001b[39m'\u001b[39;49m\u001b[39mid\u001b[39;49m\u001b[39m'\u001b[39;49m : \u001b[39mid\u001b[39;49m }, stream \u001b[39m=\u001b[39;49m \u001b[39mTrue\u001b[39;49;00m)\n\u001b[1;32m     11\u001b[0m token \u001b[39m=\u001b[39m get_confirm_token(response)\n\u001b[1;32m     13\u001b[0m \u001b[39mif\u001b[39;00m token:\n",
      "File \u001b[0;32m~/miniconda3/envs/basys/lib/python3.8/site-packages/requests/sessions.py:600\u001b[0m, in \u001b[0;36mSession.get\u001b[0;34m(self, url, **kwargs)\u001b[0m\n\u001b[1;32m    592\u001b[0m \u001b[39m\u001b[39m\u001b[39mr\u001b[39m\u001b[39m\"\"\"Sends a GET request. Returns :class:`Response` object.\u001b[39;00m\n\u001b[1;32m    593\u001b[0m \n\u001b[1;32m    594\u001b[0m \u001b[39m:param url: URL for the new :class:`Request` object.\u001b[39;00m\n\u001b[1;32m    595\u001b[0m \u001b[39m:param \\*\\*kwargs: Optional arguments that ``request`` takes.\u001b[39;00m\n\u001b[1;32m    596\u001b[0m \u001b[39m:rtype: requests.Response\u001b[39;00m\n\u001b[1;32m    597\u001b[0m \u001b[39m\"\"\"\u001b[39;00m\n\u001b[1;32m    599\u001b[0m kwargs\u001b[39m.\u001b[39msetdefault(\u001b[39m\"\u001b[39m\u001b[39mallow_redirects\u001b[39m\u001b[39m\"\u001b[39m, \u001b[39mTrue\u001b[39;00m)\n\u001b[0;32m--> 600\u001b[0m \u001b[39mreturn\u001b[39;00m \u001b[39mself\u001b[39;49m\u001b[39m.\u001b[39;49mrequest(\u001b[39m\"\u001b[39;49m\u001b[39mGET\u001b[39;49m\u001b[39m\"\u001b[39;49m, url, \u001b[39m*\u001b[39;49m\u001b[39m*\u001b[39;49mkwargs)\n",
      "File \u001b[0;32m~/miniconda3/envs/basys/lib/python3.8/site-packages/requests/sessions.py:587\u001b[0m, in \u001b[0;36mSession.request\u001b[0;34m(self, method, url, params, data, headers, cookies, files, auth, timeout, allow_redirects, proxies, hooks, stream, verify, cert, json)\u001b[0m\n\u001b[1;32m    582\u001b[0m send_kwargs \u001b[39m=\u001b[39m {\n\u001b[1;32m    583\u001b[0m     \u001b[39m\"\u001b[39m\u001b[39mtimeout\u001b[39m\u001b[39m\"\u001b[39m: timeout,\n\u001b[1;32m    584\u001b[0m     \u001b[39m\"\u001b[39m\u001b[39mallow_redirects\u001b[39m\u001b[39m\"\u001b[39m: allow_redirects,\n\u001b[1;32m    585\u001b[0m }\n\u001b[1;32m    586\u001b[0m send_kwargs\u001b[39m.\u001b[39mupdate(settings)\n\u001b[0;32m--> 587\u001b[0m resp \u001b[39m=\u001b[39m \u001b[39mself\u001b[39;49m\u001b[39m.\u001b[39;49msend(prep, \u001b[39m*\u001b[39;49m\u001b[39m*\u001b[39;49msend_kwargs)\n\u001b[1;32m    589\u001b[0m \u001b[39mreturn\u001b[39;00m resp\n",
      "File \u001b[0;32m~/miniconda3/envs/basys/lib/python3.8/site-packages/requests/sessions.py:701\u001b[0m, in \u001b[0;36mSession.send\u001b[0;34m(self, request, **kwargs)\u001b[0m\n\u001b[1;32m    698\u001b[0m start \u001b[39m=\u001b[39m preferred_clock()\n\u001b[1;32m    700\u001b[0m \u001b[39m# Send the request\u001b[39;00m\n\u001b[0;32m--> 701\u001b[0m r \u001b[39m=\u001b[39m adapter\u001b[39m.\u001b[39;49msend(request, \u001b[39m*\u001b[39;49m\u001b[39m*\u001b[39;49mkwargs)\n\u001b[1;32m    703\u001b[0m \u001b[39m# Total elapsed time of the request (approximately)\u001b[39;00m\n\u001b[1;32m    704\u001b[0m elapsed \u001b[39m=\u001b[39m preferred_clock() \u001b[39m-\u001b[39m start\n",
      "File \u001b[0;32m~/miniconda3/envs/basys/lib/python3.8/site-packages/requests/adapters.py:489\u001b[0m, in \u001b[0;36mHTTPAdapter.send\u001b[0;34m(self, request, stream, timeout, verify, cert, proxies)\u001b[0m\n\u001b[1;32m    487\u001b[0m \u001b[39mtry\u001b[39;00m:\n\u001b[1;32m    488\u001b[0m     \u001b[39mif\u001b[39;00m \u001b[39mnot\u001b[39;00m chunked:\n\u001b[0;32m--> 489\u001b[0m         resp \u001b[39m=\u001b[39m conn\u001b[39m.\u001b[39;49murlopen(\n\u001b[1;32m    490\u001b[0m             method\u001b[39m=\u001b[39;49mrequest\u001b[39m.\u001b[39;49mmethod,\n\u001b[1;32m    491\u001b[0m             url\u001b[39m=\u001b[39;49murl,\n\u001b[1;32m    492\u001b[0m             body\u001b[39m=\u001b[39;49mrequest\u001b[39m.\u001b[39;49mbody,\n\u001b[1;32m    493\u001b[0m             headers\u001b[39m=\u001b[39;49mrequest\u001b[39m.\u001b[39;49mheaders,\n\u001b[1;32m    494\u001b[0m             redirect\u001b[39m=\u001b[39;49m\u001b[39mFalse\u001b[39;49;00m,\n\u001b[1;32m    495\u001b[0m             assert_same_host\u001b[39m=\u001b[39;49m\u001b[39mFalse\u001b[39;49;00m,\n\u001b[1;32m    496\u001b[0m             preload_content\u001b[39m=\u001b[39;49m\u001b[39mFalse\u001b[39;49;00m,\n\u001b[1;32m    497\u001b[0m             decode_content\u001b[39m=\u001b[39;49m\u001b[39mFalse\u001b[39;49;00m,\n\u001b[1;32m    498\u001b[0m             retries\u001b[39m=\u001b[39;49m\u001b[39mself\u001b[39;49m\u001b[39m.\u001b[39;49mmax_retries,\n\u001b[1;32m    499\u001b[0m             timeout\u001b[39m=\u001b[39;49mtimeout,\n\u001b[1;32m    500\u001b[0m         )\n\u001b[1;32m    502\u001b[0m     \u001b[39m# Send the request.\u001b[39;00m\n\u001b[1;32m    503\u001b[0m     \u001b[39melse\u001b[39;00m:\n\u001b[1;32m    504\u001b[0m         \u001b[39mif\u001b[39;00m \u001b[39mhasattr\u001b[39m(conn, \u001b[39m\"\u001b[39m\u001b[39mproxy_pool\u001b[39m\u001b[39m\"\u001b[39m):\n",
      "File \u001b[0;32m~/miniconda3/envs/basys/lib/python3.8/site-packages/urllib3/connectionpool.py:703\u001b[0m, in \u001b[0;36mHTTPConnectionPool.urlopen\u001b[0;34m(self, method, url, body, headers, retries, redirect, assert_same_host, timeout, pool_timeout, release_conn, chunked, body_pos, **response_kw)\u001b[0m\n\u001b[1;32m    700\u001b[0m     \u001b[39mself\u001b[39m\u001b[39m.\u001b[39m_prepare_proxy(conn)\n\u001b[1;32m    702\u001b[0m \u001b[39m# Make the request on the httplib connection object.\u001b[39;00m\n\u001b[0;32m--> 703\u001b[0m httplib_response \u001b[39m=\u001b[39m \u001b[39mself\u001b[39;49m\u001b[39m.\u001b[39;49m_make_request(\n\u001b[1;32m    704\u001b[0m     conn,\n\u001b[1;32m    705\u001b[0m     method,\n\u001b[1;32m    706\u001b[0m     url,\n\u001b[1;32m    707\u001b[0m     timeout\u001b[39m=\u001b[39;49mtimeout_obj,\n\u001b[1;32m    708\u001b[0m     body\u001b[39m=\u001b[39;49mbody,\n\u001b[1;32m    709\u001b[0m     headers\u001b[39m=\u001b[39;49mheaders,\n\u001b[1;32m    710\u001b[0m     chunked\u001b[39m=\u001b[39;49mchunked,\n\u001b[1;32m    711\u001b[0m )\n\u001b[1;32m    713\u001b[0m \u001b[39m# If we're going to release the connection in ``finally:``, then\u001b[39;00m\n\u001b[1;32m    714\u001b[0m \u001b[39m# the response doesn't need to know about the connection. Otherwise\u001b[39;00m\n\u001b[1;32m    715\u001b[0m \u001b[39m# it will also try to release it and we'll have a double-release\u001b[39;00m\n\u001b[1;32m    716\u001b[0m \u001b[39m# mess.\u001b[39;00m\n\u001b[1;32m    717\u001b[0m response_conn \u001b[39m=\u001b[39m conn \u001b[39mif\u001b[39;00m \u001b[39mnot\u001b[39;00m release_conn \u001b[39melse\u001b[39;00m \u001b[39mNone\u001b[39;00m\n",
      "File \u001b[0;32m~/miniconda3/envs/basys/lib/python3.8/site-packages/urllib3/connectionpool.py:386\u001b[0m, in \u001b[0;36mHTTPConnectionPool._make_request\u001b[0;34m(self, conn, method, url, timeout, chunked, **httplib_request_kw)\u001b[0m\n\u001b[1;32m    384\u001b[0m \u001b[39m# Trigger any extra validation we need to do.\u001b[39;00m\n\u001b[1;32m    385\u001b[0m \u001b[39mtry\u001b[39;00m:\n\u001b[0;32m--> 386\u001b[0m     \u001b[39mself\u001b[39;49m\u001b[39m.\u001b[39;49m_validate_conn(conn)\n\u001b[1;32m    387\u001b[0m \u001b[39mexcept\u001b[39;00m (SocketTimeout, BaseSSLError) \u001b[39mas\u001b[39;00m e:\n\u001b[1;32m    388\u001b[0m     \u001b[39m# Py2 raises this as a BaseSSLError, Py3 raises it as socket timeout.\u001b[39;00m\n\u001b[1;32m    389\u001b[0m     \u001b[39mself\u001b[39m\u001b[39m.\u001b[39m_raise_timeout(err\u001b[39m=\u001b[39me, url\u001b[39m=\u001b[39murl, timeout_value\u001b[39m=\u001b[39mconn\u001b[39m.\u001b[39mtimeout)\n",
      "File \u001b[0;32m~/miniconda3/envs/basys/lib/python3.8/site-packages/urllib3/connectionpool.py:1042\u001b[0m, in \u001b[0;36mHTTPSConnectionPool._validate_conn\u001b[0;34m(self, conn)\u001b[0m\n\u001b[1;32m   1040\u001b[0m \u001b[39m# Force connect early to allow us to validate the connection.\u001b[39;00m\n\u001b[1;32m   1041\u001b[0m \u001b[39mif\u001b[39;00m \u001b[39mnot\u001b[39;00m \u001b[39mgetattr\u001b[39m(conn, \u001b[39m\"\u001b[39m\u001b[39msock\u001b[39m\u001b[39m\"\u001b[39m, \u001b[39mNone\u001b[39;00m):  \u001b[39m# AppEngine might not have  `.sock`\u001b[39;00m\n\u001b[0;32m-> 1042\u001b[0m     conn\u001b[39m.\u001b[39;49mconnect()\n\u001b[1;32m   1044\u001b[0m \u001b[39mif\u001b[39;00m \u001b[39mnot\u001b[39;00m conn\u001b[39m.\u001b[39mis_verified:\n\u001b[1;32m   1045\u001b[0m     warnings\u001b[39m.\u001b[39mwarn(\n\u001b[1;32m   1046\u001b[0m         (\n\u001b[1;32m   1047\u001b[0m             \u001b[39m\"\u001b[39m\u001b[39mUnverified HTTPS request is being made to host \u001b[39m\u001b[39m'\u001b[39m\u001b[39m%s\u001b[39;00m\u001b[39m'\u001b[39m\u001b[39m. \u001b[39m\u001b[39m\"\u001b[39m\n\u001b[0;32m   (...)\u001b[0m\n\u001b[1;32m   1052\u001b[0m         InsecureRequestWarning,\n\u001b[1;32m   1053\u001b[0m     )\n",
      "File \u001b[0;32m~/miniconda3/envs/basys/lib/python3.8/site-packages/urllib3/connection.py:358\u001b[0m, in \u001b[0;36mHTTPSConnection.connect\u001b[0;34m(self)\u001b[0m\n\u001b[1;32m    356\u001b[0m \u001b[39mdef\u001b[39;00m \u001b[39mconnect\u001b[39m(\u001b[39mself\u001b[39m):\n\u001b[1;32m    357\u001b[0m     \u001b[39m# Add certificate verification\u001b[39;00m\n\u001b[0;32m--> 358\u001b[0m     \u001b[39mself\u001b[39m\u001b[39m.\u001b[39msock \u001b[39m=\u001b[39m conn \u001b[39m=\u001b[39m \u001b[39mself\u001b[39;49m\u001b[39m.\u001b[39;49m_new_conn()\n\u001b[1;32m    359\u001b[0m     hostname \u001b[39m=\u001b[39m \u001b[39mself\u001b[39m\u001b[39m.\u001b[39mhost\n\u001b[1;32m    360\u001b[0m     tls_in_tls \u001b[39m=\u001b[39m \u001b[39mFalse\u001b[39;00m\n",
      "File \u001b[0;32m~/miniconda3/envs/basys/lib/python3.8/site-packages/urllib3/connection.py:174\u001b[0m, in \u001b[0;36mHTTPConnection._new_conn\u001b[0;34m(self)\u001b[0m\n\u001b[1;32m    171\u001b[0m     extra_kw[\u001b[39m\"\u001b[39m\u001b[39msocket_options\u001b[39m\u001b[39m\"\u001b[39m] \u001b[39m=\u001b[39m \u001b[39mself\u001b[39m\u001b[39m.\u001b[39msocket_options\n\u001b[1;32m    173\u001b[0m \u001b[39mtry\u001b[39;00m:\n\u001b[0;32m--> 174\u001b[0m     conn \u001b[39m=\u001b[39m connection\u001b[39m.\u001b[39;49mcreate_connection(\n\u001b[1;32m    175\u001b[0m         (\u001b[39mself\u001b[39;49m\u001b[39m.\u001b[39;49m_dns_host, \u001b[39mself\u001b[39;49m\u001b[39m.\u001b[39;49mport), \u001b[39mself\u001b[39;49m\u001b[39m.\u001b[39;49mtimeout, \u001b[39m*\u001b[39;49m\u001b[39m*\u001b[39;49mextra_kw\n\u001b[1;32m    176\u001b[0m     )\n\u001b[1;32m    178\u001b[0m \u001b[39mexcept\u001b[39;00m SocketTimeout:\n\u001b[1;32m    179\u001b[0m     \u001b[39mraise\u001b[39;00m ConnectTimeoutError(\n\u001b[1;32m    180\u001b[0m         \u001b[39mself\u001b[39m,\n\u001b[1;32m    181\u001b[0m         \u001b[39m\"\u001b[39m\u001b[39mConnection to \u001b[39m\u001b[39m%s\u001b[39;00m\u001b[39m timed out. (connect timeout=\u001b[39m\u001b[39m%s\u001b[39;00m\u001b[39m)\u001b[39m\u001b[39m\"\u001b[39m\n\u001b[1;32m    182\u001b[0m         \u001b[39m%\u001b[39m (\u001b[39mself\u001b[39m\u001b[39m.\u001b[39mhost, \u001b[39mself\u001b[39m\u001b[39m.\u001b[39mtimeout),\n\u001b[1;32m    183\u001b[0m     )\n",
      "File \u001b[0;32m~/miniconda3/envs/basys/lib/python3.8/site-packages/urllib3/util/connection.py:85\u001b[0m, in \u001b[0;36mcreate_connection\u001b[0;34m(address, timeout, source_address, socket_options)\u001b[0m\n\u001b[1;32m     83\u001b[0m     \u001b[39mif\u001b[39;00m source_address:\n\u001b[1;32m     84\u001b[0m         sock\u001b[39m.\u001b[39mbind(source_address)\n\u001b[0;32m---> 85\u001b[0m     sock\u001b[39m.\u001b[39;49mconnect(sa)\n\u001b[1;32m     86\u001b[0m     \u001b[39mreturn\u001b[39;00m sock\n\u001b[1;32m     88\u001b[0m \u001b[39mexcept\u001b[39;00m socket\u001b[39m.\u001b[39merror \u001b[39mas\u001b[39;00m e:\n",
      "\u001b[0;31mKeyboardInterrupt\u001b[0m: "
     ]
    }
   ],
   "source": [
    "datasets.CWRUBearingData()"
   ]
  },
  {
   "cell_type": "markdown",
   "metadata": {},
   "source": [
    "###### The data is downloaded in the root directoty. Ready to use!"
   ]
  },
  {
   "cell_type": "markdown",
   "metadata": {},
   "source": [
    "The data has raw signals. There are total 2800 signals with each signal has 1600 values. We will first normalize and then use for feature extraction"
   ]
  },
  {
   "cell_type": "markdown",
   "metadata": {},
   "source": [
    "##### Let us load the data"
   ]
  },
  {
   "cell_type": "code",
   "execution_count": 5,
   "metadata": {},
   "outputs": [],
   "source": [
    "data = np.load('CWRU/signal_data.npy', allow_pickle = True)"
   ]
  },
  {
   "cell_type": "code",
   "execution_count": 6,
   "metadata": {},
   "outputs": [
    {
     "name": "stdout",
     "output_type": "stream",
     "text": [
      "(2800, 1600)\n"
     ]
    }
   ],
   "source": [
    "print(data.shape)"
   ]
  },
  {
   "cell_type": "markdown",
   "metadata": {},
   "source": [
    "##### Let us first normalize the data. There are 3 types of normalization. We will see all of them one by one"
   ]
  },
  {
   "cell_type": "markdown",
   "metadata": {},
   "source": [
    "Mean Normalization"
   ]
  },
  {
   "cell_type": "code",
   "execution_count": 7,
   "metadata": {},
   "outputs": [],
   "source": [
    "from ManufacturingNet.preprocessing import MeanNormalizer"
   ]
  },
  {
   "cell_type": "code",
   "execution_count": 8,
   "metadata": {},
   "outputs": [],
   "source": [
    "normalizer1 = MeanNormalizer(data, axis = 0)"
   ]
  },
  {
   "cell_type": "code",
   "execution_count": 9,
   "metadata": {},
   "outputs": [],
   "source": [
    "normalized_data = normalizer1.get_normalized_data()"
   ]
  },
  {
   "cell_type": "code",
   "execution_count": 10,
   "metadata": {},
   "outputs": [
    {
     "data": {
      "text/plain": [
       "array([[ 0.13153407,  0.01315068, -0.0448077 , ..., -0.01209627,\n",
       "         0.05209748,  0.04970108],\n",
       "       [-0.08246213,  0.02606459,  0.13565075, ..., -0.24215809,\n",
       "        -0.24862696, -0.1915978 ],\n",
       "       [ 0.1459167 ,  0.15386776,  0.15871687, ..., -0.01165214,\n",
       "         0.06925722,  0.04547518],\n",
       "       ...,\n",
       "       [-0.10122114, -0.05053481, -0.00952744, ...,  0.21535663,\n",
       "         0.12591937,  0.03746052],\n",
       "       [ 0.06095025,  0.06883685,  0.0719024 , ...,  0.25267312,\n",
       "         0.14823252, -0.0234074 ],\n",
       "       [ 0.11675116,  0.21315185,  0.25466715, ...,  0.041213  ,\n",
       "         0.16024729,  0.28262297]])"
      ]
     },
     "execution_count": 10,
     "metadata": {},
     "output_type": "execute_result"
    }
   ],
   "source": [
    "normalized_data"
   ]
  },
  {
   "cell_type": "markdown",
   "metadata": {},
   "source": [
    "Min Max Normalization"
   ]
  },
  {
   "cell_type": "code",
   "execution_count": 11,
   "metadata": {},
   "outputs": [],
   "source": [
    "from ManufacturingNet.preprocessing import MinMaxNormalizer"
   ]
  },
  {
   "cell_type": "code",
   "execution_count": 13,
   "metadata": {},
   "outputs": [],
   "source": [
    "normalizer2 = MinMaxNormalizer(data, axis = 0)"
   ]
  },
  {
   "cell_type": "code",
   "execution_count": 14,
   "metadata": {},
   "outputs": [],
   "source": [
    "normalized_data = normalizer2.get_normalized_data()"
   ]
  },
  {
   "cell_type": "code",
   "execution_count": 15,
   "metadata": {},
   "outputs": [
    {
     "data": {
      "text/plain": [
       "array([[0.37149085, 0.40715883, 0.4523135 , ..., 0.48822004, 0.47005208,\n",
       "        0.45995385],\n",
       "       [0.36248818, 0.40767697, 0.46065664, ..., 0.47422802, 0.45361693,\n",
       "        0.44652249],\n",
       "       [0.37209592, 0.41280474, 0.46172305, ..., 0.48824705, 0.47098989,\n",
       "        0.45971862],\n",
       "       ...,\n",
       "       [0.36169901, 0.40460362, 0.45394462, ..., 0.50205339, 0.47408658,\n",
       "        0.4592725 ],\n",
       "       [0.36852144, 0.40939309, 0.45770936, ..., 0.50432292, 0.47530604,\n",
       "        0.45588443],\n",
       "       [0.37086894, 0.41518336, 0.46615912, ..., 0.49146223, 0.47596267,\n",
       "        0.47291892]])"
      ]
     },
     "execution_count": 15,
     "metadata": {},
     "output_type": "execute_result"
    }
   ],
   "source": [
    "normalized_data"
   ]
  },
  {
   "cell_type": "markdown",
   "metadata": {},
   "source": [
    "Quantile Normlization"
   ]
  },
  {
   "cell_type": "code",
   "execution_count": 18,
   "metadata": {},
   "outputs": [],
   "source": [
    "from ManufacturingNet.preprocessing import QuantileNormalizer"
   ]
  },
  {
   "cell_type": "code",
   "execution_count": 19,
   "metadata": {},
   "outputs": [],
   "source": [
    "normalizer3 = QuantileNormalizer(data, axis = 0)"
   ]
  },
  {
   "cell_type": "code",
   "execution_count": 20,
   "metadata": {},
   "outputs": [],
   "source": [
    "normalized_data = normalizer3.get_normalized_data()"
   ]
  },
  {
   "cell_type": "code",
   "execution_count": 21,
   "metadata": {},
   "outputs": [
    {
     "data": {
      "text/plain": [
       "array([[ 0.1108245 ,  0.00599514, -0.02958248, ..., -0.01660993,\n",
       "         0.02888283,  0.02311589],\n",
       "       [-0.07300938,  0.01887359,  0.06638019, ..., -0.14313853,\n",
       "        -0.19000219, -0.10759061],\n",
       "       [ 0.12317993,  0.14632583,  0.0786461 , ..., -0.01636567,\n",
       "         0.0413727 ,  0.02082681],\n",
       "       ...,\n",
       "       [-0.08912435, -0.05751549, -0.01082144, ...,  0.10848383,\n",
       "         0.08261477,  0.01648543],\n",
       "       [ 0.05018933,  0.0615284 ,  0.03248063, ...,  0.12900702,\n",
       "         0.09885559, -0.01648543],\n",
       "       [ 0.09812521,  0.20544714,  0.12966973, ...,  0.01270892,\n",
       "         0.10760065,  0.14928474]])"
      ]
     },
     "execution_count": 21,
     "metadata": {},
     "output_type": "execute_result"
    }
   ],
   "source": [
    "normalized_data"
   ]
  },
  {
   "cell_type": "markdown",
   "metadata": {},
   "source": [
    "This is how we normalized the data with a couple of lines and its done! You can pass in a different axis valueto normalize the data along a different axis"
   ]
  },
  {
   "cell_type": "markdown",
   "metadata": {},
   "source": [
    "## Let us now perform Feature Extraction"
   ]
  },
  {
   "cell_type": "markdown",
   "metadata": {},
   "source": [
    "##### Lets import the featurizer first"
   ]
  },
  {
   "cell_type": "code",
   "execution_count": 22,
   "metadata": {},
   "outputs": [],
   "source": [
    "from ManufacturingNet.featurization import Featurizer"
   ]
  },
  {
   "cell_type": "code",
   "execution_count": 23,
   "metadata": {},
   "outputs": [],
   "source": [
    "f = Featurizer()"
   ]
  },
  {
   "cell_type": "markdown",
   "metadata": {},
   "source": [
    "There are currently 20 features. Let us see what they are!"
   ]
  },
  {
   "cell_type": "code",
   "execution_count": 24,
   "metadata": {
    "scrolled": false
   },
   "outputs": [
    {
     "name": "stdout",
     "output_type": "stream",
     "text": [
      "Help on Featurizer in module ManufacturingNet.featurization.featurization object:\n",
      "\n",
      "class Featurizer(builtins.object)\n",
      " |  Featurizer currently supports the 20 features below. Each\n",
      " |  supported feature is contained within its own method.\n",
      " |  \n",
      " |  Methods defined here:\n",
      " |  \n",
      " |  abs_mean(self, a, axis=0)\n",
      " |      The absolute mean value of a set of values is the arithmetic\n",
      " |      mean of all the absolute values in a given set of numbers.\n",
      " |  \n",
      " |  abslogmean(self, a, axis=0)\n",
      " |      The absolute logarithmic mean takes a mod of each value,\n",
      " |      followed by log, and then finds the mean of the resultant log\n",
      " |      values.\n",
      " |  \n",
      " |  clearancefactor(self, a, axis=0)\n",
      " |      Clearance factor is peak value divided by the squared mean\n",
      " |      value of the square roots of the absolute amplitudes.\n",
      " |  \n",
      " |  coeff_var(self, a, axis=0)\n",
      " |      The coefficient of variation, also known as relative\n",
      " |      standard deviation, is a standardized measure of dispersion of\n",
      " |      a distribution. It is often expressed as a percentage, and is\n",
      " |      defined as the ratio of the standard deviation to the mean.\n",
      " |  \n",
      " |  crestfactor(self, a, axis=0)\n",
      " |      Crest factor refers to a value that is affected by an\n",
      " |      absolute maximum values.\n",
      " |      It is a ratio of maximum of absolute values to the RMS value of\n",
      " |      a given set of numbers.\n",
      " |      Crest factor indicates how extreme the peaks are in a wave.\n",
      " |      Crest factor 1 indicates no peaks.\n",
      " |  \n",
      " |  impulsefactor(self, a, axis=0)\n",
      " |      Impulse factor refers to a value that is affected by an\n",
      " |      absolute maximum values.\n",
      " |      It is a ratio of maximum of absolute values to the absolute\n",
      " |      mean of a given set of numbers.\n",
      " |  \n",
      " |  kurtosis(self, a, axis=0)\n",
      " |      Kurtosis measures how heavily the tails of a distribution differ\n",
      " |      from the tails of a normal distribution. In other words,\n",
      " |      kurtosis determines if the tails of a given distribution\n",
      " |      contain extreme values.\n",
      " |  \n",
      " |  max(self, a, axis=0)\n",
      " |      Returns the maximum number in a dataset.\n",
      " |  \n",
      " |  mean(self, a, axis=0)\n",
      " |      The mean is found by summing all numbers in a dataset and\n",
      " |      dividing by the total number of datapoints.\n",
      " |  \n",
      " |  meanabsdev(self, a, axis=0)\n",
      " |      The mean absolute deviation is the average of the absolute\n",
      " |      deviations from a central point.\n",
      " |      It is a summary statistic of statistical dispersion or\n",
      " |      variability.\n",
      " |  \n",
      " |  median(self, a, axis=0)\n",
      " |      Returns the median of the dataset.\n",
      " |      To find the median, the observations are arranged in order\n",
      " |      from smallest to largest value.\n",
      " |      If there is an odd number of observations, the median is the\n",
      " |      middle value.\n",
      " |      If there is an even number of observations, the median is the\n",
      " |      average of the two middle values.\n",
      " |  \n",
      " |  medianabsdev(self, a, axis=0)\n",
      " |      The median absolute deviation of a data set is the median of\n",
      " |      the absolute deviations from a central point.\n",
      " |      It is a summary statistic of statistical dispersion or\n",
      " |      variability.\n",
      " |  \n",
      " |  midrange(self, a, axis=0)\n",
      " |      The mid-range or mid-extreme of a dataset is the mean of the\n",
      " |      maximum and minimum values in a data set.\n",
      " |  \n",
      " |  min(self, a, axis=0)\n",
      " |      Returns the minimum number in a dataset.\n",
      " |  \n",
      " |  peak_to_peak(self, a, axis=0)\n",
      " |      Returns the difference between the maximum and minimum\n",
      " |      numbers in a dataset.\n",
      " |  \n",
      " |  rms(self, a, axis=0)\n",
      " |      The RMS value of a set of values is the square root of the\n",
      " |      arithmetic mean of the squares of the values, or the square of\n",
      " |      the function that defines the continuous waveform.\n",
      " |      In the case of the RMS statistic of a random process, the\n",
      " |      expected value is used instead of the mean.\n",
      " |  \n",
      " |  shapefactor(self, a, axis=0)\n",
      " |      Shape factor refers to a value that is affected by an\n",
      " |      object's shape but is independent of its dimensions.\n",
      " |      It is a ratio of RMS value to the absolute mean of a given set\n",
      " |      of numbers.\n",
      " |  \n",
      " |  skew(self, a, axis=0)\n",
      " |      Skewness is a measure of the asymmetry of the distribution\n",
      " |      of a real-valued observations about its mean.\n",
      " |      Skewness can be positive, zero, negative, or undefined.\n",
      " |  \n",
      " |  std(self, a, axis=0)\n",
      " |      Standard deviation is a measure of the amount of variation\n",
      " |      or dispersion of a set of values.\n",
      " |      A low standard deviation indicates that the values tend to be\n",
      " |      close to the mean of the set, while a high standard deviation\n",
      " |      indicates that the values are spread out over a wider range.\n",
      " |  \n",
      " |  variance(self, a, axis=0)\n",
      " |      Variance describes how much a random variable differs from\n",
      " |      its expected value.\n",
      " |      The variance is defined as the average of the squares of the\n",
      " |      differences between the individual (observed) and the expected\n",
      " |      value. That means it is always positive.\n",
      " |      In practice, it is a measure of how much something changes.\n",
      " |  \n",
      " |  ----------------------------------------------------------------------\n",
      " |  Data descriptors defined here:\n",
      " |  \n",
      " |  __dict__\n",
      " |      dictionary for instance variables (if defined)\n",
      " |  \n",
      " |  __weakref__\n",
      " |      list of weak references to the object (if defined)\n",
      "\n"
     ]
    }
   ],
   "source": [
    "help(f)"
   ]
  },
  {
   "cell_type": "markdown",
   "metadata": {},
   "source": [
    "##### Let us extract absolute mean feature from our data. Before that, lets see what it is"
   ]
  },
  {
   "cell_type": "code",
   "execution_count": 25,
   "metadata": {},
   "outputs": [
    {
     "name": "stdout",
     "output_type": "stream",
     "text": [
      "Help on method abs_mean in module ManufacturingNet.featurization.featurization:\n",
      "\n",
      "abs_mean(a, axis=0) method of ManufacturingNet.featurization.featurization.Featurizer instance\n",
      "    The absolute mean value of a set of values is the arithmetic\n",
      "    mean of all the absolute values in a given set of numbers.\n",
      "\n"
     ]
    }
   ],
   "source": [
    "help(f.abs_mean)"
   ]
  },
  {
   "cell_type": "code",
   "execution_count": 26,
   "metadata": {},
   "outputs": [
    {
     "data": {
      "text/plain": [
       "array([0.04924405, 0.05428433, 0.05224068, ..., 0.29690971, 0.4750641 ,\n",
       "       0.21335175])"
      ]
     },
     "execution_count": 26,
     "metadata": {},
     "output_type": "execute_result"
    }
   ],
   "source": [
    "feature_1 = f.abs_mean(data, axis = 1)\n",
    "feature_1"
   ]
  },
  {
   "cell_type": "markdown",
   "metadata": {},
   "source": [
    "##### Similarly, we can extract other features"
   ]
  },
  {
   "cell_type": "code",
   "execution_count": 27,
   "metadata": {},
   "outputs": [
    {
     "data": {
      "text/plain": [
       "array([0.01370173, 0.01369508, 0.01348829, ..., 0.01581798, 0.01657961,\n",
       "       0.01542829])"
      ]
     },
     "execution_count": 27,
     "metadata": {},
     "output_type": "execute_result"
    }
   ],
   "source": [
    "feature_2 = f.mean(data, axis = 1)\n",
    "feature_2"
   ]
  },
  {
   "cell_type": "code",
   "execution_count": 28,
   "metadata": {},
   "outputs": [
    {
     "data": {
      "text/plain": [
       "array([-0.22483287, -0.24035794, -0.32800499, ..., -0.57577952,\n",
       "        0.09202673, -0.46186613])"
      ]
     },
     "execution_count": 28,
     "metadata": {},
     "output_type": "execute_result"
    }
   ],
   "source": [
    "feature_3 = f.skew(data, axis = 1)\n",
    "feature_3"
   ]
  },
  {
   "cell_type": "code",
   "execution_count": 29,
   "metadata": {},
   "outputs": [
    {
     "data": {
      "text/plain": [
       "array([0.06112483, 0.06719753, 0.06469002, ..., 0.61073543, 0.89905632,\n",
       "       0.36928773])"
      ]
     },
     "execution_count": 29,
     "metadata": {},
     "output_type": "execute_result"
    }
   ],
   "source": [
    "feature_4 = f.rms(data, axis = 1)\n",
    "feature_4"
   ]
  },
  {
   "cell_type": "code",
   "execution_count": 30,
   "metadata": {},
   "outputs": [
    {
     "data": {
      "text/plain": [
       "array([ 0.35548062,  0.41431015,  0.40283631, ...,  8.37504533,\n",
       "       12.001672  ,  4.10739467])"
      ]
     },
     "execution_count": 30,
     "metadata": {},
     "output_type": "execute_result"
    }
   ],
   "source": [
    "feature_5 = f.peak_to_peak(data, axis = 1)\n",
    "feature_5"
   ]
  },
  {
   "cell_type": "code",
   "execution_count": 31,
   "metadata": {},
   "outputs": [
    {
     "data": {
      "text/plain": [
       "array([2.9419542 , 3.20074969, 3.32481677, ..., 7.11755664, 6.97214016,\n",
       "       5.57819061])"
      ]
     },
     "execution_count": 31,
     "metadata": {},
     "output_type": "execute_result"
    }
   ],
   "source": [
    "feature_6 = f.crestfactor(data, axis = 1)\n",
    "feature_6"
   ]
  },
  {
   "cell_type": "markdown",
   "metadata": {},
   "source": [
    "This is how we can normalize and extract features from the given data. "
   ]
  },
  {
   "cell_type": "markdown",
   "metadata": {},
   "source": []
  }
 ],
 "metadata": {
  "kernelspec": {
   "display_name": "Python 3",
   "language": "python",
   "name": "python3"
  },
  "language_info": {
   "codemirror_mode": {
    "name": "ipython",
    "version": 3
   },
   "file_extension": ".py",
   "mimetype": "text/x-python",
   "name": "python",
   "nbconvert_exporter": "python",
   "pygments_lexer": "ipython3",
   "version": "3.8.16"
  }
 },
 "nbformat": 4,
 "nbformat_minor": 4
}
