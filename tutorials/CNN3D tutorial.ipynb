{
 "cells": [
  {
   "cell_type": "markdown",
   "metadata": {},
   "source": [
    "# Developing a CNN3D model using ManufacturingNet\n",
    "###### To know more about the manufacturingnet please visit: http://manufacturingnet.io/ "
   ]
  },
  {
   "cell_type": "code",
   "execution_count": 1,
   "metadata": {},
   "outputs": [],
   "source": [
    "import ManufacturingNet\n",
    "import numpy as np"
   ]
  },
  {
   "cell_type": "markdown",
   "metadata": {},
   "source": [
    "First we import manufacturingnet. Using manufacturingnet we can create deep learning models with greater ease.\n",
    "\n",
    "\n",
    "\n",
    "It is important to note that all the dependencies of the package must also be installed in your environment "
   ]
  },
  {
   "cell_type": "markdown",
   "metadata": {},
   "source": [
    "##### Now we first need to download the data. You can use our dataset class where we have curated different types of datasets and you just need to run two lines of code to download the data :)"
   ]
  },
  {
   "cell_type": "code",
   "execution_count": 2,
   "metadata": {},
   "outputs": [],
   "source": [
    "from ManufacturingNet import datasets"
   ]
  },
  {
   "cell_type": "code",
   "execution_count": 3,
   "metadata": {},
   "outputs": [],
   "source": [
    "datasets.LithographyData()"
   ]
  },
  {
   "cell_type": "markdown",
   "metadata": {},
   "source": [
    "###### Alright! Now please check your working directory. The data should be present inside it. That was super easy !!"
   ]
  },
  {
   "cell_type": "markdown",
   "metadata": {},
   "source": [
    "The Lithography dataset has more than 30000 data points. Its a classification problem. Every data point has a sequence of frames captured during the curing process. By analysing these temporally related frames, we will try to classify it in one of the 3 classes (uncured, cured, damaged)."
   ]
  },
  {
   "cell_type": "code",
   "execution_count": 4,
   "metadata": {},
   "outputs": [],
   "source": [
    "# Lets load the data\n",
    "X =  np.load('./Lithography files/input_data.npy')\n",
    "Y = np.load('./Lithography files/labels.npy')"
   ]
  },
  {
   "cell_type": "markdown",
   "metadata": {},
   "source": [
    "##### For demonstration purpose, we will use just 100 points"
   ]
  },
  {
   "cell_type": "code",
   "execution_count": 5,
   "metadata": {},
   "outputs": [],
   "source": [
    "X=X[:100]\n",
    "Y=Y[:100]"
   ]
  },
  {
   "cell_type": "markdown",
   "metadata": {},
   "source": [
    "One thing to note here, each data point X is in the format of (Depth, Inchannel, Height, Width). Since, CNN3D model requires data in (Inchannel, depth, height, width) format, we need to do some preprocessing to the input data."
   ]
  },
  {
   "cell_type": "code",
   "execution_count": 6,
   "metadata": {},
   "outputs": [],
   "source": [
    "#Preprocessing X\n",
    "X_new=[]\n",
    "for i in range(X.shape[0]):\n",
    "    temp=np.transpose(X[i],(1,0,2,3))\n",
    "    X_new.append(temp)\n",
    "X_new=np.array(X_new)"
   ]
  },
  {
   "cell_type": "code",
   "execution_count": 7,
   "metadata": {},
   "outputs": [
    {
     "data": {
      "text/plain": [
       "(100, 1, 10, 110, 110)"
      ]
     },
     "execution_count": 7,
     "metadata": {},
     "output_type": "execute_result"
    }
   ],
   "source": [
    "X_new.shape"
   ]
  },
  {
   "cell_type": "markdown",
   "metadata": {},
   "source": [
    "##### We have preprocessed the data in the correct format. "
   ]
  },
  {
   "cell_type": "markdown",
   "metadata": {},
   "source": [
    "#### Now all we got to do is import the CNN3D class and answer a few simple questions and we will be all set. The manufacturingnet has been designed in a way to make things easy for user and provide them the tools to implement complex used"
   ]
  },
  {
   "cell_type": "code",
   "execution_count": 8,
   "metadata": {},
   "outputs": [],
   "source": [
    "from ManufacturingNet.models import CNN3D"
   ]
  },
  {
   "cell_type": "markdown",
   "metadata": {},
   "source": [
    "###### We import the CNN3D model from package and answer a few simple questions"
   ]
  },
  {
   "cell_type": "code",
   "execution_count": 9,
   "metadata": {
    "scrolled": false
   },
   "outputs": [
    {
     "name": "stdout",
     "output_type": "stream",
     "text": [
      "Do you want default values for all the training parameters (y/n)? n\n",
      "Question [1/9]: No of classes:\n",
      "\n",
      "\n",
      "Please enter the number of classes for classification \n",
      " Enter 1 if you are dealing with a regression problem: 3\n",
      "\n",
      "\n",
      "===========================================================================\n",
      "===========================================================================\n",
      "Question [2/9]: Design Architecture: \n",
      "\n",
      "\n",
      "NOTE: CNN3D convolution layers requires high memory, recommended not more 3 conv3d layers.\n",
      "\n",
      "\n",
      "===========================================================================\n",
      "===========================================================================\n",
      "Question: Number of Convolution Layers:\n",
      "\n",
      "\n",
      "Please enter the number of conv_layers: 2\n",
      "\n",
      "\n",
      "===========================================================================\n",
      "===========================================================================\n",
      "Question: Default value:\n",
      "\n",
      "\n",
      "Do you want default values for convolution layers (y/n): n\n",
      "\n",
      "\n",
      "===========================================================================\n",
      "===========================================================================\n",
      "Designing the 1 convolution block\n",
      "Question: Out-channels for this conv:\n",
      "\n",
      "\n",
      "Please enter the number of out channels: 1\n",
      "\n",
      "\n",
      "===========================================================================\n",
      "===========================================================================\n",
      "Question: Kernel Size for this conv\n",
      "\n",
      "\n",
      "Please enter the kernel size (depth,heigth,width)\n",
      "For example 3,3,3\n",
      "For default size, please directly press enter without any input: 1, 10, 10\n",
      "\n",
      "\n",
      "===========================================================================\n",
      "===========================================================================\n",
      "Question: Stride value for this conv:\n",
      "\n",
      "\n",
      "Please enter the stride (depth,heigth,width)\n",
      "For example 1,1,1\n",
      "For default size, please directly press enter without any input: 1, 5, 5\n",
      "\n",
      "\n",
      "===========================================================================\n",
      "===========================================================================\n",
      "Question: Padding value for this conv:\n",
      "\n",
      "\n",
      "Please enter the value of padding (depth,heigth,width)\n",
      "For example 1,1,1\n",
      "For default size, please directly press enter without any input: 0,0,0\n",
      "\n",
      "\n",
      "===========================================================================\n",
      "===========================================================================\n",
      "Question: Pooling layer for this conv:\n",
      "\n",
      "\n",
      "Do you want a pooling layer after this convolution layer (y/n): y\n",
      "Question: Kernel Size for this pooling layer:\n",
      "\n",
      "\n",
      "Please enter the kernel size (depth,heigth,width)\n",
      "For example 3,3,3\n",
      "For default size, please directly press enter without any input: 1,2,2\n",
      "Question: Stride value for this pooling layer:\n",
      "\n",
      "\n",
      "Please enter the stride (depth,heigth,width)\n",
      "For example 1,1,1\n",
      "For default size, please directly press enter without any input: 1,2,2\n",
      "Question: Padding value for this pooling layer:\n",
      "\n",
      "\n",
      "Please enter the value of padding (depth,heigth,width)\n",
      "For example 1,1,1\n",
      "For default size, please directly press enter without any input: 0,0,0\n",
      "\n",
      "\n",
      "===========================================================================\n",
      "===========================================================================\n",
      "Do you want default values for dropout(press y or n): y\n",
      "The image shape after convolution is:  (1, 10, 10, 10)\n",
      "\n",
      "\n",
      "Designing the 2 convolution block\n",
      "Question: Out-channels for this conv:\n",
      "\n",
      "\n",
      "Please enter the number of out channels: 2\n",
      "\n",
      "\n",
      "===========================================================================\n",
      "===========================================================================\n",
      "Question: Kernel Size for this conv\n",
      "\n",
      "\n",
      "Please enter the kernel size (depth,heigth,width)\n",
      "For example 3,3,3\n",
      "For default size, please directly press enter without any input: 2,2,2\n",
      "\n",
      "\n",
      "===========================================================================\n",
      "===========================================================================\n",
      "Question: Stride value for this conv:\n",
      "\n",
      "\n",
      "Please enter the stride (depth,heigth,width)\n",
      "For example 1,1,1\n",
      "For default size, please directly press enter without any input: 2,2,2\n",
      "\n",
      "\n",
      "===========================================================================\n",
      "===========================================================================\n",
      "Question: Padding value for this conv:\n",
      "\n",
      "\n",
      "Please enter the value of padding (depth,heigth,width)\n",
      "For example 1,1,1\n",
      "For default size, please directly press enter without any input: 0,0,0\n",
      "\n",
      "\n",
      "===========================================================================\n",
      "===========================================================================\n",
      "Question: Pooling layer for this conv:\n",
      "\n",
      "\n",
      "Do you want a pooling layer after this convolution layer (y/n): n\n",
      "\n",
      "\n",
      "===========================================================================\n",
      "===========================================================================\n",
      "Do you want default values for dropout(press y or n): y\n",
      "The image shape after convolution is:  (2, 5, 5, 5)\n",
      "\n",
      "\n",
      "Question [3/9]: Batchsize:\n",
      "\n",
      "\n",
      "Please enter the batch size: 32\n",
      "\n",
      "\n",
      "===========================================================================\n",
      "===========================================================================\n",
      "Question [4/9]: Validation_size:\n",
      "Please enter the train set size float input (size > 0 and size < 1) \n",
      " For default size, please directly press enter without any input: 0.2\n",
      "Question [5/9]: Loss function:\n",
      "\n",
      "\n",
      "Please enter the appropriate loss function for the problem: \n",
      " Criterion_list - [1: CrossEntropyLoss, 2: L1Loss, 3: SmoothL1Loss, 4: MSELoss]: 1\n",
      "\n",
      "\n",
      "===========================================================================\n",
      "===========================================================================\n",
      "Question [6/9]: Optimizer:\n",
      "\n",
      "\n",
      "Please enter the optimizer index for the problem \n",
      " Optimizer_list - [1: Adam, 2: SGD] \n",
      " For default optimizer, please directly press enter without any input: 1\n",
      " \n",
      "Please enter a required value float input for learning rate (learning rate > 0) \n",
      " For default learning rate, please directly press enter without any input: 0.001\n",
      "\n",
      "\n",
      "===========================================================================\n",
      "===========================================================================\n",
      "Question [8/9]: Scheduler:\n",
      "\n",
      "\n",
      "Please enter the scheduler index for the problem: Scheduler_list - [1: None, 2:StepLR, 3:MultiStepLR] \n",
      " For default option of no scheduler, please directly press enter without any input: 2\n",
      " \n",
      "Please enter a step value int input (step > 0): 2\n",
      " \n",
      "Please enter a Multiplying factor value float input (Multiplying factor > 0): 0.1\n",
      "\n",
      "\n",
      "===========================================================================\n",
      "===========================================================================\n",
      "Question [9/9]: Number of Epochs:\n",
      "\n",
      "\n",
      "Please enter the number of epochs int input to train the model (number of epochs > 0): 5\n",
      "Network(\n",
      "  (net): Sequential(\n",
      "    (0): BasicBlock(\n",
      "      (conv1): Conv3d(1, 1, kernel_size=(1, 10, 10), stride=(1, 5, 5))\n",
      "      (batch): BatchNorm3d(1, eps=1e-05, momentum=0.01, affine=True, track_running_stats=True)\n",
      "      (pool): MaxPool3d(kernel_size=(1, 2, 2), stride=(1, 2, 2), padding=(0, 0, 0), dilation=1, ceil_mode=False)\n",
      "      (drop): Dropout3d(p=0, inplace=False)\n",
      "    )\n",
      "    (1): BasicBlock(\n",
      "      (conv1): Conv3d(1, 2, kernel_size=(2, 2, 2), stride=(2, 2, 2))\n",
      "      (batch): BatchNorm3d(2, eps=1e-05, momentum=0.01, affine=True, track_running_stats=True)\n",
      "      (drop): Dropout3d(p=0, inplace=False)\n",
      "    )\n",
      "  )\n",
      "  (fc1): Linear(in_features=250, out_features=1024, bias=True)\n",
      "  (fc2): Linear(in_features=1024, out_features=256, bias=True)\n",
      "  (fc3): Linear(in_features=256, out_features=3, bias=True)\n",
      ")\n",
      "Model Summary:\n",
      " \n",
      "Criterion:  CrossEntropyLoss()\n",
      "Optimizer:  Adam (\n",
      "Parameter Group 0\n",
      "    amsgrad: False\n",
      "    betas: (0.9, 0.999)\n",
      "    eps: 1e-08\n",
      "    initial_lr: 0.001\n",
      "    lr: 0.001\n",
      "    weight_decay: 0\n",
      ")\n",
      "Scheduler:  <torch.optim.lr_scheduler.StepLR object at 0x000001B03AEBB910>\n",
      "Batch size:  32\n",
      "Initial learning rate:  0.001\n",
      "Number of training epochs:  5\n",
      "Device:  cpu\n",
      "\n",
      "\n",
      "===========================================================================\n",
      "===========================================================================\n",
      "Epoch_Number:  0\n",
      "Training Loss:  0.5495126751389554\n",
      "Training Accuracy:  82.5 %\n",
      "Validation Loss:  0.0\n",
      "Validation Accuracy:  100.0 %\n",
      "Current scheduler status:  Adam (\n",
      "Parameter Group 0\n",
      "    amsgrad: False\n",
      "    betas: (0.9, 0.999)\n",
      "    eps: 1e-08\n",
      "    initial_lr: 0.001\n",
      "    lr: 0.001\n",
      "    weight_decay: 0\n",
      ")\n",
      "Epoch Time:  0.22663450241088867 s\n",
      "##################################################\n",
      "Epoch_Number:  1\n",
      "Training Loss:  0.131850697652889\n",
      "Training Accuracy:  91.25 %\n"
     ]
    },
    {
     "name": "stdout",
     "output_type": "stream",
     "text": [
      "Validation Loss:  1.3706813462011155e-13\n",
      "Validation Accuracy:  100.0 %\n",
      "Current scheduler status:  Adam (\n",
      "Parameter Group 0\n",
      "    amsgrad: False\n",
      "    betas: (0.9, 0.999)\n",
      "    eps: 1e-08\n",
      "    initial_lr: 0.001\n",
      "    lr: 0.0001\n",
      "    weight_decay: 0\n",
      ")\n",
      "Epoch Time:  0.16655325889587402 s\n",
      "##################################################\n",
      "Epoch_Number:  2\n",
      "Training Loss:  0.0010451143576049495\n",
      "Training Accuracy:  94.16666666666667 %\n",
      "Validation Loss:  1.552945413238589e-07\n",
      "Validation Accuracy:  100.0 %\n",
      "Current scheduler status:  Adam (\n",
      "Parameter Group 0\n",
      "    amsgrad: False\n",
      "    betas: (0.9, 0.999)\n",
      "    eps: 1e-08\n",
      "    initial_lr: 0.001\n",
      "    lr: 0.0001\n",
      "    weight_decay: 0\n",
      ")\n",
      "Epoch Time:  0.18650102615356445 s\n",
      "##################################################\n",
      "Epoch_Number:  3\n",
      "Training Loss:  0.00022683514661925828\n",
      "Training Accuracy:  95.625 %\n",
      "Validation Loss:  0.00015830504348021045\n",
      "Validation Accuracy:  100.0 %\n",
      "Current scheduler status:  Adam (\n",
      "Parameter Group 0\n",
      "    amsgrad: False\n",
      "    betas: (0.9, 0.999)\n",
      "    eps: 1e-08\n",
      "    initial_lr: 0.001\n",
      "    lr: 1e-05\n",
      "    weight_decay: 0\n",
      ")\n",
      "Epoch Time:  0.19946646690368652 s\n",
      "##################################################\n",
      "Epoch_Number:  4\n",
      "Training Loss:  0.0002729449905264006\n",
      "Training Accuracy:  96.5 %\n",
      "Validation Loss:  0.00025179577918142714\n",
      "Validation Accuracy:  100.0 %\n",
      "Current scheduler status:  Adam (\n",
      "Parameter Group 0\n",
      "    amsgrad: False\n",
      "    betas: (0.9, 0.999)\n",
      "    eps: 1e-08\n",
      "    initial_lr: 0.001\n",
      "    lr: 1e-05\n",
      "    weight_decay: 0\n",
      ")\n",
      "Epoch Time:  0.1904916763305664 s\n",
      "##################################################\n",
      "Confusion Matix: \n",
      "[[20]]\n",
      "Do you want to save the model weights? (y/n): y\n",
      " Call get_prediction() to make predictions on new data\n",
      " \n",
      "=== End of training ===\n"
     ]
    },
    {
     "data": {
      "image/png": "[encoded data removed]",
      "text/plain": [
       "<Figure size 576x576 with 1 Axes>"
      ]
     },
     "metadata": {
      "needs_background": "light"
     },
     "output_type": "display_data"
    },
    {
     "data": {
      "image/png": "[encoded data removed]",
      "text/plain": [
       "<Figure size 576x576 with 1 Axes>"
      ]
     },
     "metadata": {
      "needs_background": "light"
     },
     "output_type": "display_data"
    }
   ],
   "source": [
    "model=CNN3D(X_new,Y)"
   ]
  },
  {
   "cell_type": "markdown",
   "metadata": {},
   "source": [
    "Alright! Its done you have built your CNN3D network using the manufacturingnet package. Just by answering a few simple questions. It is really easy\n",
    "\n",
    "A few pointers about developing the CNN3D model. The CNN3D model is very high in terms of memory and computation.The number of convolution layers, activations, batch size, batch normalization and drop out(if any), loss functions, optimizer, epochs, scheduler should be chosen by the user\n",
    "\n",
    "The model summary, training accuracy, validation accuracy, confusion matrix, Loss  vs epoch are also provided by the package."
   ]
  }
 ],
 "metadata": {
  "kernelspec": {
   "display_name": "Python 3",
   "language": "python",
   "name": "python3"
  },
  "language_info": {
   "codemirror_mode": {
    "name": "ipython",
    "version": 3
   },
   "file_extension": ".py",
   "mimetype": "text/x-python",
   "name": "python",
   "nbconvert_exporter": "python",
   "pygments_lexer": "ipython3",
   "version": "3.8.3"
  }
 },
 "nbformat": 4,
 "nbformat_minor": 2
}
