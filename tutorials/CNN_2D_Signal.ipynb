{
 "cells": [
  {
   "cell_type": "markdown",
   "metadata": {},
   "source": [
    "# Developing a 2D Convolutional Neural Network (CNN) using ManufacturingNet\n",
    "###### To know more about the manufacturingnet please visit: http://manufacturingnet.io/ "
   ]
  },
  {
   "cell_type": "code",
   "execution_count": 1,
   "metadata": {},
   "outputs": [],
   "source": [
    "import ManufacturingNet\n",
    "import numpy as np"
   ]
  },
  {
   "cell_type": "markdown",
   "metadata": {},
   "source": [
    "First we import manufacturingnet. Using manufacturingnet we can create different types of neural networks like CNNs with greater ease.\n",
    "\n",
    "It is important to note that all the dependencies of the package must also be installed in your environment "
   ]
  },
  {
   "cell_type": "markdown",
   "metadata": {},
   "source": [
    "##### For any machine learning model the most important thing is the dataset. So we first need to download the data depending on the application. ManufacturingNet offers a dataset class where we have curated different types of datasets and you just need to run two lines of code to download the data :)"
   ]
  },
  {
   "cell_type": "code",
   "execution_count": 2,
   "metadata": {},
   "outputs": [],
   "source": [
    "from ManufacturingNet import datasets"
   ]
  },
  {
   "cell_type": "markdown",
   "metadata": {},
   "source": [
    "###### Please be patient downloading the data may take some time"
   ]
  },
  {
   "cell_type": "code",
   "execution_count": 3,
   "metadata": {},
   "outputs": [],
   "source": [
    "datasets.ChatterData()"
   ]
  },
  {
   "cell_type": "markdown",
   "metadata": {},
   "source": [
    "###### Great! The data has been downloaded to your working directory. You can use to develop cool machine learning models."
   ]
  },
  {
   "cell_type": "markdown",
   "metadata": {},
   "source": [
    "The Turning chatter dataset is a vibration signals dataset with 4 classes. The classes are an indicator of the no-chatter, intermediate chatter, chatter, and unknown chatter. The dataset is useful to the userd who are interested in applying machine learning to machining datasets."
   ]
  },
  {
   "cell_type": "markdown",
   "metadata": {},
   "source": [
    "###### It is important to note that the path that the tutorial developer used in the below cell may be different than the user. The users will have figure it out if this bit of code does not work as is in their systems. "
   ]
  },
  {
   "cell_type": "code",
   "execution_count": 4,
   "metadata": {},
   "outputs": [],
   "source": [
    "# Lets load the data\n",
    "X =  np.load('./Turning_chatter/raw_signal_data.npy', allow_pickle = True)\n",
    "Y = np.load('./Turning_chatter/signal_data_labels.npy', allow_pickle = True)"
   ]
  },
  {
   "cell_type": "code",
   "execution_count": 5,
   "metadata": {},
   "outputs": [
    {
     "data": {
      "text/plain": [
       "(7058, 1600)"
      ]
     },
     "execution_count": 5,
     "metadata": {},
     "output_type": "execute_result"
    }
   ],
   "source": [
    "#Lets check what is the shape of the data\n",
    "X.shape"
   ]
  },
  {
   "cell_type": "markdown",
   "metadata": {},
   "source": [
    "Alright we need to reshape the data to run the CNN2D signal. The CNN takes as input the data in form of channels, height, width. In the manufacturingnet paper we have used a size of 40,40 to get the results. So lets reshape all the datapoints X  to that (1,40,40)."
   ]
  },
  {
   "cell_type": "code",
   "execution_count": 6,
   "metadata": {},
   "outputs": [],
   "source": [
    "X = X.reshape(len(X),1,40,40)"
   ]
  },
  {
   "cell_type": "markdown",
   "metadata": {},
   "source": [
    "#### The next step is importing CNN2D "
   ]
  },
  {
   "cell_type": "code",
   "execution_count": 7,
   "metadata": {},
   "outputs": [],
   "source": [
    "from ManufacturingNet.models import CNN2DSignal"
   ]
  },
  {
   "cell_type": "markdown",
   "metadata": {},
   "source": [
    "###### We import the Deep Neural Network (DNNModel ) from package and answer a few simple questions"
   ]
  },
  {
   "cell_type": "code",
   "execution_count": 8,
   "metadata": {},
   "outputs": [
    {
     "name": "stdout",
     "output_type": "stream",
     "text": [
      "1/15 - Get Image Size\n",
      "Please enter the image width: 40\n",
      "Please enter the image height: 40\n",
      "Image:  40 40\n",
      "=========================\n",
      "2/15 - Number of Convolutions\n",
      "Please enter the number of convolutions: 3\n",
      "Convolutions:  3\n",
      "=========================\n",
      "3/15 - Channels\n",
      "enter the number of input channels: 1\n",
      "enter the number of output channels for convolution 1: 4\n",
      "enter the number of output channels for convolution 2: 8\n",
      "enter the number of output channels for convolution 3: 16\n",
      "Channels:  [1, 4, 8, 16]\n",
      "=========================\n",
      "4/15 - Kernels\n",
      "Do you want default values for kernel size(press y or n): y\n",
      "Kernel sizes:  [(3, 3), (3, 3), (3, 3)]\n",
      "=========================\n",
      "5/15 - Padding and Stride\n",
      "Do you want default values for padding and stride (press y or n): y\n",
      "Padding:  [(0, 0), (0, 0), (0, 0)]\n",
      "Stride:  [(1, 1), (1, 1), (1, 1)]\n",
      "=========================\n",
      "6/15 - Dropout\n",
      "Do you want default values for dropout(press y or n): n\n",
      "Please input the dropout probability: 0.2\n",
      "Dropout ratio:  0.2\n",
      "=========================\n",
      "7/15 - Max Pooling\n",
      "Do you want default pooling values (press y or n): y\n",
      "Pooling Layers:  [0, 0, 1]\n",
      "Pooling Size:  [(2, 2), (2, 2), (2, 2)]\n",
      "Pooling Stride [(2, 2), (2, 2), (2, 2)]\n",
      "=========================\n",
      "8/15 - Batch Normalization\n",
      "Do you want default values for batch normalization (press y or n): y\n",
      "Batch normalization [1, 1, 1]\n",
      "=========================\n",
      "9/15 - Number of classes\n",
      "Please enter the number of classes \n",
      " Enter 1 if you are dealing with a regression problem: 4\n",
      "=========================\n",
      "Shapes after the Convolutions [(38, 38), (36, 36), (17, 17)]\n",
      "=========================\n",
      "10/15 - Batch size input\n",
      "Please enter the batch size: 32\n",
      "Batch Size:  32\n",
      "=========================\n",
      "11/15 - Validation set size\n",
      "Please enter the validation set size (size > 0 and size < 1) \n",
      " For default size, please directly press enter without any input: \n",
      "Default value selected\n",
      "Validation set ratio:  0.2\n",
      "=========================\n",
      "12/15 - Loss function\n",
      "Please enter the appropriate loss function for the problem: \n",
      " Criterion_list - [1: CrossEntropyLoss, 2: L1Loss, 3: SmoothL1Loss, 4: MSELoss]: 1\n",
      "Loss Function:  CrossEntropyLoss()\n",
      "=========================\n",
      "13/15 - Optimizer\n",
      "Please enter the optimizer for the problem \n",
      " Optimizer_list - [1: Adam, 2: SGD] \n",
      " For default optimizer, please directly press enter without any input: 1\n",
      "Please enter a required postive value for learning rate \n",
      " For default learning rate, please directly press enter without any input: \n",
      "Default value selected\n",
      "Optimizer:  Adam (\n",
      "Parameter Group 0\n",
      "    amsgrad: False\n",
      "    betas: (0.9, 0.999)\n",
      "    eps: 1e-08\n",
      "    lr: 0.001\n",
      "    weight_decay: 0\n",
      ")\n",
      "=========================\n",
      "14/15 - Scheduler\n",
      "Please enter the scheduler for the problem: Scheduler_list - [1: None, 2:StepLR, 3:MultiStepLR] \n",
      " For default option of no scheduler, please directly press enter without any input: \n",
      "By default no scheduler selected\n",
      "Scheduler:  None\n",
      "=========================\n",
      "15/15 - Number of epochs\n",
      "Please enter the number of epochs to train the model: 10\n",
      "Epochs:  10\n",
      "=========================\n",
      "Neural network architecture: \n",
      " \n",
      "CNN2D(\n",
      "  (ConvNet): Sequential(\n",
      "    (0): CNNBlock(\n",
      "      (conv1): Conv2d(1, 4, kernel_size=(3, 3), stride=(1, 1))\n",
      "      (relu): ReLU(inplace=True)\n",
      "      (bn1): BatchNorm2d(4, eps=1e-05, momentum=0.1, affine=True, track_running_stats=True)\n",
      "    )\n",
      "    (1): CNNBlock(\n",
      "      (conv1): Conv2d(4, 8, kernel_size=(3, 3), stride=(1, 1))\n",
      "      (relu): ReLU(inplace=True)\n",
      "      (bn1): BatchNorm2d(8, eps=1e-05, momentum=0.1, affine=True, track_running_stats=True)\n",
      "    )\n",
      "    (2): CNNBlock(\n",
      "      (conv1): Conv2d(8, 16, kernel_size=(3, 3), stride=(1, 1))\n",
      "      (relu): ReLU(inplace=True)\n",
      "      (bn1): BatchNorm2d(16, eps=1e-05, momentum=0.1, affine=True, track_running_stats=True)\n",
      "      (pool): MaxPool2d(kernel_size=(2, 2), stride=(2, 2), padding=0, dilation=1, ceil_mode=False)\n",
      "    )\n",
      "    (3): Linear(in_features=4624, out_features=2312, bias=True)\n",
      "    (4): Linear(in_features=2312, out_features=1156, bias=True)\n",
      "    (5): Dropout(p=0.2, inplace=False)\n",
      "    (6): Linear(in_features=1156, out_features=4, bias=True)\n",
      "  )\n",
      ")\n",
      "=========================\n",
      "Model Summary:\n",
      " \n",
      "Criterion:  CrossEntropyLoss()\n",
      "Optimizer:  Adam (\n",
      "Parameter Group 0\n",
      "    amsgrad: False\n",
      "    betas: (0.9, 0.999)\n",
      "    eps: 1e-08\n",
      "    lr: 0.001\n",
      "    weight_decay: 0\n",
      ")\n",
      "Scheduler:  None\n",
      "Validation set size:  0.2\n",
      "Batch size:  32\n",
      "Initial learning rate:  0.001\n",
      "Number of training epochs:  10\n",
      "Device:  cuda\n",
      " \n",
      "=========================\n",
      "Training the model...\n",
      "Epoch_Number:  0\n",
      "Training Loss:  3.726541767556334\n",
      "Training Accuracy:  69.05773999291533 %\n",
      "Validation Loss:  0.7864757737479979\n",
      "Validation Accuracy:  75.0 %\n",
      "Epoch Time:  4.722482681274414 s\n",
      "##################################################\n",
      "Epoch_Number:  1\n",
      "Training Loss:  0.8501315332810224\n",
      "Training Accuracy:  71.26284094934466 %\n",
      "Validation Loss:  0.7362895880223986\n",
      "Validation Accuracy:  74.57507082152975 %\n",
      "Epoch Time:  4.463609457015991 s\n",
      "##################################################\n",
      "Epoch_Number:  2\n",
      "Training Loss:  1.1595287238856904\n",
      "Training Accuracy:  71.53146770575039 %\n",
      "Validation Loss:  0.8976081183597506\n",
      "Validation Accuracy:  73.93767705382436 %\n",
      "Epoch Time:  4.478610992431641 s\n",
      "##################################################\n",
      "Epoch_Number:  3\n",
      "Training Loss:  0.8676046980899533\n",
      "Training Accuracy:  72.57793127878143 %\n",
      "Validation Loss:  0.639371636833696\n",
      "Validation Accuracy:  77.69121813031161 %\n",
      "Epoch Time:  4.473017454147339 s\n",
      "##################################################\n",
      "Epoch_Number:  4\n",
      "Training Loss:  0.7668184528334251\n",
      "Training Accuracy:  73.21289408430748 %\n",
      "Validation Loss:  0.7165114827557886\n",
      "Validation Accuracy:  75.70821529745042 %\n",
      "Epoch Time:  4.513111352920532 s\n",
      "##################################################\n",
      "Epoch_Number:  5\n",
      "Training Loss:  0.701145470641538\n",
      "Training Accuracy:  73.89892549297437 %\n",
      "Validation Loss:  0.6262016203572415\n",
      "Validation Accuracy:  78.89518413597733 %\n",
      "Epoch Time:  4.513827562332153 s\n",
      "##################################################\n",
      "Epoch_Number:  6\n",
      "Training Loss:  0.6901378810377741\n",
      "Training Accuracy:  74.35858509184757 %\n",
      "Validation Loss:  0.6537814446899188\n",
      "Validation Accuracy:  78.6827195467422 %\n",
      "Epoch Time:  4.519550085067749 s\n",
      "##################################################\n",
      "Epoch_Number:  7\n",
      "Training Loss:  0.6603023542372142\n",
      "Training Accuracy:  74.74539496989019 %\n",
      "Validation Loss:  0.6674858461245202\n",
      "Validation Accuracy:  78.82436260623228 %\n",
      "Epoch Time:  4.530595779418945 s\n",
      "##################################################\n",
      "Epoch_Number:  8\n",
      "Training Loss:  0.6820933280165818\n",
      "Training Accuracy:  75.04427913567127 %\n",
      "Validation Loss:  0.6422817357747067\n",
      "Validation Accuracy:  78.61189801699717 %\n",
      "Epoch Time:  4.637543439865112 s\n",
      "##################################################\n",
      "Epoch_Number:  9\n",
      "Training Loss:  10.3740263771147\n",
      "Training Accuracy:  74.3907190931633 %\n"
     ]
    },
    {
     "name": "stderr",
     "output_type": "stream",
     "text": [
      "/home/cmu/anaconda3/envs/manutest/lib/python3.6/site-packages/ManufacturingNet/models/CNN.py:1054: VisibleDeprecationWarning: Creating an ndarray from ragged nested sequences (which is a list-or-tuple of lists-or-tuples-or ndarrays with different lengths or shapes) is deprecated. If you meant to do this, you must specify 'dtype=object' when creating the ndarray\n",
      "  np.array(self.predict)), np.concatenate(np.array(self.actual)))\n"
     ]
    },
    {
     "name": "stdout",
     "output_type": "stream",
     "text": [
      "Validation Loss:  153.08202453980877\n",
      "Validation Accuracy:  8.569405099150142 %\n",
      "Epoch Time:  4.549627304077148 s\n",
      "##################################################\n",
      "Confusion Matix: \n",
      "[[ 30  13  24 140]\n",
      " [  2   4   6  15]\n",
      " [  2   9  13  26]\n",
      " [837  74 143  74]]\n",
      "Do you want to save the model weights? (y/n): n\n",
      "=========================\n",
      " Call get_prediction() to make predictions on new data\n",
      " \n",
      "=== End of training ===\n"
     ]
    },
    {
     "data": {
      "text/plain": [
       "<ManufacturingNet.models.CNN.CNN2DSignal at 0x7fda483f9f28>"
      ]
     },
     "execution_count": 8,
     "metadata": {},
     "output_type": "execute_result"
    },
    {
     "data": {
      "image/png": "[encoded data removed]",
      "text/plain": [
       "<Figure size 576x576 with 1 Axes>"
      ]
     },
     "metadata": {
      "needs_background": "light"
     },
     "output_type": "display_data"
    },
    {
     "data": {
      "image/png": "[encoded data removed]",
      "text/plain": [
       "<Figure size 576x576 with 1 Axes>"
      ]
     },
     "metadata": {
      "needs_background": "light"
     },
     "output_type": "display_data"
    }
   ],
   "source": [
    "CNN2DSignal(X,Y)"
   ]
  },
  {
   "cell_type": "markdown",
   "metadata": {},
   "source": [
    "Alright! Its done you have built your convolutional neural network using the manufacturingnet package. Just by answering a few simple questions. It is really easy\n",
    "\n",
    "The CNN signal is used if you want to manipulate your signal data and use it with CNN. It is a useful technique that we used in our other projects like bearing classification. It is important to note that tutorials are for demonstration purposes and hence in most of the tutorials we have trianed for low number of epochs and hence results may not represent the state-of-the art\n",
    "\n",
    "The model summary, training accuracy, validation accuracy, confusion matrix, Loss  vs epoch are also provided by the package."
   ]
  }
 ],
 "metadata": {
  "kernelspec": {
   "display_name": "Python [conda env:manutest] *",
   "language": "python",
   "name": "conda-env-manutest-py"
  },
  "language_info": {
   "codemirror_mode": {
    "name": "ipython",
    "version": 3
   },
   "file_extension": ".py",
   "mimetype": "text/x-python",
   "name": "python",
   "nbconvert_exporter": "python",
   "pygments_lexer": "ipython3",
   "version": "3.6.10"
  }
 },
 "nbformat": 4,
 "nbformat_minor": 2
}
