{
 "cells": [
  {
   "cell_type": "markdown",
   "metadata": {},
   "source": [
    "# Developing a 2D Convolutional Neural Network (CNN) using ManufacturingNet\n",
    "###### To know more about the manufacturingnet please visit: http://manufacturingnet.io/ "
   ]
  },
  {
   "cell_type": "code",
   "execution_count": 2,
   "metadata": {},
   "outputs": [],
   "source": [
    "import ManufacturingNet\n",
    "import numpy as np"
   ]
  },
  {
   "cell_type": "markdown",
   "metadata": {},
   "source": [
    "First we import manufacturingnet. Using manufacturingnet we can create different types of neural networks like CNNs with greater ease.\n",
    "\n",
    "It is important to note that all the dependencies of the package must also be installed in your environment "
   ]
  },
  {
   "cell_type": "markdown",
   "metadata": {},
   "source": [
    "##### For any machine learning model the most important thing is the dataset. So we first need to download the data depending on the application. ManufacturingNet offers a dataset class where we have curated different types of datasets and you just need to run two lines of code to download the data :)"
   ]
  },
  {
   "cell_type": "code",
   "execution_count": 3,
   "metadata": {},
   "outputs": [],
   "source": [
    "from ManufacturingNet import datasets"
   ]
  },
  {
   "cell_type": "markdown",
   "metadata": {},
   "source": [
    "###### Please be patient downloading the data may take some time"
   ]
  },
  {
   "cell_type": "code",
   "execution_count": 4,
   "metadata": {},
   "outputs": [
    {
     "name": "stderr",
     "output_type": "stream",
     "text": [
      "Downloading...\n",
      "From: https://drive.google.com/uc?id=1z_2ceidvHmE5p7XCD4PaGn4ezvcZMxdD\n",
      "To: /home/cmu/ManufacturingNet/tutorials/ChatterData.zip\n",
      "100%|██████████| 86.3M/86.3M [00:06<00:00, 12.9MB/s]\n"
     ]
    }
   ],
   "source": [
    "datasets.ChatterData()"
   ]
  },
  {
   "cell_type": "markdown",
   "metadata": {},
   "source": [
    "###### Great! The data has been downloaded to your working directory. You can use to develop cool machine learning models."
   ]
  },
  {
   "cell_type": "markdown",
   "metadata": {},
   "source": [
    "The Turning chatter dataset is a vibration signals dataset with 4 classes. The classes are an indicator of the no-chatter, intermediate chatter, chatter, and unknown chatter. The dataset is useful to the userd who are interested in applying machine learning to machining datasets."
   ]
  },
  {
   "cell_type": "markdown",
   "metadata": {},
   "source": [
    "###### It is important to note that the path that the tutorial developer used in the below cell may be different than the user. The users will have figure it out if this bit of code does not work as is in their systems. "
   ]
  },
  {
   "cell_type": "code",
   "execution_count": 5,
   "metadata": {},
   "outputs": [],
   "source": [
    "# Lets load the data\n",
    "X =  np.load('./Turning_chatter/raw_signal_data.npy', allow_pickle = True)\n",
    "Y = np.load('./Turning_chatter/signal_data_labels.npy', allow_pickle = True)"
   ]
  },
  {
   "cell_type": "code",
   "execution_count": 7,
   "metadata": {},
   "outputs": [
    {
     "data": {
      "text/plain": [
       "((7058, 1600), (7058,))"
      ]
     },
     "execution_count": 7,
     "metadata": {},
     "output_type": "execute_result"
    }
   ],
   "source": [
    "#Lets check what is the shape of the data\n",
    "X.shape, Y.shape"
   ]
  },
  {
   "cell_type": "markdown",
   "metadata": {},
   "source": [
    "Alright we need to reshape the data to run the CNN2D signal. The CNN takes as input the data in form of channels, height, width. In the manufacturingnet paper we have used a size of 40,40 to get the results. So lets reshape all the datapoints X  to that (1,40,40)."
   ]
  },
  {
   "cell_type": "code",
   "execution_count": 6,
   "metadata": {},
   "outputs": [],
   "source": [
    "X = X.reshape(len(X),1,40,40)"
   ]
  },
  {
   "cell_type": "markdown",
   "metadata": {},
   "source": [
    "#### The next step is importing CNN2D "
   ]
  },
  {
   "cell_type": "code",
   "execution_count": 7,
   "metadata": {},
   "outputs": [],
   "source": [
    "from ManufacturingNet.models import CNN2DSignal"
   ]
  },
  {
   "cell_type": "markdown",
   "metadata": {},
   "source": [
    "###### We import the Deep Neural Network (DNNModel ) from package and answer a few simple questions"
   ]
  },
  {
   "cell_type": "code",
   "execution_count": null,
   "metadata": {},
   "outputs": [],
   "source": [
    "CNN2DSignal(X,Y)"
   ]
  },
  {
   "cell_type": "markdown",
   "metadata": {},
   "source": [
    "Alright! Its done you have built your convolutional neural network using the manufacturingnet package. Just by answering a few simple questions. It is really easy\n",
    "\n",
    "The CNN signal is used if you want to manipulate your signal data and use it with CNN. It is a useful technique that we used in our other projects like bearing fault classification. It is important to note that tutorials are for demonstration purposes and hence in most of the tutorials we have trained for low number of epochs so results the results in tutorials may not represent the state-of-the art\n",
    "\n",
    "The model summary, training accuracy, validation accuracy, confusion matrix, Loss  vs epoch are also provided by the package."
   ]
  }
 ],
 "metadata": {
  "kernelspec": {
   "display_name": "robotics",
   "language": "python",
   "name": "python3"
  },
  "language_info": {
   "codemirror_mode": {
    "name": "ipython",
    "version": 3
   },
   "file_extension": ".py",
   "mimetype": "text/x-python",
   "name": "python",
   "nbconvert_exporter": "python",
   "pygments_lexer": "ipython3",
   "version": "3.8.16"
  },
  "vscode": {
   "interpreter": {
    "hash": "18cf912b356ea838ce5984d5dd427c109d0098d9758c1980ff8b664fe2b3a2be"
   }
  }
 },
 "nbformat": 4,
 "nbformat_minor": 2
}
